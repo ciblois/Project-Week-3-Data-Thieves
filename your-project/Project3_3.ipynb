{
 "cells": [
  {
   "cell_type": "code",
   "execution_count": 1,
   "metadata": {},
   "outputs": [],
   "source": [
    "import requests\n",
    "from bs4 import BeautifulSoup\n",
    "import pandas as pd"
   ]
  },
  {
   "cell_type": "code",
   "execution_count": 2,
   "metadata": {},
   "outputs": [],
   "source": [
    "#Get dates and gameid for each game in 2020/2021 English Premier League\n",
    "\n",
    "url='https://api.sportsdata.io/v3/soccer/scores/json/CompetitionDetails/EPL'\n",
    "\n",
    "response=requests.get(url, headers = {\"Ocp-Apim-Subscription-Key\": \"7e69e12a9f714caebb8c178cf904e445\"})\n",
    "\n",
    "result=pd.json_normalize(response.json())\n",
    "games = pd.DataFrame(result['Games'][0])#.flatten()#.columns\n",
    "\n",
    "games_final = games[['GameId','AwayTeamId','HomeTeamId','Day','AwayTeamName','HomeTeamName']]\n",
    "\n",
    "Days=games_final['Day'].unique().tolist()\n",
    "\n",
    "games_final['Day'] = pd.to_datetime(games_final['Day'])\n",
    "\n",
    "TeamID = games_final['AwayTeamId'].unique().tolist()\n",
    "\n"
   ]
  },
  {
   "cell_type": "code",
   "execution_count": 3,
   "metadata": {},
   "outputs": [],
   "source": [
    "url='https://api.sportsdata.io/v3/soccer/odds/json/GameOddsByDate/2020-09-12'\n",
    "\n",
    "response=requests.get(url, headers = {\"Ocp-Apim-Subscription-Key\": \"7e69e12a9f714caebb8c178cf904e445\"})\n",
    "\n",
    "response=response.json()\n",
    "result=pd.DataFrame(response)"
   ]
  },
  {
   "cell_type": "code",
   "execution_count": 4,
   "metadata": {},
   "outputs": [],
   "source": [
    "#Selecting games only from EPL\n",
    "\n",
    "result=result[result['RoundId']==602].reset_index()\n",
    "\n",
    "\n",
    "#Selecting games which happened\n",
    "\n",
    "result=result[result['Status']=='Final']"
   ]
  },
  {
   "cell_type": "code",
   "execution_count": 5,
   "metadata": {},
   "outputs": [
    {
     "output_type": "execute_result",
     "data": {
      "text/plain": [
       "   index  GameId  RoundId  Season  SeasonType  Week                  Day  \\\n",
       "2      6   32481      602    2021           1   1.0  2020-09-12T00:00:00   \n",
       "3      9   32486      602    2021           1   1.0  2020-09-12T00:00:00   \n",
       "4    190   32482      602    2021           1   1.0  2020-09-12T00:00:00   \n",
       "5    196   32485      602    2021           1   1.0  2020-09-12T00:00:00   \n",
       "\n",
       "              DateTime Status  AwayTeamId  ...         AwayTeamName  \\\n",
       "2  2020-09-12T11:30:00  Final         509  ...           Arsenal FC   \n",
       "3  2020-09-12T14:00:00  Final         520  ...       Southampton FC   \n",
       "4  2020-09-12T16:30:00  Final        2148  ...      Leeds United FC   \n",
       "5  2020-09-12T19:00:00  Final         518  ...  Newcastle United FC   \n",
       "\n",
       "         HomeTeamName GlobalGameId  GlobalAwayTeamId  GlobalHomeTeamId  \\\n",
       "2           Fulham FC     90032481          90000509          90001462   \n",
       "3   Crystal Palace FC     90032486          90000520          90000512   \n",
       "4        Liverpool FC     90032482          90002148          90000515   \n",
       "5  West Ham United FC     90032485          90000518          90000527   \n",
       "\n",
       "   HomeTeamScore  AwayTeamScore  TotalScore  \\\n",
       "2            0.0            6.0         6.0   \n",
       "3            2.0            0.0         2.0   \n",
       "4            8.0            6.0        14.0   \n",
       "5            0.0            4.0         4.0   \n",
       "\n",
       "                                         PregameOdds LiveOdds  \n",
       "2  [{'GameOddId': 1178854, 'Sportsbook': 'Scrambl...       []  \n",
       "3  [{'GameOddId': 1178999, 'Sportsbook': 'Scrambl...       []  \n",
       "4  [{'GameOddId': 1179164, 'Sportsbook': 'Scrambl...       []  \n",
       "5  [{'GameOddId': 1179305, 'Sportsbook': 'Scrambl...       []  \n",
       "\n",
       "[4 rows x 21 columns]"
      ],
      "text/html": "<div>\n<style scoped>\n    .dataframe tbody tr th:only-of-type {\n        vertical-align: middle;\n    }\n\n    .dataframe tbody tr th {\n        vertical-align: top;\n    }\n\n    .dataframe thead th {\n        text-align: right;\n    }\n</style>\n<table border=\"1\" class=\"dataframe\">\n  <thead>\n    <tr style=\"text-align: right;\">\n      <th></th>\n      <th>index</th>\n      <th>GameId</th>\n      <th>RoundId</th>\n      <th>Season</th>\n      <th>SeasonType</th>\n      <th>Week</th>\n      <th>Day</th>\n      <th>DateTime</th>\n      <th>Status</th>\n      <th>AwayTeamId</th>\n      <th>...</th>\n      <th>AwayTeamName</th>\n      <th>HomeTeamName</th>\n      <th>GlobalGameId</th>\n      <th>GlobalAwayTeamId</th>\n      <th>GlobalHomeTeamId</th>\n      <th>HomeTeamScore</th>\n      <th>AwayTeamScore</th>\n      <th>TotalScore</th>\n      <th>PregameOdds</th>\n      <th>LiveOdds</th>\n    </tr>\n  </thead>\n  <tbody>\n    <tr>\n      <th>2</th>\n      <td>6</td>\n      <td>32481</td>\n      <td>602</td>\n      <td>2021</td>\n      <td>1</td>\n      <td>1.0</td>\n      <td>2020-09-12T00:00:00</td>\n      <td>2020-09-12T11:30:00</td>\n      <td>Final</td>\n      <td>509</td>\n      <td>...</td>\n      <td>Arsenal FC</td>\n      <td>Fulham FC</td>\n      <td>90032481</td>\n      <td>90000509</td>\n      <td>90001462</td>\n      <td>0.0</td>\n      <td>6.0</td>\n      <td>6.0</td>\n      <td>[{'GameOddId': 1178854, 'Sportsbook': 'Scrambl...</td>\n      <td>[]</td>\n    </tr>\n    <tr>\n      <th>3</th>\n      <td>9</td>\n      <td>32486</td>\n      <td>602</td>\n      <td>2021</td>\n      <td>1</td>\n      <td>1.0</td>\n      <td>2020-09-12T00:00:00</td>\n      <td>2020-09-12T14:00:00</td>\n      <td>Final</td>\n      <td>520</td>\n      <td>...</td>\n      <td>Southampton FC</td>\n      <td>Crystal Palace FC</td>\n      <td>90032486</td>\n      <td>90000520</td>\n      <td>90000512</td>\n      <td>2.0</td>\n      <td>0.0</td>\n      <td>2.0</td>\n      <td>[{'GameOddId': 1178999, 'Sportsbook': 'Scrambl...</td>\n      <td>[]</td>\n    </tr>\n    <tr>\n      <th>4</th>\n      <td>190</td>\n      <td>32482</td>\n      <td>602</td>\n      <td>2021</td>\n      <td>1</td>\n      <td>1.0</td>\n      <td>2020-09-12T00:00:00</td>\n      <td>2020-09-12T16:30:00</td>\n      <td>Final</td>\n      <td>2148</td>\n      <td>...</td>\n      <td>Leeds United FC</td>\n      <td>Liverpool FC</td>\n      <td>90032482</td>\n      <td>90002148</td>\n      <td>90000515</td>\n      <td>8.0</td>\n      <td>6.0</td>\n      <td>14.0</td>\n      <td>[{'GameOddId': 1179164, 'Sportsbook': 'Scrambl...</td>\n      <td>[]</td>\n    </tr>\n    <tr>\n      <th>5</th>\n      <td>196</td>\n      <td>32485</td>\n      <td>602</td>\n      <td>2021</td>\n      <td>1</td>\n      <td>1.0</td>\n      <td>2020-09-12T00:00:00</td>\n      <td>2020-09-12T19:00:00</td>\n      <td>Final</td>\n      <td>518</td>\n      <td>...</td>\n      <td>Newcastle United FC</td>\n      <td>West Ham United FC</td>\n      <td>90032485</td>\n      <td>90000518</td>\n      <td>90000527</td>\n      <td>0.0</td>\n      <td>4.0</td>\n      <td>4.0</td>\n      <td>[{'GameOddId': 1179305, 'Sportsbook': 'Scrambl...</td>\n      <td>[]</td>\n    </tr>\n  </tbody>\n</table>\n<p>4 rows × 21 columns</p>\n</div>"
     },
     "metadata": {},
     "execution_count": 5
    }
   ],
   "source": [
    "result"
   ]
  },
  {
   "cell_type": "code",
   "execution_count": 6,
   "metadata": {},
   "outputs": [],
   "source": [
    "#Aggregated Odds per game \n",
    "\n",
    "odds=result['PregameOdds']\n",
    "\n",
    "empty_list = []\n",
    "\n",
    "for i in range(len(odds)):\n",
    "    \n",
    "    try:\n",
    "        \n",
    "        empty_list.append(pd.DataFrame(odds[i]))\n",
    "    \n",
    "    except: \n",
    "        \n",
    "        continue\n",
    "        \n",
    "games_odds=pd.concat(empty_list)\n",
    "\n",
    "games=games_odds.groupby('GameId').agg({'HomeMoneyLine':'mean','AwayMoneyLine':'mean','DrawMoneyLine':'mean'})\n"
   ]
  },
  {
   "cell_type": "code",
   "execution_count": 7,
   "metadata": {},
   "outputs": [],
   "source": [
    "#Merging with initial table\n",
    "\n",
    "daily_games = pd.merge(left = result,\n",
    "                                 right = games,\n",
    "                                 how = 'inner', \n",
    "                                 left_on = \"GameId\", \n",
    "                                 right_on= \"GameId\")\n",
    "\n",
    "\n",
    "daily_games=daily_games[['GameId', 'RoundId','Day', \n",
    "                         'AwayTeamId', 'HomeTeamId', 'AwayTeamName', 'HomeTeamName','HomeTeamScore',\n",
    "                         'AwayTeamScore', 'TotalScore','HomeMoneyLine', 'AwayMoneyLine', 'DrawMoneyLine']]\n",
    "\n",
    "daily_games[['Day']]=pd.to_datetime(daily_games['Day'])"
   ]
  },
  {
   "cell_type": "code",
   "execution_count": 8,
   "metadata": {},
   "outputs": [],
   "source": [
    "#winner column\n",
    "for index, row in daily_games.iterrows():\n",
    "    if row['HomeTeamScore'] > row['AwayTeamScore']:\n",
    "        #df.loc[index,'nova_coluna'] =  str(df.loc[index,'CODIGO'])  \n",
    "        daily_games['Winner'] =  'Home'\n",
    "    elif row['HomeTeamScore'] < row['AwayTeamScore']:\n",
    "        daily_games['Winner'] =   'Away'\n",
    "    else:\n",
    "        daily_games['Winner'] =  'Tie'"
   ]
  },
  {
   "cell_type": "code",
   "execution_count": 21,
   "metadata": {},
   "outputs": [
    {
     "output_type": "error",
     "ename": "KeyError",
     "evalue": "\"None of [Float64Index([0.0, 6.0], dtype='float64')] are in the [columns]\"",
     "traceback": [
      "\u001b[1;31m---------------------------------------------------------------------------\u001b[0m",
      "\u001b[1;31mKeyError\u001b[0m                                  Traceback (most recent call last)",
      "\u001b[1;32m<ipython-input-21-715ba76c3563>\u001b[0m in \u001b[0;36m<module>\u001b[1;34m\u001b[0m\n\u001b[0;32m      7\u001b[0m         \u001b[1;32mreturn\u001b[0m \u001b[1;34m'Tie'\u001b[0m\u001b[1;33m\u001b[0m\u001b[1;33m\u001b[0m\u001b[0m\n\u001b[0;32m      8\u001b[0m \u001b[1;33m\u001b[0m\u001b[0m\n\u001b[1;32m----> 9\u001b[1;33m \u001b[0mdaily_games\u001b[0m\u001b[1;33m[\u001b[0m\u001b[1;34m'Winner2'\u001b[0m\u001b[1;33m]\u001b[0m \u001b[1;33m=\u001b[0m \u001b[0mdaily_games\u001b[0m\u001b[1;33m[\u001b[0m\u001b[1;33m[\u001b[0m\u001b[1;34m'HomeTeamScore'\u001b[0m\u001b[1;33m,\u001b[0m \u001b[1;34m'AwayTeamScore'\u001b[0m\u001b[1;33m]\u001b[0m\u001b[1;33m]\u001b[0m\u001b[1;33m.\u001b[0m\u001b[0mapply\u001b[0m\u001b[1;33m(\u001b[0m\u001b[1;32mlambda\u001b[0m \u001b[0mx\u001b[0m\u001b[1;33m:\u001b[0m \u001b[0mwinner\u001b[0m\u001b[1;33m(\u001b[0m\u001b[0mx\u001b[0m\u001b[1;33m)\u001b[0m\u001b[1;33m,\u001b[0m \u001b[0maxis\u001b[0m\u001b[1;33m=\u001b[0m\u001b[1;36m1\u001b[0m\u001b[1;33m)\u001b[0m\u001b[1;33m\u001b[0m\u001b[1;33m\u001b[0m\u001b[0m\n\u001b[0m",
      "\u001b[1;32mC:\\cygwin\\Anaconda3\\lib\\site-packages\\pandas\\core\\frame.py\u001b[0m in \u001b[0;36mapply\u001b[1;34m(self, func, axis, raw, result_type, args, **kwds)\u001b[0m\n\u001b[0;32m   6876\u001b[0m             \u001b[0mkwds\u001b[0m\u001b[1;33m=\u001b[0m\u001b[0mkwds\u001b[0m\u001b[1;33m,\u001b[0m\u001b[1;33m\u001b[0m\u001b[1;33m\u001b[0m\u001b[0m\n\u001b[0;32m   6877\u001b[0m         )\n\u001b[1;32m-> 6878\u001b[1;33m         \u001b[1;32mreturn\u001b[0m \u001b[0mop\u001b[0m\u001b[1;33m.\u001b[0m\u001b[0mget_result\u001b[0m\u001b[1;33m(\u001b[0m\u001b[1;33m)\u001b[0m\u001b[1;33m\u001b[0m\u001b[1;33m\u001b[0m\u001b[0m\n\u001b[0m\u001b[0;32m   6879\u001b[0m \u001b[1;33m\u001b[0m\u001b[0m\n\u001b[0;32m   6880\u001b[0m     \u001b[1;32mdef\u001b[0m \u001b[0mapplymap\u001b[0m\u001b[1;33m(\u001b[0m\u001b[0mself\u001b[0m\u001b[1;33m,\u001b[0m \u001b[0mfunc\u001b[0m\u001b[1;33m)\u001b[0m \u001b[1;33m->\u001b[0m \u001b[1;34m\"DataFrame\"\u001b[0m\u001b[1;33m:\u001b[0m\u001b[1;33m\u001b[0m\u001b[1;33m\u001b[0m\u001b[0m\n",
      "\u001b[1;32mC:\\cygwin\\Anaconda3\\lib\\site-packages\\pandas\\core\\apply.py\u001b[0m in \u001b[0;36mget_result\u001b[1;34m(self)\u001b[0m\n\u001b[0;32m    184\u001b[0m             \u001b[1;32mreturn\u001b[0m \u001b[0mself\u001b[0m\u001b[1;33m.\u001b[0m\u001b[0mapply_raw\u001b[0m\u001b[1;33m(\u001b[0m\u001b[1;33m)\u001b[0m\u001b[1;33m\u001b[0m\u001b[1;33m\u001b[0m\u001b[0m\n\u001b[0;32m    185\u001b[0m \u001b[1;33m\u001b[0m\u001b[0m\n\u001b[1;32m--> 186\u001b[1;33m         \u001b[1;32mreturn\u001b[0m \u001b[0mself\u001b[0m\u001b[1;33m.\u001b[0m\u001b[0mapply_standard\u001b[0m\u001b[1;33m(\u001b[0m\u001b[1;33m)\u001b[0m\u001b[1;33m\u001b[0m\u001b[1;33m\u001b[0m\u001b[0m\n\u001b[0m\u001b[0;32m    187\u001b[0m \u001b[1;33m\u001b[0m\u001b[0m\n\u001b[0;32m    188\u001b[0m     \u001b[1;32mdef\u001b[0m \u001b[0mapply_empty_result\u001b[0m\u001b[1;33m(\u001b[0m\u001b[0mself\u001b[0m\u001b[1;33m)\u001b[0m\u001b[1;33m:\u001b[0m\u001b[1;33m\u001b[0m\u001b[1;33m\u001b[0m\u001b[0m\n",
      "\u001b[1;32mC:\\cygwin\\Anaconda3\\lib\\site-packages\\pandas\\core\\apply.py\u001b[0m in \u001b[0;36mapply_standard\u001b[1;34m(self)\u001b[0m\n\u001b[0;32m    293\u001b[0m \u001b[1;33m\u001b[0m\u001b[0m\n\u001b[0;32m    294\u001b[0m             \u001b[1;32mtry\u001b[0m\u001b[1;33m:\u001b[0m\u001b[1;33m\u001b[0m\u001b[1;33m\u001b[0m\u001b[0m\n\u001b[1;32m--> 295\u001b[1;33m                 result = libreduction.compute_reduction(\n\u001b[0m\u001b[0;32m    296\u001b[0m                     \u001b[0mvalues\u001b[0m\u001b[1;33m,\u001b[0m \u001b[0mself\u001b[0m\u001b[1;33m.\u001b[0m\u001b[0mf\u001b[0m\u001b[1;33m,\u001b[0m \u001b[0maxis\u001b[0m\u001b[1;33m=\u001b[0m\u001b[0mself\u001b[0m\u001b[1;33m.\u001b[0m\u001b[0maxis\u001b[0m\u001b[1;33m,\u001b[0m \u001b[0mdummy\u001b[0m\u001b[1;33m=\u001b[0m\u001b[0mdummy\u001b[0m\u001b[1;33m,\u001b[0m \u001b[0mlabels\u001b[0m\u001b[1;33m=\u001b[0m\u001b[0mlabels\u001b[0m\u001b[1;33m\u001b[0m\u001b[1;33m\u001b[0m\u001b[0m\n\u001b[0;32m    297\u001b[0m                 )\n",
      "\u001b[1;32mpandas\\_libs\\reduction.pyx\u001b[0m in \u001b[0;36mpandas._libs.reduction.compute_reduction\u001b[1;34m()\u001b[0m\n",
      "\u001b[1;32mpandas\\_libs\\reduction.pyx\u001b[0m in \u001b[0;36mpandas._libs.reduction.Reducer.get_result\u001b[1;34m()\u001b[0m\n",
      "\u001b[1;32m<ipython-input-21-715ba76c3563>\u001b[0m in \u001b[0;36m<lambda>\u001b[1;34m(x)\u001b[0m\n\u001b[0;32m      7\u001b[0m         \u001b[1;32mreturn\u001b[0m \u001b[1;34m'Tie'\u001b[0m\u001b[1;33m\u001b[0m\u001b[1;33m\u001b[0m\u001b[0m\n\u001b[0;32m      8\u001b[0m \u001b[1;33m\u001b[0m\u001b[0m\n\u001b[1;32m----> 9\u001b[1;33m \u001b[0mdaily_games\u001b[0m\u001b[1;33m[\u001b[0m\u001b[1;34m'Winner2'\u001b[0m\u001b[1;33m]\u001b[0m \u001b[1;33m=\u001b[0m \u001b[0mdaily_games\u001b[0m\u001b[1;33m[\u001b[0m\u001b[1;33m[\u001b[0m\u001b[1;34m'HomeTeamScore'\u001b[0m\u001b[1;33m,\u001b[0m \u001b[1;34m'AwayTeamScore'\u001b[0m\u001b[1;33m]\u001b[0m\u001b[1;33m]\u001b[0m\u001b[1;33m.\u001b[0m\u001b[0mapply\u001b[0m\u001b[1;33m(\u001b[0m\u001b[1;32mlambda\u001b[0m \u001b[0mx\u001b[0m\u001b[1;33m:\u001b[0m \u001b[0mwinner\u001b[0m\u001b[1;33m(\u001b[0m\u001b[0mx\u001b[0m\u001b[1;33m)\u001b[0m\u001b[1;33m,\u001b[0m \u001b[0maxis\u001b[0m\u001b[1;33m=\u001b[0m\u001b[1;36m1\u001b[0m\u001b[1;33m)\u001b[0m\u001b[1;33m\u001b[0m\u001b[1;33m\u001b[0m\u001b[0m\n\u001b[0m",
      "\u001b[1;32m<ipython-input-21-715ba76c3563>\u001b[0m in \u001b[0;36mwinner\u001b[1;34m(row)\u001b[0m\n\u001b[0;32m      1\u001b[0m \u001b[1;32mdef\u001b[0m \u001b[0mwinner\u001b[0m\u001b[1;33m(\u001b[0m\u001b[0mrow\u001b[0m\u001b[1;33m)\u001b[0m\u001b[1;33m:\u001b[0m\u001b[1;33m\u001b[0m\u001b[1;33m\u001b[0m\u001b[0m\n\u001b[1;32m----> 2\u001b[1;33m     \u001b[1;32mif\u001b[0m \u001b[0mdaily_games\u001b[0m\u001b[1;33m[\u001b[0m\u001b[0mrow\u001b[0m\u001b[1;33m]\u001b[0m \u001b[1;33m>\u001b[0m \u001b[0mdaily_games\u001b[0m\u001b[1;33m[\u001b[0m\u001b[0mrow\u001b[0m\u001b[1;33m]\u001b[0m\u001b[1;33m:\u001b[0m\u001b[1;33m\u001b[0m\u001b[1;33m\u001b[0m\u001b[0m\n\u001b[0m\u001b[0;32m      3\u001b[0m         \u001b[1;32mreturn\u001b[0m \u001b[1;34m'Home'\u001b[0m\u001b[1;33m\u001b[0m\u001b[1;33m\u001b[0m\u001b[0m\n\u001b[0;32m      4\u001b[0m     \u001b[1;32melif\u001b[0m \u001b[0mdaily_games\u001b[0m\u001b[1;33m[\u001b[0m\u001b[0mrow\u001b[0m\u001b[1;33m]\u001b[0m \u001b[1;33m<\u001b[0m \u001b[0mdaily_games\u001b[0m\u001b[1;33m[\u001b[0m\u001b[0mrow\u001b[0m\u001b[1;33m]\u001b[0m\u001b[1;33m:\u001b[0m\u001b[1;33m\u001b[0m\u001b[1;33m\u001b[0m\u001b[0m\n\u001b[0;32m      5\u001b[0m         \u001b[1;32mreturn\u001b[0m  \u001b[1;34m'Away'\u001b[0m\u001b[1;33m\u001b[0m\u001b[1;33m\u001b[0m\u001b[0m\n",
      "\u001b[1;32mC:\\cygwin\\Anaconda3\\lib\\site-packages\\pandas\\core\\frame.py\u001b[0m in \u001b[0;36m__getitem__\u001b[1;34m(self, key)\u001b[0m\n\u001b[0;32m   2804\u001b[0m             \u001b[1;32mif\u001b[0m \u001b[0mis_iterator\u001b[0m\u001b[1;33m(\u001b[0m\u001b[0mkey\u001b[0m\u001b[1;33m)\u001b[0m\u001b[1;33m:\u001b[0m\u001b[1;33m\u001b[0m\u001b[1;33m\u001b[0m\u001b[0m\n\u001b[0;32m   2805\u001b[0m                 \u001b[0mkey\u001b[0m \u001b[1;33m=\u001b[0m \u001b[0mlist\u001b[0m\u001b[1;33m(\u001b[0m\u001b[0mkey\u001b[0m\u001b[1;33m)\u001b[0m\u001b[1;33m\u001b[0m\u001b[1;33m\u001b[0m\u001b[0m\n\u001b[1;32m-> 2806\u001b[1;33m             \u001b[0mindexer\u001b[0m \u001b[1;33m=\u001b[0m \u001b[0mself\u001b[0m\u001b[1;33m.\u001b[0m\u001b[0mloc\u001b[0m\u001b[1;33m.\u001b[0m\u001b[0m_get_listlike_indexer\u001b[0m\u001b[1;33m(\u001b[0m\u001b[0mkey\u001b[0m\u001b[1;33m,\u001b[0m \u001b[0maxis\u001b[0m\u001b[1;33m=\u001b[0m\u001b[1;36m1\u001b[0m\u001b[1;33m,\u001b[0m \u001b[0mraise_missing\u001b[0m\u001b[1;33m=\u001b[0m\u001b[1;32mTrue\u001b[0m\u001b[1;33m)\u001b[0m\u001b[1;33m[\u001b[0m\u001b[1;36m1\u001b[0m\u001b[1;33m]\u001b[0m\u001b[1;33m\u001b[0m\u001b[1;33m\u001b[0m\u001b[0m\n\u001b[0m\u001b[0;32m   2807\u001b[0m \u001b[1;33m\u001b[0m\u001b[0m\n\u001b[0;32m   2808\u001b[0m         \u001b[1;31m# take() does not accept boolean indexers\u001b[0m\u001b[1;33m\u001b[0m\u001b[1;33m\u001b[0m\u001b[1;33m\u001b[0m\u001b[0m\n",
      "\u001b[1;32mC:\\cygwin\\Anaconda3\\lib\\site-packages\\pandas\\core\\indexing.py\u001b[0m in \u001b[0;36m_get_listlike_indexer\u001b[1;34m(self, key, axis, raise_missing)\u001b[0m\n\u001b[0;32m   1550\u001b[0m             \u001b[0mkeyarr\u001b[0m\u001b[1;33m,\u001b[0m \u001b[0mindexer\u001b[0m\u001b[1;33m,\u001b[0m \u001b[0mnew_indexer\u001b[0m \u001b[1;33m=\u001b[0m \u001b[0max\u001b[0m\u001b[1;33m.\u001b[0m\u001b[0m_reindex_non_unique\u001b[0m\u001b[1;33m(\u001b[0m\u001b[0mkeyarr\u001b[0m\u001b[1;33m)\u001b[0m\u001b[1;33m\u001b[0m\u001b[1;33m\u001b[0m\u001b[0m\n\u001b[0;32m   1551\u001b[0m \u001b[1;33m\u001b[0m\u001b[0m\n\u001b[1;32m-> 1552\u001b[1;33m         self._validate_read_indexer(\n\u001b[0m\u001b[0;32m   1553\u001b[0m             \u001b[0mkeyarr\u001b[0m\u001b[1;33m,\u001b[0m \u001b[0mindexer\u001b[0m\u001b[1;33m,\u001b[0m \u001b[0mo\u001b[0m\u001b[1;33m.\u001b[0m\u001b[0m_get_axis_number\u001b[0m\u001b[1;33m(\u001b[0m\u001b[0maxis\u001b[0m\u001b[1;33m)\u001b[0m\u001b[1;33m,\u001b[0m \u001b[0mraise_missing\u001b[0m\u001b[1;33m=\u001b[0m\u001b[0mraise_missing\u001b[0m\u001b[1;33m\u001b[0m\u001b[1;33m\u001b[0m\u001b[0m\n\u001b[0;32m   1554\u001b[0m         )\n",
      "\u001b[1;32mC:\\cygwin\\Anaconda3\\lib\\site-packages\\pandas\\core\\indexing.py\u001b[0m in \u001b[0;36m_validate_read_indexer\u001b[1;34m(self, key, indexer, axis, raise_missing)\u001b[0m\n\u001b[0;32m   1638\u001b[0m             \u001b[1;32mif\u001b[0m \u001b[0mmissing\u001b[0m \u001b[1;33m==\u001b[0m \u001b[0mlen\u001b[0m\u001b[1;33m(\u001b[0m\u001b[0mindexer\u001b[0m\u001b[1;33m)\u001b[0m\u001b[1;33m:\u001b[0m\u001b[1;33m\u001b[0m\u001b[1;33m\u001b[0m\u001b[0m\n\u001b[0;32m   1639\u001b[0m                 \u001b[0maxis_name\u001b[0m \u001b[1;33m=\u001b[0m \u001b[0mself\u001b[0m\u001b[1;33m.\u001b[0m\u001b[0mobj\u001b[0m\u001b[1;33m.\u001b[0m\u001b[0m_get_axis_name\u001b[0m\u001b[1;33m(\u001b[0m\u001b[0maxis\u001b[0m\u001b[1;33m)\u001b[0m\u001b[1;33m\u001b[0m\u001b[1;33m\u001b[0m\u001b[0m\n\u001b[1;32m-> 1640\u001b[1;33m                 \u001b[1;32mraise\u001b[0m \u001b[0mKeyError\u001b[0m\u001b[1;33m(\u001b[0m\u001b[1;34mf\"None of [{key}] are in the [{axis_name}]\"\u001b[0m\u001b[1;33m)\u001b[0m\u001b[1;33m\u001b[0m\u001b[1;33m\u001b[0m\u001b[0m\n\u001b[0m\u001b[0;32m   1641\u001b[0m \u001b[1;33m\u001b[0m\u001b[0m\n\u001b[0;32m   1642\u001b[0m             \u001b[1;31m# We (temporarily) allow for some missing keys with .loc, except in\u001b[0m\u001b[1;33m\u001b[0m\u001b[1;33m\u001b[0m\u001b[1;33m\u001b[0m\u001b[0m\n",
      "\u001b[1;31mKeyError\u001b[0m: \"None of [Float64Index([0.0, 6.0], dtype='float64')] are in the [columns]\""
     ]
    }
   ],
   "source": [
    "def winner(row):\n",
    "    if daily_games[row] > daily_games[row]:\n",
    "        return 'Home'\n",
    "    elif daily_games[row] < daily_games[row]:\n",
    "        return  'Away'\n",
    "    else:\n",
    "        return 'Tie'\n",
    "\n",
    "daily_games['Winner2'] = daily_games[['HomeTeamScore', 'AwayTeamScore']].apply(lambda x: winner(x), axis=1)\n"
   ]
  },
  {
   "cell_type": "code",
   "execution_count": 9,
   "metadata": {},
   "outputs": [
    {
     "output_type": "execute_result",
     "data": {
      "text/plain": [
       "   GameId  RoundId        Day  AwayTeamId  HomeTeamId    AwayTeamName  \\\n",
       "0   32481      602 2020-09-12         509        1462      Arsenal FC   \n",
       "1   32486      602 2020-09-12         520         512  Southampton FC   \n",
       "\n",
       "        HomeTeamName  HomeTeamScore  AwayTeamScore  TotalScore  HomeMoneyLine  \\\n",
       "0          Fulham FC            0.0            6.0         6.0     625.666667   \n",
       "1  Crystal Palace FC            2.0            0.0         2.0     298.333333   \n",
       "\n",
       "   AwayMoneyLine  DrawMoneyLine Winner  \n",
       "0    -212.833333     418.333333   Home  \n",
       "1     206.500000     319.833333   Home  "
      ],
      "text/html": "<div>\n<style scoped>\n    .dataframe tbody tr th:only-of-type {\n        vertical-align: middle;\n    }\n\n    .dataframe tbody tr th {\n        vertical-align: top;\n    }\n\n    .dataframe thead th {\n        text-align: right;\n    }\n</style>\n<table border=\"1\" class=\"dataframe\">\n  <thead>\n    <tr style=\"text-align: right;\">\n      <th></th>\n      <th>GameId</th>\n      <th>RoundId</th>\n      <th>Day</th>\n      <th>AwayTeamId</th>\n      <th>HomeTeamId</th>\n      <th>AwayTeamName</th>\n      <th>HomeTeamName</th>\n      <th>HomeTeamScore</th>\n      <th>AwayTeamScore</th>\n      <th>TotalScore</th>\n      <th>HomeMoneyLine</th>\n      <th>AwayMoneyLine</th>\n      <th>DrawMoneyLine</th>\n      <th>Winner</th>\n    </tr>\n  </thead>\n  <tbody>\n    <tr>\n      <th>0</th>\n      <td>32481</td>\n      <td>602</td>\n      <td>2020-09-12</td>\n      <td>509</td>\n      <td>1462</td>\n      <td>Arsenal FC</td>\n      <td>Fulham FC</td>\n      <td>0.0</td>\n      <td>6.0</td>\n      <td>6.0</td>\n      <td>625.666667</td>\n      <td>-212.833333</td>\n      <td>418.333333</td>\n      <td>Home</td>\n    </tr>\n    <tr>\n      <th>1</th>\n      <td>32486</td>\n      <td>602</td>\n      <td>2020-09-12</td>\n      <td>520</td>\n      <td>512</td>\n      <td>Southampton FC</td>\n      <td>Crystal Palace FC</td>\n      <td>2.0</td>\n      <td>0.0</td>\n      <td>2.0</td>\n      <td>298.333333</td>\n      <td>206.500000</td>\n      <td>319.833333</td>\n      <td>Home</td>\n    </tr>\n  </tbody>\n</table>\n</div>"
     },
     "metadata": {},
     "execution_count": 9
    }
   ],
   "source": [
    "daily_games"
   ]
  },
  {
   "cell_type": "code",
   "execution_count": null,
   "metadata": {},
   "outputs": [],
   "source": []
  },
  {
   "cell_type": "code",
   "execution_count": null,
   "metadata": {},
   "outputs": [],
   "source": []
  }
 ],
 "metadata": {
  "kernelspec": {
   "display_name": "Python 3",
   "language": "python",
   "name": "python3"
  },
  "language_info": {
   "codemirror_mode": {
    "name": "ipython",
    "version": 3
   },
   "file_extension": ".py",
   "mimetype": "text/x-python",
   "name": "python",
   "nbconvert_exporter": "python",
   "pygments_lexer": "ipython3",
   "version": "3.8.3-final"
  }
 },
 "nbformat": 4,
 "nbformat_minor": 4
}