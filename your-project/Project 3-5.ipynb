{
 "cells": [
  {
   "cell_type": "code",
   "execution_count": 4,
   "metadata": {},
   "outputs": [],
   "source": [
    "import requests\n",
    "from bs4 import BeautifulSoup\n",
    "import pandas as pd"
   ]
  },
  {
   "cell_type": "code",
   "execution_count": 5,
   "metadata": {},
   "outputs": [],
   "source": [
    "#Getting dates and gameid for each game in 2020/2021 English Premier League\n",
    "\n",
    "url='https://api.sportsdata.io/v3/soccer/scores/json/CompetitionDetails/EPL'\n",
    "\n",
    "response=requests.get(url, headers = {\"Ocp-Apim-Subscription-Key\": \"9b406f3bf146465baf4d1a70bfa055ac\"})\n",
    "\n",
    "result=pd.json_normalize(response.json())\n",
    "games = pd.DataFrame(result['Games'][0])#.flatten()#.columns\n",
    "\n",
    "games_final = games[['GameId','AwayTeamId','HomeTeamId','Day','AwayTeamName','HomeTeamName']]\n",
    "\n",
    "Days=games_final['Day'].unique().tolist()\n",
    "\n",
    "Days=[element[0:10] for element in Days]\n",
    "\n",
    "games_final['Day'] = pd.to_datetime(games_final['Day'])\n",
    "\n",
    "TeamID = games_final['AwayTeamId'].unique().tolist()\n",
    "\n",
    "Days=Days[:18]  ##### IMPORTANT: FOR DATES BEYOND THIS, EVENTS STILL HAVEN'T HAPPEN, SO CODE DOESN'T WORK\n",
    "\n",
    "#Function that returns a dataframe of the games for each date\n",
    "\n",
    "def daily_games(date):\n",
    "    \n",
    "    url='https://api.sportsdata.io/v3/soccer/odds/json/GameOddsByDate/'+date\n",
    "\n",
    "    response=requests.get(url, headers = {\"Ocp-Apim-Subscription-Key\": \"9b406f3bf146465baf4d1a70bfa055ac\"})\n",
    "\n",
    "    response=response.json()\n",
    "    result=pd.DataFrame(response)\n",
    "\n",
    "    #Selecting games only from EPL\n",
    "\n",
    "    result=result[result['RoundId']==602].reset_index()\n",
    "\n",
    "    \n",
    "    #Selecting games which happened\n",
    "\n",
    "    result=result[result['Status']=='Final']\n",
    "\n",
    "    #Aggregated Odds per game \n",
    "\n",
    "    odds=result['PregameOdds']\n",
    "\n",
    "    def element(x):\n",
    "        \n",
    "        return pd.DataFrame(x)\n",
    "            \n",
    "    games_odds=pd.concat(list(map(element,list(odds))))\n",
    "\n",
    "    games=games_odds.groupby('GameId').agg({'HomeMoneyLine':'mean','AwayMoneyLine':'mean','DrawMoneyLine':'mean'})\n",
    "\n",
    "    #Merging with initial table\n",
    "\n",
    "    daily_games = pd.merge(left = result,\n",
    "                                 right = games,\n",
    "                                 how = 'inner', \n",
    "                                 left_on = \"GameId\", \n",
    "                                 right_on= \"GameId\")\n",
    "\n",
    "\n",
    "    daily_games=daily_games[['GameId', 'RoundId','Day', \n",
    "                         'AwayTeamId', 'HomeTeamId', 'AwayTeamName', 'HomeTeamName','HomeTeamScore',\n",
    "                         'AwayTeamScore', 'TotalScore','HomeMoneyLine', 'AwayMoneyLine', 'DrawMoneyLine']]\n",
    "\n",
    "    daily_games[['Day']]=pd.to_datetime(daily_games['Day'])\n",
    "    \n",
    "    return daily_games\n",
    "\n",
    "#Applying above function to all dates contained in the list previously obtained. \n",
    "#The result is a dataframe with all games, scores and bets for the 2020/2021 EPL\n",
    "\n",
    "final_result=pd.concat(list(map(daily_games,Days)))\n",
    "\n",
    "#Building a column for the actual winner, based on scores presented\n",
    "\n",
    "def winner(row):\n",
    "    if row['HomeTeamScore']>row['AwayTeamScore']:\n",
    "        \n",
    "        return row['HomeTeamName']\n",
    "    \n",
    "    elif row['HomeTeamScore']<row['AwayTeamScore']:\n",
    "        \n",
    "        return row['AwayTeamName']\n",
    "    \n",
    "    elif row['HomeTeamScore']==row['AwayTeamScore']:\n",
    "        \n",
    "        return 'Tie'\n",
    "\n",
    "final_result['Winner']=final_result.apply(winner,axis=1)\n",
    "\n",
    "#Building a column for the predicted winner, based on bets presented\n",
    "\n",
    "def moneyline(row):\n",
    "    minimum=min(row['HomeMoneyLine'], row['AwayMoneyLine'], row['DrawMoneyLine'])\n",
    "    if row['HomeMoneyLine']==minimum:\n",
    "        return row['HomeTeamName']\n",
    "    elif row['AwayMoneyLine']==minimum:\n",
    "        return row['AwayTeamName']\n",
    "    elif row['DrawMoneyLine']==minimum:\n",
    "        return 'Tie'\n",
    "    \n",
    "final_result['Moneyline']=final_result.apply(moneyline,axis=1)\n",
    "\n",
    "#Rearraging the dataframe \n",
    "\n",
    "final_result.reset_index(inplace=True)\n",
    "\n",
    "final_result.drop(['index'],axis=1)\n",
    "\n",
    "final_result=final_result[['Day','HomeTeamName','AwayTeamName','Winner',\n",
    "       'Moneyline']]"
   ]
  },
  {
   "cell_type": "code",
   "execution_count": 6,
   "metadata": {},
   "outputs": [],
   "source": [
    "final_result.rename(columns={'Moneyline':'Prediction'},inplace=True)"
   ]
  },
  {
   "cell_type": "code",
   "execution_count": 8,
   "metadata": {},
   "outputs": [],
   "source": [
    "final_result\n",
    "final_result.to_csv(r'season2021.csv', index = False)"
   ]
  },
  {
   "cell_type": "code",
   "execution_count": 184,
   "metadata": {},
   "outputs": [],
   "source": [
    "#final_result['Winner_ok?'] = final_result[bool(final_result['Winner'] == final_result['Prediction'])]"
   ]
  },
  {
   "cell_type": "code",
   "execution_count": 189,
   "metadata": {},
   "outputs": [
    {
     "output_type": "execute_result",
     "data": {
      "text/plain": [
       "         Day             HomeTeamName         AwayTeamName  \\\n",
       "0 2020-09-12                Fulham FC           Arsenal FC   \n",
       "1 2020-09-12        Crystal Palace FC       Southampton FC   \n",
       "2 2020-09-12             Liverpool FC      Leeds United FC   \n",
       "3 2020-09-12       West Ham United FC  Newcastle United FC   \n",
       "4 2020-09-13  West Bromwich Albion FC    Leicester City FC   \n",
       "\n",
       "                Winner          Prediction Winner was Predicted?  \n",
       "0           Arsenal FC          Arsenal FC                  True  \n",
       "1    Crystal Palace FC      Southampton FC                 False  \n",
       "2         Liverpool FC        Liverpool FC                  True  \n",
       "3  Newcastle United FC  West Ham United FC                 False  \n",
       "4    Leicester City FC   Leicester City FC                  True  "
      ],
      "text/html": "<div>\n<style scoped>\n    .dataframe tbody tr th:only-of-type {\n        vertical-align: middle;\n    }\n\n    .dataframe tbody tr th {\n        vertical-align: top;\n    }\n\n    .dataframe thead th {\n        text-align: right;\n    }\n</style>\n<table border=\"1\" class=\"dataframe\">\n  <thead>\n    <tr style=\"text-align: right;\">\n      <th></th>\n      <th>Day</th>\n      <th>HomeTeamName</th>\n      <th>AwayTeamName</th>\n      <th>Winner</th>\n      <th>Prediction</th>\n      <th>Winner was Predicted?</th>\n    </tr>\n  </thead>\n  <tbody>\n    <tr>\n      <th>0</th>\n      <td>2020-09-12</td>\n      <td>Fulham FC</td>\n      <td>Arsenal FC</td>\n      <td>Arsenal FC</td>\n      <td>Arsenal FC</td>\n      <td>True</td>\n    </tr>\n    <tr>\n      <th>1</th>\n      <td>2020-09-12</td>\n      <td>Crystal Palace FC</td>\n      <td>Southampton FC</td>\n      <td>Crystal Palace FC</td>\n      <td>Southampton FC</td>\n      <td>False</td>\n    </tr>\n    <tr>\n      <th>2</th>\n      <td>2020-09-12</td>\n      <td>Liverpool FC</td>\n      <td>Leeds United FC</td>\n      <td>Liverpool FC</td>\n      <td>Liverpool FC</td>\n      <td>True</td>\n    </tr>\n    <tr>\n      <th>3</th>\n      <td>2020-09-12</td>\n      <td>West Ham United FC</td>\n      <td>Newcastle United FC</td>\n      <td>Newcastle United FC</td>\n      <td>West Ham United FC</td>\n      <td>False</td>\n    </tr>\n    <tr>\n      <th>4</th>\n      <td>2020-09-13</td>\n      <td>West Bromwich Albion FC</td>\n      <td>Leicester City FC</td>\n      <td>Leicester City FC</td>\n      <td>Leicester City FC</td>\n      <td>True</td>\n    </tr>\n  </tbody>\n</table>\n</div>"
     },
     "metadata": {},
     "execution_count": 189
    }
   ],
   "source": [
    "def winner_equals(row):\n",
    "    if row['Winner'] == row['Prediction']:\n",
    "        return 'True'\n",
    "    else:\n",
    "        return 'False'\n",
    "\n",
    "final_result['Winner was Predicted?'] = final_result.apply(winner_equals,axis=1)\n",
    "final_result.head()\n",
    "\n",
    "#final_result.groupby(['HomeTeamName']).agg({'Winner was Predicted?':'sum'})"
   ]
  },
  {
   "cell_type": "code",
   "execution_count": 196,
   "metadata": {},
   "outputs": [
    {
     "output_type": "error",
     "ename": "NameError",
     "evalue": "name 'pred_porc_f' is not defined",
     "traceback": [
      "\u001b[1;31m---------------------------------------------------------------------------\u001b[0m",
      "\u001b[1;31mNameError\u001b[0m                                 Traceback (most recent call last)",
      "\u001b[1;32m<ipython-input-196-4e00bccbccc1>\u001b[0m in \u001b[0;36m<module>\u001b[1;34m\u001b[0m\n\u001b[0;32m     10\u001b[0m \u001b[0mpred_porc_n\u001b[0m \u001b[1;33m=\u001b[0m \u001b[0mnbr_False\u001b[0m\u001b[1;33m*\u001b[0m\u001b[1;36m100\u001b[0m\u001b[1;33m/\u001b[0m\u001b[0msize\u001b[0m\u001b[1;33m\u001b[0m\u001b[1;33m\u001b[0m\u001b[0m\n\u001b[0;32m     11\u001b[0m \u001b[1;33m\u001b[0m\u001b[0m\n\u001b[1;32m---> 12\u001b[1;33m \u001b[0mdf_prediction\u001b[0m\u001b[1;33m[\u001b[0m\u001b[1;34m'%'\u001b[0m\u001b[1;33m]\u001b[0m \u001b[1;33m=\u001b[0m \u001b[1;33m[\u001b[0m\u001b[0mpred_porc_f\u001b[0m\u001b[1;33m,\u001b[0m \u001b[0mpred_porc_t\u001b[0m\u001b[1;33m]\u001b[0m\u001b[1;33m\u001b[0m\u001b[1;33m\u001b[0m\u001b[0m\n\u001b[0m",
      "\u001b[1;31mNameError\u001b[0m: name 'pred_porc_f' is not defined"
     ]
    }
   ],
   "source": [
    "df_prediction = final_result.groupby('Winner was Predicted?').agg({'Prediction':'count'})\n",
    "#df_prediction['Percentagem'] = size*100/ df_prediction['Prediction']\n",
    "df_prediction"
   ]
  },
  {
   "cell_type": "code",
   "execution_count": 201,
   "metadata": {},
   "outputs": [
    {
     "output_type": "stream",
     "name": "stdout",
     "text": [
      "True:  43.10344827586207 False: 56.89655172413793\n"
     ]
    }
   ],
   "source": [
    "nbr_False = 33\n",
    "nbr_True = 25\n",
    "size = final_result.shape[0]\n",
    "\n",
    "pred_porc_t = nbr_True*100/size\n",
    "pred_porc_n = nbr_False*100/size\n",
    "print('True: ',pred_porc_t,'False:',pred_porc_n)"
   ]
  },
  {
   "cell_type": "code",
   "execution_count": 183,
   "metadata": {},
   "outputs": [],
   "source": [
    "#home_team = final_result.groupby(['HomeTeamName']).agg({'Winner was Predicted?':'count'})\n",
    "#away_team = final_result.groupby(['AwayTeamName']).agg({'Winner was Predicted?':'count'})\n",
    "\n",
    "#home_team.rename(columns={'HomeTeamName':'Team'},inplace=True)\n",
    "#away_team.rename(columns={'AwayTeamName':'Team'},inplace=True)\n",
    "\n",
    "#home_team.set_index('Team')\n",
    "#away_team.set_index('Team')\n",
    "\n",
    "#teams_prediction = pd.merge(left=home_team, right=away_team, how='inner',left_on='HomeTeamName', right_on='AwayTeamName')"
   ]
  },
  {
   "cell_type": "code",
   "execution_count": null,
   "metadata": {},
   "outputs": [],
   "source": []
  }
 ],
 "metadata": {
  "kernelspec": {
   "display_name": "Python 3",
   "language": "python",
   "name": "python3"
  },
  "language_info": {
   "codemirror_mode": {
    "name": "ipython",
    "version": 3
   },
   "file_extension": ".py",
   "mimetype": "text/x-python",
   "name": "python",
   "nbconvert_exporter": "python",
   "pygments_lexer": "ipython3",
   "version": "3.8.3-final"
  }
 },
 "nbformat": 4,
 "nbformat_minor": 4
}