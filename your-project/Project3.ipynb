{
 "cells": [
  {
   "cell_type": "code",
   "execution_count": 1,
   "metadata": {},
   "outputs": [],
   "source": [
    "import requests\n",
    "from bs4 import BeautifulSoup\n",
    "import pandas as pd"
   ]
  },
  {
   "cell_type": "code",
   "execution_count": 2,
   "metadata": {},
   "outputs": [],
   "source": [
    "url='https://api.sportsdata.io/v3/soccer/scores/json/CompetitionDetails/EPL'\n",
    "\n",
    "response=requests.get(url, headers = {\"Ocp-Apim-Subscription-Key\": \"7e69e12a9f714caebb8c178cf904e445\"})\n",
    "\n",
    "response=response.json()\n",
    "result=pd.json_normalize(response)"
   ]
  },
  {
   "cell_type": "code",
   "execution_count": null,
   "metadata": {},
   "outputs": [],
   "source": [
    "response"
   ]
  },
  {
   "cell_type": "code",
   "execution_count": 3,
   "metadata": {},
   "outputs": [],
   "source": [
    "url='https://api.sportsdata.io/v3/soccer/odds/json/GameOddsByDate/2020-09-12'\n",
    "\n",
    "response=requests.get(url, headers = {\"Ocp-Apim-Subscription-Key\": \"7e69e12a9f714caebb8c178cf904e445\"})\n",
    "\n",
    "response=response.json()\n",
    "result=pd.DataFrame(response)"
   ]
  },
  {
   "cell_type": "code",
   "execution_count": 12,
   "metadata": {
    "scrolled": true
   },
   "outputs": [
    {
     "output_type": "execute_result",
     "data": {
      "text/plain": [
       "   GameId  RoundId  Season  SeasonType  Week        Day             DateTime  \\\n",
       "0   32479      602    2021           1   1.0 2020-09-12                 None   \n",
       "1   32480      602    2021           1   1.0 2020-09-12                 None   \n",
       "2   30971      579    2021           1  10.0 2020-09-12  2020-09-12T00:30:00   \n",
       "3   30972      579    2021           1  10.0 2020-09-12  2020-09-12T02:30:00   \n",
       "4   35001      630    2021           3   NaN 2020-09-12  2020-09-12T10:30:00   \n",
       "\n",
       "      Status  AwayTeamId  HomeTeamId          AwayTeamName  \\\n",
       "0  Postponed         510         516        Aston Villa FC   \n",
       "1  Postponed         517         857  Manchester United FC   \n",
       "2      Final         877         992        CD Guadalajara   \n",
       "3      Final         889        1570           Club Puebla   \n",
       "4      Final        2109        1770     Harrow Borough FC   \n",
       "\n",
       "           HomeTeamName  GlobalGameId  GlobalAwayTeamId  GlobalHomeTeamId  \\\n",
       "0    Manchester City FC      90032479          90000510          90000516   \n",
       "1            Burnley FC      90032480          90000517          90000857   \n",
       "2           Club Necaxa      90030971          90000877          90000992   \n",
       "3             FC Juárez      90030972          90000889          90001570   \n",
       "4  Langney Wanderers FC      90035001          90002109          90001770   \n",
       "\n",
       "   HomeTeamScore  AwayTeamScore  TotalScore  \\\n",
       "0            NaN            NaN         NaN   \n",
       "1            NaN            NaN         NaN   \n",
       "2            2.0            4.0         6.0   \n",
       "3            2.0            0.0         2.0   \n",
       "4            2.0            2.0         4.0   \n",
       "\n",
       "                                         PregameOdds LiveOdds  \n",
       "0                                                 []       []  \n",
       "1                                                 []       []  \n",
       "2  [{'GameOddId': 1178507, 'Sportsbook': 'Scrambl...       []  \n",
       "3  [{'GameOddId': 1178546, 'Sportsbook': 'Scrambl...       []  \n",
       "4                                                 []       []  "
      ],
      "text/html": "<div>\n<style scoped>\n    .dataframe tbody tr th:only-of-type {\n        vertical-align: middle;\n    }\n\n    .dataframe tbody tr th {\n        vertical-align: top;\n    }\n\n    .dataframe thead th {\n        text-align: right;\n    }\n</style>\n<table border=\"1\" class=\"dataframe\">\n  <thead>\n    <tr style=\"text-align: right;\">\n      <th></th>\n      <th>GameId</th>\n      <th>RoundId</th>\n      <th>Season</th>\n      <th>SeasonType</th>\n      <th>Week</th>\n      <th>Day</th>\n      <th>DateTime</th>\n      <th>Status</th>\n      <th>AwayTeamId</th>\n      <th>HomeTeamId</th>\n      <th>AwayTeamName</th>\n      <th>HomeTeamName</th>\n      <th>GlobalGameId</th>\n      <th>GlobalAwayTeamId</th>\n      <th>GlobalHomeTeamId</th>\n      <th>HomeTeamScore</th>\n      <th>AwayTeamScore</th>\n      <th>TotalScore</th>\n      <th>PregameOdds</th>\n      <th>LiveOdds</th>\n    </tr>\n  </thead>\n  <tbody>\n    <tr>\n      <th>0</th>\n      <td>32479</td>\n      <td>602</td>\n      <td>2021</td>\n      <td>1</td>\n      <td>1.0</td>\n      <td>2020-09-12</td>\n      <td>None</td>\n      <td>Postponed</td>\n      <td>510</td>\n      <td>516</td>\n      <td>Aston Villa FC</td>\n      <td>Manchester City FC</td>\n      <td>90032479</td>\n      <td>90000510</td>\n      <td>90000516</td>\n      <td>NaN</td>\n      <td>NaN</td>\n      <td>NaN</td>\n      <td>[]</td>\n      <td>[]</td>\n    </tr>\n    <tr>\n      <th>1</th>\n      <td>32480</td>\n      <td>602</td>\n      <td>2021</td>\n      <td>1</td>\n      <td>1.0</td>\n      <td>2020-09-12</td>\n      <td>None</td>\n      <td>Postponed</td>\n      <td>517</td>\n      <td>857</td>\n      <td>Manchester United FC</td>\n      <td>Burnley FC</td>\n      <td>90032480</td>\n      <td>90000517</td>\n      <td>90000857</td>\n      <td>NaN</td>\n      <td>NaN</td>\n      <td>NaN</td>\n      <td>[]</td>\n      <td>[]</td>\n    </tr>\n    <tr>\n      <th>2</th>\n      <td>30971</td>\n      <td>579</td>\n      <td>2021</td>\n      <td>1</td>\n      <td>10.0</td>\n      <td>2020-09-12</td>\n      <td>2020-09-12T00:30:00</td>\n      <td>Final</td>\n      <td>877</td>\n      <td>992</td>\n      <td>CD Guadalajara</td>\n      <td>Club Necaxa</td>\n      <td>90030971</td>\n      <td>90000877</td>\n      <td>90000992</td>\n      <td>2.0</td>\n      <td>4.0</td>\n      <td>6.0</td>\n      <td>[{'GameOddId': 1178507, 'Sportsbook': 'Scrambl...</td>\n      <td>[]</td>\n    </tr>\n    <tr>\n      <th>3</th>\n      <td>30972</td>\n      <td>579</td>\n      <td>2021</td>\n      <td>1</td>\n      <td>10.0</td>\n      <td>2020-09-12</td>\n      <td>2020-09-12T02:30:00</td>\n      <td>Final</td>\n      <td>889</td>\n      <td>1570</td>\n      <td>Club Puebla</td>\n      <td>FC Juárez</td>\n      <td>90030972</td>\n      <td>90000889</td>\n      <td>90001570</td>\n      <td>2.0</td>\n      <td>0.0</td>\n      <td>2.0</td>\n      <td>[{'GameOddId': 1178546, 'Sportsbook': 'Scrambl...</td>\n      <td>[]</td>\n    </tr>\n    <tr>\n      <th>4</th>\n      <td>35001</td>\n      <td>630</td>\n      <td>2021</td>\n      <td>3</td>\n      <td>NaN</td>\n      <td>2020-09-12</td>\n      <td>2020-09-12T10:30:00</td>\n      <td>Final</td>\n      <td>2109</td>\n      <td>1770</td>\n      <td>Harrow Borough FC</td>\n      <td>Langney Wanderers FC</td>\n      <td>90035001</td>\n      <td>90002109</td>\n      <td>90001770</td>\n      <td>2.0</td>\n      <td>2.0</td>\n      <td>4.0</td>\n      <td>[]</td>\n      <td>[]</td>\n    </tr>\n  </tbody>\n</table>\n</div>"
     },
     "metadata": {},
     "execution_count": 12
    }
   ],
   "source": [
    "result['Day'] = pd.to_datetime(result['Day'])\n",
    "result.head()"
   ]
  },
  {
   "cell_type": "code",
   "execution_count": 4,
   "metadata": {},
   "outputs": [],
   "source": [
    "#pd.DataFrame(odds[3])\n",
    "#game.groupby('GameId').agg({'HomeMoneyLine':'mean','AwayMoneyLine':'mean','DrawMoneyLine':'mean'})"
   ]
  },
  {
   "cell_type": "code",
   "execution_count": 5,
   "metadata": {},
   "outputs": [],
   "source": [
    "odds=result['PregameOdds']\n",
    "games=[]\n",
    "for row in odds:\n",
    "    if row==[]:\n",
    "        continue\n",
    "    else:\n",
    "        games.append(row)\n",
    "\n",
    "for game in games:\n",
    "    game=pd.DataFrame(game)\n",
    "    game.groupby('GameId').agg({'HomeMoneyLine':'mean','AwayMoneyLine':'mean','DrawMoneyLine':'mean'})\n",
    "    \n",
    "    \n",
    "#pd.DataFrame(odds[3])\n",
    "#game.groupby('GameId').agg({'HomeMoneyLine':'mean','AwayMoneyLine':'mean','DrawMoneyLine':'mean'})\n"
   ]
  },
  {
   "cell_type": "code",
   "execution_count": 18,
   "metadata": {},
   "outputs": [
    {
     "output_type": "error",
     "ename": "SyntaxError",
     "evalue": "'continue' not properly in loop (<ipython-input-18-2bd447e2f9b2>, line 3)",
     "traceback": [
      "\u001b[1;36m  File \u001b[1;32m\"<ipython-input-18-2bd447e2f9b2>\"\u001b[1;36m, line \u001b[1;32m3\u001b[0m\n\u001b[1;33m    continue\u001b[0m\n\u001b[1;37m    ^\u001b[0m\n\u001b[1;31mSyntaxError\u001b[0m\u001b[1;31m:\u001b[0m 'continue' not properly in loop\n"
     ]
    }
   ],
   "source": [
    "def games(row):\n",
    "    df = pd.DataFrame(columns = ['HomeMoneyLine','AwayMoneyLine','DrawMoneyLine'])\n",
    "    if row==[]:\n",
    "        continue\n",
    "    else:\n",
    "        row=pd.DataFrame(row)\n",
    "        df['HomeMoneyLine'] = df['HomeMoneyLine'].mean()\n",
    "        df['AwayMoneyLine'] = df['AwayMoneyLine'].mean()\n",
    "        df['DrawMoneyLine'] = df['DrawMoneyLine'].mean()\n",
    "        return df\n",
    "    "
   ]
  },
  {
   "cell_type": "code",
   "execution_count": 16,
   "metadata": {},
   "outputs": [],
   "source": [
    "data = result[['GameId','PregameOdds']]"
   ]
  },
  {
   "cell_type": "code",
   "execution_count": null,
   "metadata": {},
   "outputs": [],
   "source": []
  }
 ],
 "metadata": {
  "kernelspec": {
   "display_name": "Python 3",
   "language": "python",
   "name": "python3"
  },
  "language_info": {
   "codemirror_mode": {
    "name": "ipython",
    "version": 3
   },
   "file_extension": ".py",
   "mimetype": "text/x-python",
   "name": "python",
   "nbconvert_exporter": "python",
   "pygments_lexer": "ipython3",
   "version": "3.8.3-final"
  }
 },
 "nbformat": 4,
 "nbformat_minor": 4
}