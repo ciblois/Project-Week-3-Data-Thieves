{
 "metadata": {
  "language_info": {
   "codemirror_mode": {
    "name": "ipython",
    "version": 3
   },
   "file_extension": ".py",
   "mimetype": "text/x-python",
   "name": "python",
   "nbconvert_exporter": "python",
   "pygments_lexer": "ipython3",
   "version": "3.8.5-final"
  },
  "orig_nbformat": 2,
  "kernelspec": {
   "name": "Python 3.8.5 64-bit",
   "display_name": "Python 3.8.5 64-bit",
   "metadata": {
    "interpreter": {
     "hash": "2db524e06e9f5f4ffedc911c917cb75e12dbc923643829bf417064a77eb14d37"
    }
   }
  }
 },
 "nbformat": 4,
 "nbformat_minor": 2,
 "cells": [
  {
   "cell_type": "code",
   "execution_count": 8,
   "metadata": {},
   "outputs": [],
   "source": [
    "from bs4 import BeautifulSoup\n",
    "import requests\n",
    "import pandas as pd\n",
    "import datetime\n",
    "import re"
   ]
  },
  {
   "cell_type": "code",
   "execution_count": 9,
   "metadata": {},
   "outputs": [
    {
     "output_type": "execute_result",
     "data": {
      "text/plain": [
       "<Response [200]>"
      ]
     },
     "metadata": {},
     "execution_count": 9
    }
   ],
   "source": [
    "url='https://api.sportsdata.io/v3/soccer/scores/json/CompetitionDetails/EPL'\n",
    "\n",
    "response=requests.get(url, headers = {\"Ocp-Apim-Subscription-Key\": \"7e69e12a9f714caebb8c178cf904e445\"})\n",
    "\n",
    "response"
   ]
  },
  {
   "cell_type": "code",
   "execution_count": null,
   "metadata": {},
   "outputs": [],
   "source": [
    "result=pd.json_normalize(response.json())\n",
    "games = pd.DataFrame(result['Games'][0])#.flatten()#.columns\n",
    "games.head()"
   ]
  },
  {
   "cell_type": "code",
   "execution_count": 4,
   "metadata": {},
   "outputs": [
    {
     "output_type": "execute_result",
     "data": {
      "text/plain": [
       "Index(['GameId', 'RoundId', 'Season', 'SeasonType', 'Group', 'AwayTeamId',\n",
       "       'HomeTeamId', 'VenueId', 'Day', 'DateTime', 'Status', 'Week', 'Period',\n",
       "       'Clock', 'Winner', 'VenueType', 'AwayTeamKey', 'AwayTeamName',\n",
       "       'AwayTeamCountryCode', 'AwayTeamScore', 'AwayTeamScorePeriod1',\n",
       "       'AwayTeamScorePeriod2', 'AwayTeamScoreExtraTime',\n",
       "       'AwayTeamScorePenalty', 'HomeTeamKey', 'HomeTeamName',\n",
       "       'HomeTeamCountryCode', 'HomeTeamScore', 'HomeTeamScorePeriod1',\n",
       "       'HomeTeamScorePeriod2', 'HomeTeamScoreExtraTime',\n",
       "       'HomeTeamScorePenalty', 'HomeTeamMoneyLine', 'AwayTeamMoneyLine',\n",
       "       'DrawMoneyLine', 'PointSpread', 'HomeTeamPointSpreadPayout',\n",
       "       'AwayTeamPointSpreadPayout', 'OverUnder', 'OverPayout', 'UnderPayout',\n",
       "       'Attendance', 'Updated', 'UpdatedUtc', 'GlobalGameId',\n",
       "       'GlobalAwayTeamId', 'GlobalHomeTeamId', 'ClockExtra', 'ClockDisplay',\n",
       "       'IsClosed', 'HomeTeamFormation', 'AwayTeamFormation',\n",
       "       'PlayoffAggregateScore'],\n",
       "      dtype='object')"
      ]
     },
     "metadata": {},
     "execution_count": 4
    }
   ],
   "source": [
    "games.columns"
   ]
  },
  {
   "cell_type": "code",
   "execution_count": 5,
   "metadata": {},
   "outputs": [
    {
     "output_type": "execute_result",
     "data": {
      "text/plain": [
       "     GameId  AwayTeamId  HomeTeamId                  Day  \\\n",
       "375   32854        1116         509  2021-05-23T00:00:00   \n",
       "376   32855         857        1540  2021-05-23T00:00:00   \n",
       "377   32856         524         514  2021-05-23T00:00:00   \n",
       "378   32857         520         527  2021-05-23T00:00:00   \n",
       "379   32858         526        2148  2021-05-23T00:00:00   \n",
       "\n",
       "                  AwayTeamName         HomeTeamName  \n",
       "375  Brighton & Hove Albion FC           Arsenal FC  \n",
       "376                 Burnley FC  Sheffield United FC  \n",
       "377       Tottenham Hotspur FC    Leicester City FC  \n",
       "378             Southampton FC   West Ham United FC  \n",
       "379    West Bromwich Albion FC      Leeds United FC  "
      ],
      "text/html": "<div>\n<style scoped>\n    .dataframe tbody tr th:only-of-type {\n        vertical-align: middle;\n    }\n\n    .dataframe tbody tr th {\n        vertical-align: top;\n    }\n\n    .dataframe thead th {\n        text-align: right;\n    }\n</style>\n<table border=\"1\" class=\"dataframe\">\n  <thead>\n    <tr style=\"text-align: right;\">\n      <th></th>\n      <th>GameId</th>\n      <th>AwayTeamId</th>\n      <th>HomeTeamId</th>\n      <th>Day</th>\n      <th>AwayTeamName</th>\n      <th>HomeTeamName</th>\n    </tr>\n  </thead>\n  <tbody>\n    <tr>\n      <th>375</th>\n      <td>32854</td>\n      <td>1116</td>\n      <td>509</td>\n      <td>2021-05-23T00:00:00</td>\n      <td>Brighton &amp; Hove Albion FC</td>\n      <td>Arsenal FC</td>\n    </tr>\n    <tr>\n      <th>376</th>\n      <td>32855</td>\n      <td>857</td>\n      <td>1540</td>\n      <td>2021-05-23T00:00:00</td>\n      <td>Burnley FC</td>\n      <td>Sheffield United FC</td>\n    </tr>\n    <tr>\n      <th>377</th>\n      <td>32856</td>\n      <td>524</td>\n      <td>514</td>\n      <td>2021-05-23T00:00:00</td>\n      <td>Tottenham Hotspur FC</td>\n      <td>Leicester City FC</td>\n    </tr>\n    <tr>\n      <th>378</th>\n      <td>32857</td>\n      <td>520</td>\n      <td>527</td>\n      <td>2021-05-23T00:00:00</td>\n      <td>Southampton FC</td>\n      <td>West Ham United FC</td>\n    </tr>\n    <tr>\n      <th>379</th>\n      <td>32858</td>\n      <td>526</td>\n      <td>2148</td>\n      <td>2021-05-23T00:00:00</td>\n      <td>West Bromwich Albion FC</td>\n      <td>Leeds United FC</td>\n    </tr>\n  </tbody>\n</table>\n</div>"
     },
     "metadata": {},
     "execution_count": 5
    }
   ],
   "source": [
    "games_final = games[['GameId','AwayTeamId','HomeTeamId','Day','AwayTeamName','HomeTeamName']]\n",
    "games_final.tail()"
   ]
  },
  {
   "cell_type": "code",
   "execution_count": 6,
   "metadata": {},
   "outputs": [
    {
     "output_type": "execute_result",
     "data": {
      "text/plain": [
       "['2020-09-12',\n",
       " '2020-09-13',\n",
       " '2020-09-14',\n",
       " '2020-09-19',\n",
       " '2020-09-20',\n",
       " '2020-09-21',\n",
       " '2020-09-26',\n",
       " '2020-09-27',\n",
       " '2020-09-28',\n",
       " '2020-10-03',\n",
       " '2020-10-04',\n",
       " '2020-10-17',\n",
       " '2020-10-18',\n",
       " '2020-10-19',\n",
       " '2020-10-23',\n",
       " '2020-10-24',\n",
       " '2020-10-25',\n",
       " '2020-10-26',\n",
       " '2020-10-30',\n",
       " '2020-10-31',\n",
       " '2020-11-01',\n",
       " '2020-11-02',\n",
       " '2020-11-06',\n",
       " '2020-11-07',\n",
       " '2020-11-08',\n",
       " '2020-11-21',\n",
       " '2020-11-22',\n",
       " '2020-11-28',\n",
       " '2020-11-29',\n",
       " '2020-11-30',\n",
       " '2020-12-05',\n",
       " '2020-12-12',\n",
       " '2020-12-13',\n",
       " '2020-12-15',\n",
       " '2020-12-16',\n",
       " '2020-12-19',\n",
       " '2020-12-26',\n",
       " '2020-12-28',\n",
       " '2021-01-02',\n",
       " '2021-01-12',\n",
       " '2021-01-13',\n",
       " '2021-01-16',\n",
       " '2021-01-26',\n",
       " '2021-01-27',\n",
       " '2021-01-30',\n",
       " '2021-02-02',\n",
       " '2021-02-03',\n",
       " '2021-02-06',\n",
       " '2021-02-13',\n",
       " '2021-02-20',\n",
       " '2021-02-27',\n",
       " '2021-03-06',\n",
       " '2021-03-13',\n",
       " '2021-03-20',\n",
       " '2021-04-03',\n",
       " '2021-04-10',\n",
       " '2021-04-17',\n",
       " '2021-04-24',\n",
       " '2021-05-01',\n",
       " '2021-05-08',\n",
       " '2021-05-11',\n",
       " '2021-05-12',\n",
       " '2021-05-15',\n",
       " '2021-05-23']"
      ]
     },
     "metadata": {},
     "execution_count": 6
    }
   ],
   "source": [
    "Days = games_final['Day'].unique().tolist()\n",
    "all_days = []\n",
    "for date in Days:\n",
    "    day = re.sub(r'T(.*)',\"\", date)\n",
    "    all_days.append(day)\n",
    "\n",
    "all_days"
   ]
  },
  {
   "cell_type": "code",
   "execution_count": 12,
   "metadata": {},
   "outputs": [
    {
     "output_type": "execute_result",
     "data": {
      "text/plain": [
       "     GameId  RoundId  Season  SeasonType  Week                  Day  \\\n",
       "0     32479      602    2021           1   1.0  2020-09-12T00:00:00   \n",
       "1     32480      602    2021           1   1.0  2020-09-12T00:00:00   \n",
       "2     30971      579    2021           1  10.0  2020-09-12T00:00:00   \n",
       "3     30972      579    2021           1  10.0  2020-09-12T00:00:00   \n",
       "4     35001      630    2021           3   NaN  2020-09-12T00:00:00   \n",
       "..      ...      ...     ...         ...   ...                  ...   \n",
       "205   32370      561    2020           1   NaN  2020-09-12T00:00:00   \n",
       "206   30397      561    2020           1   NaN  2020-09-12T00:00:00   \n",
       "207   30398      561    2020           1   NaN  2020-09-12T00:00:00   \n",
       "208   32372      561    2020           1   NaN  2020-09-12T00:00:00   \n",
       "209   32373      561    2020           1   NaN  2020-09-12T00:00:00   \n",
       "\n",
       "                DateTime     Status  AwayTeamId  HomeTeamId  \\\n",
       "0                   None  Postponed         510         516   \n",
       "1                   None  Postponed         517         857   \n",
       "2    2020-09-12T00:30:00      Final         877         992   \n",
       "3    2020-09-12T02:30:00      Final         889        1570   \n",
       "4    2020-09-12T10:30:00      Final        2109        1770   \n",
       "..                   ...        ...         ...         ...   \n",
       "205  2020-09-12T23:00:00      Final        1539         703   \n",
       "206  2020-09-12T23:30:00   Canceled         699         696   \n",
       "207  2020-09-12T23:30:00   Canceled        1070         712   \n",
       "208  2020-09-12T23:30:00      Final         702         706   \n",
       "209  2020-09-12T23:30:00      Final        2363         705   \n",
       "\n",
       "               AwayTeamName          HomeTeamName  GlobalGameId  \\\n",
       "0            Aston Villa FC    Manchester City FC      90032479   \n",
       "1      Manchester United FC            Burnley FC      90032480   \n",
       "2            CD Guadalajara           Club Necaxa      90030971   \n",
       "3               Club Puebla             FC Juárez      90030972   \n",
       "4         Harrow Borough FC  Langney Wanderers FC      90035001   \n",
       "..                      ...                   ...           ...   \n",
       "205           FC Cincinnati      New York City FC      90032370   \n",
       "206          Houston Dynamo      Columbus Crew SC      90030397   \n",
       "207       Atlanta United FC            Toronto FC      90030398   \n",
       "208  New England Revolution    Philadelphia Union      90032372   \n",
       "209  Internacional CF Miami       Orlando City SC      90032373   \n",
       "\n",
       "     GlobalAwayTeamId  GlobalHomeTeamId  HomeTeamScore  AwayTeamScore  \\\n",
       "0            90000510          90000516            NaN            NaN   \n",
       "1            90000517          90000857            NaN            NaN   \n",
       "2            90000877          90000992            2.0            4.0   \n",
       "3            90000889          90001570            2.0            0.0   \n",
       "4            90002109          90001770            2.0            2.0   \n",
       "..                ...               ...            ...            ...   \n",
       "205          90001539          90000703            4.0            2.0   \n",
       "206          90000699          90000696            NaN            NaN   \n",
       "207          90001070          90000712            NaN            NaN   \n",
       "208          90000702          90000706            4.0            2.0   \n",
       "209          90002363          90000705            4.0            2.0   \n",
       "\n",
       "     TotalScore                                        PregameOdds LiveOdds  \n",
       "0           NaN                                                 []       []  \n",
       "1           NaN                                                 []       []  \n",
       "2           6.0  [{'GameOddId': 1178507, 'Sportsbook': 'Scrambl...       []  \n",
       "3           2.0  [{'GameOddId': 1178546, 'Sportsbook': 'Scrambl...       []  \n",
       "4           4.0                                                 []       []  \n",
       "..          ...                                                ...      ...  \n",
       "205         6.0  [{'GameOddId': 1179425, 'Sportsbook': 'Scrambl...       []  \n",
       "206         NaN                                                 []       []  \n",
       "207         NaN                                                 []       []  \n",
       "208         6.0  [{'GameOddId': 1179446, 'Sportsbook': 'Scrambl...       []  \n",
       "209         6.0  [{'GameOddId': 1179466, 'Sportsbook': 'Scrambl...       []  \n",
       "\n",
       "[210 rows x 20 columns]"
      ],
      "text/html": "<div>\n<style scoped>\n    .dataframe tbody tr th:only-of-type {\n        vertical-align: middle;\n    }\n\n    .dataframe tbody tr th {\n        vertical-align: top;\n    }\n\n    .dataframe thead th {\n        text-align: right;\n    }\n</style>\n<table border=\"1\" class=\"dataframe\">\n  <thead>\n    <tr style=\"text-align: right;\">\n      <th></th>\n      <th>GameId</th>\n      <th>RoundId</th>\n      <th>Season</th>\n      <th>SeasonType</th>\n      <th>Week</th>\n      <th>Day</th>\n      <th>DateTime</th>\n      <th>Status</th>\n      <th>AwayTeamId</th>\n      <th>HomeTeamId</th>\n      <th>AwayTeamName</th>\n      <th>HomeTeamName</th>\n      <th>GlobalGameId</th>\n      <th>GlobalAwayTeamId</th>\n      <th>GlobalHomeTeamId</th>\n      <th>HomeTeamScore</th>\n      <th>AwayTeamScore</th>\n      <th>TotalScore</th>\n      <th>PregameOdds</th>\n      <th>LiveOdds</th>\n    </tr>\n  </thead>\n  <tbody>\n    <tr>\n      <th>0</th>\n      <td>32479</td>\n      <td>602</td>\n      <td>2021</td>\n      <td>1</td>\n      <td>1.0</td>\n      <td>2020-09-12T00:00:00</td>\n      <td>None</td>\n      <td>Postponed</td>\n      <td>510</td>\n      <td>516</td>\n      <td>Aston Villa FC</td>\n      <td>Manchester City FC</td>\n      <td>90032479</td>\n      <td>90000510</td>\n      <td>90000516</td>\n      <td>NaN</td>\n      <td>NaN</td>\n      <td>NaN</td>\n      <td>[]</td>\n      <td>[]</td>\n    </tr>\n    <tr>\n      <th>1</th>\n      <td>32480</td>\n      <td>602</td>\n      <td>2021</td>\n      <td>1</td>\n      <td>1.0</td>\n      <td>2020-09-12T00:00:00</td>\n      <td>None</td>\n      <td>Postponed</td>\n      <td>517</td>\n      <td>857</td>\n      <td>Manchester United FC</td>\n      <td>Burnley FC</td>\n      <td>90032480</td>\n      <td>90000517</td>\n      <td>90000857</td>\n      <td>NaN</td>\n      <td>NaN</td>\n      <td>NaN</td>\n      <td>[]</td>\n      <td>[]</td>\n    </tr>\n    <tr>\n      <th>2</th>\n      <td>30971</td>\n      <td>579</td>\n      <td>2021</td>\n      <td>1</td>\n      <td>10.0</td>\n      <td>2020-09-12T00:00:00</td>\n      <td>2020-09-12T00:30:00</td>\n      <td>Final</td>\n      <td>877</td>\n      <td>992</td>\n      <td>CD Guadalajara</td>\n      <td>Club Necaxa</td>\n      <td>90030971</td>\n      <td>90000877</td>\n      <td>90000992</td>\n      <td>2.0</td>\n      <td>4.0</td>\n      <td>6.0</td>\n      <td>[{'GameOddId': 1178507, 'Sportsbook': 'Scrambl...</td>\n      <td>[]</td>\n    </tr>\n    <tr>\n      <th>3</th>\n      <td>30972</td>\n      <td>579</td>\n      <td>2021</td>\n      <td>1</td>\n      <td>10.0</td>\n      <td>2020-09-12T00:00:00</td>\n      <td>2020-09-12T02:30:00</td>\n      <td>Final</td>\n      <td>889</td>\n      <td>1570</td>\n      <td>Club Puebla</td>\n      <td>FC Juárez</td>\n      <td>90030972</td>\n      <td>90000889</td>\n      <td>90001570</td>\n      <td>2.0</td>\n      <td>0.0</td>\n      <td>2.0</td>\n      <td>[{'GameOddId': 1178546, 'Sportsbook': 'Scrambl...</td>\n      <td>[]</td>\n    </tr>\n    <tr>\n      <th>4</th>\n      <td>35001</td>\n      <td>630</td>\n      <td>2021</td>\n      <td>3</td>\n      <td>NaN</td>\n      <td>2020-09-12T00:00:00</td>\n      <td>2020-09-12T10:30:00</td>\n      <td>Final</td>\n      <td>2109</td>\n      <td>1770</td>\n      <td>Harrow Borough FC</td>\n      <td>Langney Wanderers FC</td>\n      <td>90035001</td>\n      <td>90002109</td>\n      <td>90001770</td>\n      <td>2.0</td>\n      <td>2.0</td>\n      <td>4.0</td>\n      <td>[]</td>\n      <td>[]</td>\n    </tr>\n    <tr>\n      <th>...</th>\n      <td>...</td>\n      <td>...</td>\n      <td>...</td>\n      <td>...</td>\n      <td>...</td>\n      <td>...</td>\n      <td>...</td>\n      <td>...</td>\n      <td>...</td>\n      <td>...</td>\n      <td>...</td>\n      <td>...</td>\n      <td>...</td>\n      <td>...</td>\n      <td>...</td>\n      <td>...</td>\n      <td>...</td>\n      <td>...</td>\n      <td>...</td>\n      <td>...</td>\n    </tr>\n    <tr>\n      <th>205</th>\n      <td>32370</td>\n      <td>561</td>\n      <td>2020</td>\n      <td>1</td>\n      <td>NaN</td>\n      <td>2020-09-12T00:00:00</td>\n      <td>2020-09-12T23:00:00</td>\n      <td>Final</td>\n      <td>1539</td>\n      <td>703</td>\n      <td>FC Cincinnati</td>\n      <td>New York City FC</td>\n      <td>90032370</td>\n      <td>90001539</td>\n      <td>90000703</td>\n      <td>4.0</td>\n      <td>2.0</td>\n      <td>6.0</td>\n      <td>[{'GameOddId': 1179425, 'Sportsbook': 'Scrambl...</td>\n      <td>[]</td>\n    </tr>\n    <tr>\n      <th>206</th>\n      <td>30397</td>\n      <td>561</td>\n      <td>2020</td>\n      <td>1</td>\n      <td>NaN</td>\n      <td>2020-09-12T00:00:00</td>\n      <td>2020-09-12T23:30:00</td>\n      <td>Canceled</td>\n      <td>699</td>\n      <td>696</td>\n      <td>Houston Dynamo</td>\n      <td>Columbus Crew SC</td>\n      <td>90030397</td>\n      <td>90000699</td>\n      <td>90000696</td>\n      <td>NaN</td>\n      <td>NaN</td>\n      <td>NaN</td>\n      <td>[]</td>\n      <td>[]</td>\n    </tr>\n    <tr>\n      <th>207</th>\n      <td>30398</td>\n      <td>561</td>\n      <td>2020</td>\n      <td>1</td>\n      <td>NaN</td>\n      <td>2020-09-12T00:00:00</td>\n      <td>2020-09-12T23:30:00</td>\n      <td>Canceled</td>\n      <td>1070</td>\n      <td>712</td>\n      <td>Atlanta United FC</td>\n      <td>Toronto FC</td>\n      <td>90030398</td>\n      <td>90001070</td>\n      <td>90000712</td>\n      <td>NaN</td>\n      <td>NaN</td>\n      <td>NaN</td>\n      <td>[]</td>\n      <td>[]</td>\n    </tr>\n    <tr>\n      <th>208</th>\n      <td>32372</td>\n      <td>561</td>\n      <td>2020</td>\n      <td>1</td>\n      <td>NaN</td>\n      <td>2020-09-12T00:00:00</td>\n      <td>2020-09-12T23:30:00</td>\n      <td>Final</td>\n      <td>702</td>\n      <td>706</td>\n      <td>New England Revolution</td>\n      <td>Philadelphia Union</td>\n      <td>90032372</td>\n      <td>90000702</td>\n      <td>90000706</td>\n      <td>4.0</td>\n      <td>2.0</td>\n      <td>6.0</td>\n      <td>[{'GameOddId': 1179446, 'Sportsbook': 'Scrambl...</td>\n      <td>[]</td>\n    </tr>\n    <tr>\n      <th>209</th>\n      <td>32373</td>\n      <td>561</td>\n      <td>2020</td>\n      <td>1</td>\n      <td>NaN</td>\n      <td>2020-09-12T00:00:00</td>\n      <td>2020-09-12T23:30:00</td>\n      <td>Final</td>\n      <td>2363</td>\n      <td>705</td>\n      <td>Internacional CF Miami</td>\n      <td>Orlando City SC</td>\n      <td>90032373</td>\n      <td>90002363</td>\n      <td>90000705</td>\n      <td>4.0</td>\n      <td>2.0</td>\n      <td>6.0</td>\n      <td>[{'GameOddId': 1179466, 'Sportsbook': 'Scrambl...</td>\n      <td>[]</td>\n    </tr>\n  </tbody>\n</table>\n<p>210 rows × 20 columns</p>\n</div>"
     },
     "metadata": {},
     "execution_count": 12
    }
   ],
   "source": [
    "url='https://api.sportsdata.io/v3/soccer/odds/json/GameOddsByDate/2020-09-12'\n",
    "response=requests.get(url, headers = {\"Ocp-Apim-Subscription-Key\": \"7e69e12a9f714caebb8c178cf904e445\"})\n",
    "response=response.json()\n",
    "pd.DataFrame(response)"
   ]
  },
  {
   "cell_type": "code",
   "execution_count": 175,
   "metadata": {
    "tags": []
   },
   "outputs": [],
   "source": [
    "\n",
    "\n",
    "for day in all_days:\n",
    "    url='https://api.sportsdata.io/v3/soccer/odds/json/GameOddsByDate/'+day\n",
    "    response=requests.get(url, headers = {\"Ocp-Apim-Subscription-Key\": \"7e69e12a9f714caebb8c178cf904e445\"})\n",
    "    response=response.json()\n",
    "    pd.DataFrame(response)"
   ]
  },
  {
   "cell_type": "code",
   "execution_count": 148,
   "metadata": {},
   "outputs": [
    {
     "output_type": "execute_result",
     "data": {
      "text/plain": [
       "     GameId  AwayTeamId  HomeTeamId        Day               AwayTeamName  \\\n",
       "0     32479         510         516 2020-09-12             Aston Villa FC   \n",
       "1     32480         517         857 2020-09-12       Manchester United FC   \n",
       "2     32481         509        1462 2020-09-12                 Arsenal FC   \n",
       "3     32486         520         512 2020-09-12             Southampton FC   \n",
       "4     32482        2148         515 2020-09-12            Leeds United FC   \n",
       "..      ...         ...         ...        ...                        ...   \n",
       "375   32854        1116         509 2021-05-23  Brighton & Hove Albion FC   \n",
       "376   32855         857        1540 2021-05-23                 Burnley FC   \n",
       "377   32856         524         514 2021-05-23       Tottenham Hotspur FC   \n",
       "378   32857         520         527 2021-05-23             Southampton FC   \n",
       "379   32858         526        2148 2021-05-23    West Bromwich Albion FC   \n",
       "\n",
       "            HomeTeamName     Winner  \n",
       "0     Manchester City FC  Scrambled  \n",
       "1             Burnley FC  Scrambled  \n",
       "2              Fulham FC  Scrambled  \n",
       "3      Crystal Palace FC  Scrambled  \n",
       "4           Liverpool FC  Scrambled  \n",
       "..                   ...        ...  \n",
       "375           Arsenal FC  Scrambled  \n",
       "376  Sheffield United FC  Scrambled  \n",
       "377    Leicester City FC  Scrambled  \n",
       "378   West Ham United FC  Scrambled  \n",
       "379      Leeds United FC  Scrambled  \n",
       "\n",
       "[380 rows x 7 columns]"
      ],
      "text/html": "<div>\n<style scoped>\n    .dataframe tbody tr th:only-of-type {\n        vertical-align: middle;\n    }\n\n    .dataframe tbody tr th {\n        vertical-align: top;\n    }\n\n    .dataframe thead th {\n        text-align: right;\n    }\n</style>\n<table border=\"1\" class=\"dataframe\">\n  <thead>\n    <tr style=\"text-align: right;\">\n      <th></th>\n      <th>GameId</th>\n      <th>AwayTeamId</th>\n      <th>HomeTeamId</th>\n      <th>Day</th>\n      <th>AwayTeamName</th>\n      <th>HomeTeamName</th>\n      <th>Winner</th>\n    </tr>\n  </thead>\n  <tbody>\n    <tr>\n      <th>0</th>\n      <td>32479</td>\n      <td>510</td>\n      <td>516</td>\n      <td>2020-09-12</td>\n      <td>Aston Villa FC</td>\n      <td>Manchester City FC</td>\n      <td>Scrambled</td>\n    </tr>\n    <tr>\n      <th>1</th>\n      <td>32480</td>\n      <td>517</td>\n      <td>857</td>\n      <td>2020-09-12</td>\n      <td>Manchester United FC</td>\n      <td>Burnley FC</td>\n      <td>Scrambled</td>\n    </tr>\n    <tr>\n      <th>2</th>\n      <td>32481</td>\n      <td>509</td>\n      <td>1462</td>\n      <td>2020-09-12</td>\n      <td>Arsenal FC</td>\n      <td>Fulham FC</td>\n      <td>Scrambled</td>\n    </tr>\n    <tr>\n      <th>3</th>\n      <td>32486</td>\n      <td>520</td>\n      <td>512</td>\n      <td>2020-09-12</td>\n      <td>Southampton FC</td>\n      <td>Crystal Palace FC</td>\n      <td>Scrambled</td>\n    </tr>\n    <tr>\n      <th>4</th>\n      <td>32482</td>\n      <td>2148</td>\n      <td>515</td>\n      <td>2020-09-12</td>\n      <td>Leeds United FC</td>\n      <td>Liverpool FC</td>\n      <td>Scrambled</td>\n    </tr>\n    <tr>\n      <th>...</th>\n      <td>...</td>\n      <td>...</td>\n      <td>...</td>\n      <td>...</td>\n      <td>...</td>\n      <td>...</td>\n      <td>...</td>\n    </tr>\n    <tr>\n      <th>375</th>\n      <td>32854</td>\n      <td>1116</td>\n      <td>509</td>\n      <td>2021-05-23</td>\n      <td>Brighton &amp; Hove Albion FC</td>\n      <td>Arsenal FC</td>\n      <td>Scrambled</td>\n    </tr>\n    <tr>\n      <th>376</th>\n      <td>32855</td>\n      <td>857</td>\n      <td>1540</td>\n      <td>2021-05-23</td>\n      <td>Burnley FC</td>\n      <td>Sheffield United FC</td>\n      <td>Scrambled</td>\n    </tr>\n    <tr>\n      <th>377</th>\n      <td>32856</td>\n      <td>524</td>\n      <td>514</td>\n      <td>2021-05-23</td>\n      <td>Tottenham Hotspur FC</td>\n      <td>Leicester City FC</td>\n      <td>Scrambled</td>\n    </tr>\n    <tr>\n      <th>378</th>\n      <td>32857</td>\n      <td>520</td>\n      <td>527</td>\n      <td>2021-05-23</td>\n      <td>Southampton FC</td>\n      <td>West Ham United FC</td>\n      <td>Scrambled</td>\n    </tr>\n    <tr>\n      <th>379</th>\n      <td>32858</td>\n      <td>526</td>\n      <td>2148</td>\n      <td>2021-05-23</td>\n      <td>West Bromwich Albion FC</td>\n      <td>Leeds United FC</td>\n      <td>Scrambled</td>\n    </tr>\n  </tbody>\n</table>\n<p>380 rows × 7 columns</p>\n</div>"
     },
     "metadata": {},
     "execution_count": 148
    }
   ],
   "source": [
    "games_final['Day'] = pd.to_datetime(games_final['Day'])\n",
    "games_final"
   ]
  },
  {
   "cell_type": "code",
   "execution_count": 155,
   "metadata": {},
   "outputs": [],
   "source": [
    "AwayTeam_ID = games_final['AwayTeamId'].tolist()\n",
    "HomeTeamID = games_final['HomeTeamId'].tolist()"
   ]
  },
  {
   "cell_type": "code",
   "execution_count": 156,
   "metadata": {},
   "outputs": [
    {
     "output_type": "execute_result",
     "data": {
      "text/plain": [
       "                     GameId\n",
       "Day                        \n",
       "2020-09-12T00:00:00       6\n",
       "2020-09-13T00:00:00       2\n",
       "2020-09-14T00:00:00       2\n",
       "2020-09-19T00:00:00       4\n",
       "2020-09-20T00:00:00       4\n",
       "...                     ...\n",
       "2021-05-08T00:00:00      10\n",
       "2021-05-11T00:00:00       5\n",
       "2021-05-12T00:00:00       5\n",
       "2021-05-15T00:00:00      10\n",
       "2021-05-23T00:00:00      10\n",
       "\n",
       "[64 rows x 1 columns]"
      ],
      "text/html": "<div>\n<style scoped>\n    .dataframe tbody tr th:only-of-type {\n        vertical-align: middle;\n    }\n\n    .dataframe tbody tr th {\n        vertical-align: top;\n    }\n\n    .dataframe thead th {\n        text-align: right;\n    }\n</style>\n<table border=\"1\" class=\"dataframe\">\n  <thead>\n    <tr style=\"text-align: right;\">\n      <th></th>\n      <th>GameId</th>\n    </tr>\n    <tr>\n      <th>Day</th>\n      <th></th>\n    </tr>\n  </thead>\n  <tbody>\n    <tr>\n      <th>2020-09-12T00:00:00</th>\n      <td>6</td>\n    </tr>\n    <tr>\n      <th>2020-09-13T00:00:00</th>\n      <td>2</td>\n    </tr>\n    <tr>\n      <th>2020-09-14T00:00:00</th>\n      <td>2</td>\n    </tr>\n    <tr>\n      <th>2020-09-19T00:00:00</th>\n      <td>4</td>\n    </tr>\n    <tr>\n      <th>2020-09-20T00:00:00</th>\n      <td>4</td>\n    </tr>\n    <tr>\n      <th>...</th>\n      <td>...</td>\n    </tr>\n    <tr>\n      <th>2021-05-08T00:00:00</th>\n      <td>10</td>\n    </tr>\n    <tr>\n      <th>2021-05-11T00:00:00</th>\n      <td>5</td>\n    </tr>\n    <tr>\n      <th>2021-05-12T00:00:00</th>\n      <td>5</td>\n    </tr>\n    <tr>\n      <th>2021-05-15T00:00:00</th>\n      <td>10</td>\n    </tr>\n    <tr>\n      <th>2021-05-23T00:00:00</th>\n      <td>10</td>\n    </tr>\n  </tbody>\n</table>\n<p>64 rows × 1 columns</p>\n</div>"
     },
     "metadata": {},
     "execution_count": 156
    }
   ],
   "source": [
    "games_final.groupby('Day').agg({'GameId':'count'})"
   ]
  }
 ]
}