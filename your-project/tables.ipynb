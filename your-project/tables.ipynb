{
 "metadata": {
  "language_info": {
   "codemirror_mode": {
    "name": "ipython",
    "version": 3
   },
   "file_extension": ".py",
   "mimetype": "text/x-python",
   "name": "python",
   "nbconvert_exporter": "python",
   "pygments_lexer": "ipython3",
   "version": "3.8.5-final"
  },
  "orig_nbformat": 2,
  "kernelspec": {
   "name": "python38564bit4f57281242da47b0a84bc03a5fa692d9",
   "display_name": "Python 3.8.5 64-bit"
  }
 },
 "nbformat": 4,
 "nbformat_minor": 2,
 "cells": [
  {
   "cell_type": "code",
   "execution_count": 154,
   "metadata": {},
   "outputs": [],
   "source": [
    "import pandas as pd\n",
    "import numpy as np\n",
    "import os\n",
    "import matplotlib.pyplot as plt\n",
    "import seaborn as sns\n",
    "import image\n",
    "import pylab as plot"
   ]
  },
  {
   "cell_type": "code",
   "execution_count": 155,
   "metadata": {},
   "outputs": [
    {
     "output_type": "execute_result",
     "data": {
      "text/plain": [
       "          Day             HomeTeamName         AwayTeamName  \\\n",
       "0  2020-09-12                Fulham FC           Arsenal FC   \n",
       "1  2020-09-12        Crystal Palace FC       Southampton FC   \n",
       "2  2020-09-12             Liverpool FC      Leeds United FC   \n",
       "3  2020-09-12       West Ham United FC  Newcastle United FC   \n",
       "4  2020-09-13  West Bromwich Albion FC    Leicester City FC   \n",
       "\n",
       "                Winner          Prediction  \n",
       "0           Arsenal FC          Arsenal FC  \n",
       "1    Crystal Palace FC      Southampton FC  \n",
       "2         Liverpool FC        Liverpool FC  \n",
       "3  Newcastle United FC  West Ham United FC  \n",
       "4    Leicester City FC   Leicester City FC  "
      ],
      "text/html": "<div>\n<style scoped>\n    .dataframe tbody tr th:only-of-type {\n        vertical-align: middle;\n    }\n\n    .dataframe tbody tr th {\n        vertical-align: top;\n    }\n\n    .dataframe thead th {\n        text-align: right;\n    }\n</style>\n<table border=\"1\" class=\"dataframe\">\n  <thead>\n    <tr style=\"text-align: right;\">\n      <th></th>\n      <th>Day</th>\n      <th>HomeTeamName</th>\n      <th>AwayTeamName</th>\n      <th>Winner</th>\n      <th>Prediction</th>\n    </tr>\n  </thead>\n  <tbody>\n    <tr>\n      <th>0</th>\n      <td>2020-09-12</td>\n      <td>Fulham FC</td>\n      <td>Arsenal FC</td>\n      <td>Arsenal FC</td>\n      <td>Arsenal FC</td>\n    </tr>\n    <tr>\n      <th>1</th>\n      <td>2020-09-12</td>\n      <td>Crystal Palace FC</td>\n      <td>Southampton FC</td>\n      <td>Crystal Palace FC</td>\n      <td>Southampton FC</td>\n    </tr>\n    <tr>\n      <th>2</th>\n      <td>2020-09-12</td>\n      <td>Liverpool FC</td>\n      <td>Leeds United FC</td>\n      <td>Liverpool FC</td>\n      <td>Liverpool FC</td>\n    </tr>\n    <tr>\n      <th>3</th>\n      <td>2020-09-12</td>\n      <td>West Ham United FC</td>\n      <td>Newcastle United FC</td>\n      <td>Newcastle United FC</td>\n      <td>West Ham United FC</td>\n    </tr>\n    <tr>\n      <th>4</th>\n      <td>2020-09-13</td>\n      <td>West Bromwich Albion FC</td>\n      <td>Leicester City FC</td>\n      <td>Leicester City FC</td>\n      <td>Leicester City FC</td>\n    </tr>\n  </tbody>\n</table>\n</div>"
     },
     "metadata": {},
     "execution_count": 155
    }
   ],
   "source": [
    "data2021 = pd.read_csv('season2021.csv')\n",
    "data2021.head()"
   ]
  },
  {
   "cell_type": "code",
   "execution_count": 160,
   "metadata": {},
   "outputs": [
    {
     "output_type": "display_data",
     "data": {
      "text/plain": "<Figure size 2160x1440 with 1 Axes>",
      "image/svg+xml": "<?xml version=\"1.0\" encoding=\"utf-8\" standalone=\"no\"?>\r\n<!DOCTYPE svg PUBLIC \"-//W3C//DTD SVG 1.1//EN\"\r\n  \"http://www.w3.org/Graphics/SVG/1.1/DTD/svg11.dtd\">\r\n<!-- Created with matplotlib (https://matplotlib.org/) -->\r\n<svg height=\"1118.278125pt\" version=\"1.1\" viewBox=\"0 0 1708.125 1118.278125\" width=\"1708.125pt\" xmlns=\"http://www.w3.org/2000/svg\" xmlns:xlink=\"http://www.w3.org/1999/xlink\">\r\n <metadata>\r\n  <rdf:RDF xmlns:cc=\"http://creativecommons.org/ns#\" xmlns:dc=\"http://purl.org/dc/elements/1.1/\" xmlns:rdf=\"http://www.w3.org/1999/02/22-rdf-syntax-ns#\">\r\n   <cc:Work>\r\n    <dc:type rdf:resource=\"http://purl.org/dc/dcmitype/StillImage\"/>\r\n    <dc:date>2020-10-29T22:29:44.403379</dc:date>\r\n    <dc:format>image/svg+xml</dc:format>\r\n    <dc:creator>\r\n     <cc:Agent>\r\n      <dc:title>Matplotlib v3.3.2, https://matplotlib.org/</dc:title>\r\n     </cc:Agent>\r\n    </dc:creator>\r\n   </cc:Work>\r\n  </rdf:RDF>\r\n </metadata>\r\n <defs>\r\n  <style type=\"text/css\">*{stroke-linecap:butt;stroke-linejoin:round;}</style>\r\n </defs>\r\n <g id=\"figure_1\">\r\n  <g id=\"patch_1\">\r\n   <path d=\"M 0 1118.278125 \r\nL 1708.125 1118.278125 \r\nL 1708.125 0 \r\nL 0 0 \r\nz\r\n\" style=\"fill:none;\"/>\r\n  </g>\r\n  <g id=\"axes_1\">\r\n   <g id=\"patch_2\">\r\n    <path d=\"M 26.925 1094.4 \r\nL 1700.925 1094.4 \r\nL 1700.925 7.2 \r\nL 26.925 7.2 \r\nz\r\n\" style=\"fill:#ffffff;\"/>\r\n   </g>\r\n   <g id=\"patch_3\">\r\n    <path clip-path=\"url(#p2bf58794b7)\" d=\"M 103.015909 1094.4 \r\nL 175.483442 1094.4 \r\nL 175.483442 972.584874 \r\nL 103.015909 972.584874 \r\nz\r\n\" style=\"fill:#1f77b4;\"/>\r\n   </g>\r\n   <g id=\"patch_4\">\r\n    <path clip-path=\"url(#p2bf58794b7)\" d=\"M 193.600325 1094.4 \r\nL 266.067857 1094.4 \r\nL 266.067857 911.677311 \r\nL 193.600325 911.677311 \r\nz\r\n\" style=\"fill:#1f77b4;\"/>\r\n   </g>\r\n   <g id=\"patch_5\">\r\n    <path clip-path=\"url(#p2bf58794b7)\" d=\"M 284.18474 1094.4 \r\nL 356.652273 1094.4 \r\nL 356.652273 1033.492437 \r\nL 284.18474 1033.492437 \r\nz\r\n\" style=\"fill:#1f77b4;\"/>\r\n   </g>\r\n   <g id=\"patch_6\">\r\n    <path clip-path=\"url(#p2bf58794b7)\" d=\"M 374.769156 1094.4 \r\nL 447.236688 1094.4 \r\nL 447.236688 972.584874 \r\nL 374.769156 972.584874 \r\nz\r\n\" style=\"fill:#1f77b4;\"/>\r\n   </g>\r\n   <g id=\"patch_7\">\r\n    <path clip-path=\"url(#p2bf58794b7)\" d=\"M 465.353571 1094.4 \r\nL 537.821104 1094.4 \r\nL 537.821104 911.677311 \r\nL 465.353571 911.677311 \r\nz\r\n\" style=\"fill:#1f77b4;\"/>\r\n   </g>\r\n   <g id=\"patch_8\">\r\n    <path clip-path=\"url(#p2bf58794b7)\" d=\"M 555.937987 1094.4 \r\nL 628.405519 1094.4 \r\nL 628.405519 850.769748 \r\nL 555.937987 850.769748 \r\nz\r\n\" style=\"fill:#1f77b4;\"/>\r\n   </g>\r\n   <g id=\"patch_9\">\r\n    <path clip-path=\"url(#p2bf58794b7)\" d=\"M 646.522403 1094.4 \r\nL 718.989935 1094.4 \r\nL 718.989935 972.584874 \r\nL 646.522403 972.584874 \r\nz\r\n\" style=\"fill:#1f77b4;\"/>\r\n   </g>\r\n   <g id=\"patch_10\">\r\n    <path clip-path=\"url(#p2bf58794b7)\" d=\"M 737.106818 1094.4 \r\nL 809.574351 1094.4 \r\nL 809.574351 850.769748 \r\nL 737.106818 850.769748 \r\nz\r\n\" style=\"fill:#1f77b4;\"/>\r\n   </g>\r\n   <g id=\"patch_11\">\r\n    <path clip-path=\"url(#p2bf58794b7)\" d=\"M 827.691234 1094.4 \r\nL 900.158766 1094.4 \r\nL 900.158766 850.769748 \r\nL 827.691234 850.769748 \r\nz\r\n\" style=\"fill:#1f77b4;\"/>\r\n   </g>\r\n   <g id=\"patch_12\">\r\n    <path clip-path=\"url(#p2bf58794b7)\" d=\"M 918.275649 1094.4 \r\nL 990.743182 1094.4 \r\nL 990.743182 972.584874 \r\nL 918.275649 972.584874 \r\nz\r\n\" style=\"fill:#1f77b4;\"/>\r\n   </g>\r\n   <g id=\"patch_13\">\r\n    <path clip-path=\"url(#p2bf58794b7)\" d=\"M 1008.860065 1094.4 \r\nL 1081.327597 1094.4 \r\nL 1081.327597 972.584874 \r\nL 1008.860065 972.584874 \r\nz\r\n\" style=\"fill:#1f77b4;\"/>\r\n   </g>\r\n   <g id=\"patch_14\">\r\n    <path clip-path=\"url(#p2bf58794b7)\" d=\"M 1099.444481 1094.4 \r\nL 1171.912013 1094.4 \r\nL 1171.912013 972.584874 \r\nL 1099.444481 972.584874 \r\nz\r\n\" style=\"fill:#1f77b4;\"/>\r\n   </g>\r\n   <g id=\"patch_15\">\r\n    <path clip-path=\"url(#p2bf58794b7)\" d=\"M 1190.028896 1094.4 \r\nL 1262.496429 1094.4 \r\nL 1262.496429 911.677311 \r\nL 1190.028896 911.677311 \r\nz\r\n\" style=\"fill:#1f77b4;\"/>\r\n   </g>\r\n   <g id=\"patch_16\">\r\n    <path clip-path=\"url(#p2bf58794b7)\" d=\"M 1280.613312 1094.4 \r\nL 1353.080844 1094.4 \r\nL 1353.080844 58.971429 \r\nL 1280.613312 58.971429 \r\nz\r\n\" style=\"fill:#1f77b4;\"/>\r\n   </g>\r\n   <g id=\"patch_17\">\r\n    <path clip-path=\"url(#p2bf58794b7)\" d=\"M 1371.197727 1094.4 \r\nL 1443.66526 1094.4 \r\nL 1443.66526 911.677311 \r\nL 1371.197727 911.677311 \r\nz\r\n\" style=\"fill:#1f77b4;\"/>\r\n   </g>\r\n   <g id=\"patch_18\">\r\n    <path clip-path=\"url(#p2bf58794b7)\" d=\"M 1461.782143 1094.4 \r\nL 1534.249675 1094.4 \r\nL 1534.249675 972.584874 \r\nL 1461.782143 972.584874 \r\nz\r\n\" style=\"fill:#1f77b4;\"/>\r\n   </g>\r\n   <g id=\"patch_19\">\r\n    <path clip-path=\"url(#p2bf58794b7)\" d=\"M 1552.366558 1094.4 \r\nL 1624.834091 1094.4 \r\nL 1624.834091 972.584874 \r\nL 1552.366558 972.584874 \r\nz\r\n\" style=\"fill:#1f77b4;\"/>\r\n   </g>\r\n   <g id=\"matplotlib.axis_1\">\r\n    <g id=\"xtick_1\">\r\n     <g id=\"line2d_1\">\r\n      <defs>\r\n       <path d=\"M 0 0 \r\nL 0 3.5 \r\n\" id=\"m713f1a65a8\" style=\"stroke:#000000;stroke-width:0.8;\"/>\r\n      </defs>\r\n      <g>\r\n       <use style=\"stroke:#000000;stroke-width:0.8;\" x=\"139.249675\" xlink:href=\"#m713f1a65a8\" y=\"1094.4\"/>\r\n      </g>\r\n     </g>\r\n     <g id=\"text_1\">\r\n      <!-- Arsenal FC -->\r\n      <g transform=\"translate(112.514519 1108.998438)scale(0.1 -0.1)\">\r\n       <defs>\r\n        <path d=\"M 34.1875 63.1875 \r\nL 20.796875 26.90625 \r\nL 47.609375 26.90625 \r\nz\r\nM 28.609375 72.90625 \r\nL 39.796875 72.90625 \r\nL 67.578125 0 \r\nL 57.328125 0 \r\nL 50.6875 18.703125 \r\nL 17.828125 18.703125 \r\nL 11.1875 0 \r\nL 0.78125 0 \r\nz\r\n\" id=\"DejaVuSans-65\"/>\r\n        <path d=\"M 41.109375 46.296875 \r\nQ 39.59375 47.171875 37.8125 47.578125 \r\nQ 36.03125 48 33.890625 48 \r\nQ 26.265625 48 22.1875 43.046875 \r\nQ 18.109375 38.09375 18.109375 28.8125 \r\nL 18.109375 0 \r\nL 9.078125 0 \r\nL 9.078125 54.6875 \r\nL 18.109375 54.6875 \r\nL 18.109375 46.1875 \r\nQ 20.953125 51.171875 25.484375 53.578125 \r\nQ 30.03125 56 36.53125 56 \r\nQ 37.453125 56 38.578125 55.875 \r\nQ 39.703125 55.765625 41.0625 55.515625 \r\nz\r\n\" id=\"DejaVuSans-114\"/>\r\n        <path d=\"M 44.28125 53.078125 \r\nL 44.28125 44.578125 \r\nQ 40.484375 46.53125 36.375 47.5 \r\nQ 32.28125 48.484375 27.875 48.484375 \r\nQ 21.1875 48.484375 17.84375 46.4375 \r\nQ 14.5 44.390625 14.5 40.28125 \r\nQ 14.5 37.15625 16.890625 35.375 \r\nQ 19.28125 33.59375 26.515625 31.984375 \r\nL 29.59375 31.296875 \r\nQ 39.15625 29.25 43.1875 25.515625 \r\nQ 47.21875 21.78125 47.21875 15.09375 \r\nQ 47.21875 7.46875 41.1875 3.015625 \r\nQ 35.15625 -1.421875 24.609375 -1.421875 \r\nQ 20.21875 -1.421875 15.453125 -0.5625 \r\nQ 10.6875 0.296875 5.421875 2 \r\nL 5.421875 11.28125 \r\nQ 10.40625 8.6875 15.234375 7.390625 \r\nQ 20.0625 6.109375 24.8125 6.109375 \r\nQ 31.15625 6.109375 34.5625 8.28125 \r\nQ 37.984375 10.453125 37.984375 14.40625 \r\nQ 37.984375 18.0625 35.515625 20.015625 \r\nQ 33.0625 21.96875 24.703125 23.78125 \r\nL 21.578125 24.515625 \r\nQ 13.234375 26.265625 9.515625 29.90625 \r\nQ 5.8125 33.546875 5.8125 39.890625 \r\nQ 5.8125 47.609375 11.28125 51.796875 \r\nQ 16.75 56 26.8125 56 \r\nQ 31.78125 56 36.171875 55.265625 \r\nQ 40.578125 54.546875 44.28125 53.078125 \r\nz\r\n\" id=\"DejaVuSans-115\"/>\r\n        <path d=\"M 56.203125 29.59375 \r\nL 56.203125 25.203125 \r\nL 14.890625 25.203125 \r\nQ 15.484375 15.921875 20.484375 11.0625 \r\nQ 25.484375 6.203125 34.421875 6.203125 \r\nQ 39.59375 6.203125 44.453125 7.46875 \r\nQ 49.3125 8.734375 54.109375 11.28125 \r\nL 54.109375 2.78125 \r\nQ 49.265625 0.734375 44.1875 -0.34375 \r\nQ 39.109375 -1.421875 33.890625 -1.421875 \r\nQ 20.796875 -1.421875 13.15625 6.1875 \r\nQ 5.515625 13.8125 5.515625 26.8125 \r\nQ 5.515625 40.234375 12.765625 48.109375 \r\nQ 20.015625 56 32.328125 56 \r\nQ 43.359375 56 49.78125 48.890625 \r\nQ 56.203125 41.796875 56.203125 29.59375 \r\nz\r\nM 47.21875 32.234375 \r\nQ 47.125 39.59375 43.09375 43.984375 \r\nQ 39.0625 48.390625 32.421875 48.390625 \r\nQ 24.90625 48.390625 20.390625 44.140625 \r\nQ 15.875 39.890625 15.1875 32.171875 \r\nz\r\n\" id=\"DejaVuSans-101\"/>\r\n        <path d=\"M 54.890625 33.015625 \r\nL 54.890625 0 \r\nL 45.90625 0 \r\nL 45.90625 32.71875 \r\nQ 45.90625 40.484375 42.875 44.328125 \r\nQ 39.84375 48.1875 33.796875 48.1875 \r\nQ 26.515625 48.1875 22.3125 43.546875 \r\nQ 18.109375 38.921875 18.109375 30.90625 \r\nL 18.109375 0 \r\nL 9.078125 0 \r\nL 9.078125 54.6875 \r\nL 18.109375 54.6875 \r\nL 18.109375 46.1875 \r\nQ 21.34375 51.125 25.703125 53.5625 \r\nQ 30.078125 56 35.796875 56 \r\nQ 45.21875 56 50.046875 50.171875 \r\nQ 54.890625 44.34375 54.890625 33.015625 \r\nz\r\n\" id=\"DejaVuSans-110\"/>\r\n        <path d=\"M 34.28125 27.484375 \r\nQ 23.390625 27.484375 19.1875 25 \r\nQ 14.984375 22.515625 14.984375 16.5 \r\nQ 14.984375 11.71875 18.140625 8.90625 \r\nQ 21.296875 6.109375 26.703125 6.109375 \r\nQ 34.1875 6.109375 38.703125 11.40625 \r\nQ 43.21875 16.703125 43.21875 25.484375 \r\nL 43.21875 27.484375 \r\nz\r\nM 52.203125 31.203125 \r\nL 52.203125 0 \r\nL 43.21875 0 \r\nL 43.21875 8.296875 \r\nQ 40.140625 3.328125 35.546875 0.953125 \r\nQ 30.953125 -1.421875 24.3125 -1.421875 \r\nQ 15.921875 -1.421875 10.953125 3.296875 \r\nQ 6 8.015625 6 15.921875 \r\nQ 6 25.140625 12.171875 29.828125 \r\nQ 18.359375 34.515625 30.609375 34.515625 \r\nL 43.21875 34.515625 \r\nL 43.21875 35.40625 \r\nQ 43.21875 41.609375 39.140625 45 \r\nQ 35.0625 48.390625 27.6875 48.390625 \r\nQ 23 48.390625 18.546875 47.265625 \r\nQ 14.109375 46.140625 10.015625 43.890625 \r\nL 10.015625 52.203125 \r\nQ 14.9375 54.109375 19.578125 55.046875 \r\nQ 24.21875 56 28.609375 56 \r\nQ 40.484375 56 46.34375 49.84375 \r\nQ 52.203125 43.703125 52.203125 31.203125 \r\nz\r\n\" id=\"DejaVuSans-97\"/>\r\n        <path d=\"M 9.421875 75.984375 \r\nL 18.40625 75.984375 \r\nL 18.40625 0 \r\nL 9.421875 0 \r\nz\r\n\" id=\"DejaVuSans-108\"/>\r\n        <path id=\"DejaVuSans-32\"/>\r\n        <path d=\"M 9.8125 72.90625 \r\nL 51.703125 72.90625 \r\nL 51.703125 64.59375 \r\nL 19.671875 64.59375 \r\nL 19.671875 43.109375 \r\nL 48.578125 43.109375 \r\nL 48.578125 34.8125 \r\nL 19.671875 34.8125 \r\nL 19.671875 0 \r\nL 9.8125 0 \r\nz\r\n\" id=\"DejaVuSans-70\"/>\r\n        <path d=\"M 64.40625 67.28125 \r\nL 64.40625 56.890625 \r\nQ 59.421875 61.53125 53.78125 63.8125 \r\nQ 48.140625 66.109375 41.796875 66.109375 \r\nQ 29.296875 66.109375 22.65625 58.46875 \r\nQ 16.015625 50.828125 16.015625 36.375 \r\nQ 16.015625 21.96875 22.65625 14.328125 \r\nQ 29.296875 6.6875 41.796875 6.6875 \r\nQ 48.140625 6.6875 53.78125 8.984375 \r\nQ 59.421875 11.28125 64.40625 15.921875 \r\nL 64.40625 5.609375 \r\nQ 59.234375 2.09375 53.4375 0.328125 \r\nQ 47.65625 -1.421875 41.21875 -1.421875 \r\nQ 24.65625 -1.421875 15.125 8.703125 \r\nQ 5.609375 18.84375 5.609375 36.375 \r\nQ 5.609375 53.953125 15.125 64.078125 \r\nQ 24.65625 74.21875 41.21875 74.21875 \r\nQ 47.75 74.21875 53.53125 72.484375 \r\nQ 59.328125 70.75 64.40625 67.28125 \r\nz\r\n\" id=\"DejaVuSans-67\"/>\r\n       </defs>\r\n       <use xlink:href=\"#DejaVuSans-65\"/>\r\n       <use x=\"68.408203\" xlink:href=\"#DejaVuSans-114\"/>\r\n       <use x=\"109.521484\" xlink:href=\"#DejaVuSans-115\"/>\r\n       <use x=\"161.621094\" xlink:href=\"#DejaVuSans-101\"/>\r\n       <use x=\"223.144531\" xlink:href=\"#DejaVuSans-110\"/>\r\n       <use x=\"286.523438\" xlink:href=\"#DejaVuSans-97\"/>\r\n       <use x=\"347.802734\" xlink:href=\"#DejaVuSans-108\"/>\r\n       <use x=\"375.585938\" xlink:href=\"#DejaVuSans-32\"/>\r\n       <use x=\"407.373047\" xlink:href=\"#DejaVuSans-70\"/>\r\n       <use x=\"464.892578\" xlink:href=\"#DejaVuSans-67\"/>\r\n      </g>\r\n     </g>\r\n    </g>\r\n    <g id=\"xtick_2\">\r\n     <g id=\"line2d_2\">\r\n      <g>\r\n       <use style=\"stroke:#000000;stroke-width:0.8;\" x=\"229.834091\" xlink:href=\"#m713f1a65a8\" y=\"1094.4\"/>\r\n      </g>\r\n     </g>\r\n     <g id=\"text_2\">\r\n      <!-- Aston Villa FC -->\r\n      <g transform=\"translate(195.536435 1108.998438)scale(0.1 -0.1)\">\r\n       <defs>\r\n        <path d=\"M 18.3125 70.21875 \r\nL 18.3125 54.6875 \r\nL 36.8125 54.6875 \r\nL 36.8125 47.703125 \r\nL 18.3125 47.703125 \r\nL 18.3125 18.015625 \r\nQ 18.3125 11.328125 20.140625 9.421875 \r\nQ 21.96875 7.515625 27.59375 7.515625 \r\nL 36.8125 7.515625 \r\nL 36.8125 0 \r\nL 27.59375 0 \r\nQ 17.1875 0 13.234375 3.875 \r\nQ 9.28125 7.765625 9.28125 18.015625 \r\nL 9.28125 47.703125 \r\nL 2.6875 47.703125 \r\nL 2.6875 54.6875 \r\nL 9.28125 54.6875 \r\nL 9.28125 70.21875 \r\nz\r\n\" id=\"DejaVuSans-116\"/>\r\n        <path d=\"M 30.609375 48.390625 \r\nQ 23.390625 48.390625 19.1875 42.75 \r\nQ 14.984375 37.109375 14.984375 27.296875 \r\nQ 14.984375 17.484375 19.15625 11.84375 \r\nQ 23.34375 6.203125 30.609375 6.203125 \r\nQ 37.796875 6.203125 41.984375 11.859375 \r\nQ 46.1875 17.53125 46.1875 27.296875 \r\nQ 46.1875 37.015625 41.984375 42.703125 \r\nQ 37.796875 48.390625 30.609375 48.390625 \r\nz\r\nM 30.609375 56 \r\nQ 42.328125 56 49.015625 48.375 \r\nQ 55.71875 40.765625 55.71875 27.296875 \r\nQ 55.71875 13.875 49.015625 6.21875 \r\nQ 42.328125 -1.421875 30.609375 -1.421875 \r\nQ 18.84375 -1.421875 12.171875 6.21875 \r\nQ 5.515625 13.875 5.515625 27.296875 \r\nQ 5.515625 40.765625 12.171875 48.375 \r\nQ 18.84375 56 30.609375 56 \r\nz\r\n\" id=\"DejaVuSans-111\"/>\r\n        <path d=\"M 28.609375 0 \r\nL 0.78125 72.90625 \r\nL 11.078125 72.90625 \r\nL 34.1875 11.53125 \r\nL 57.328125 72.90625 \r\nL 67.578125 72.90625 \r\nL 39.796875 0 \r\nz\r\n\" id=\"DejaVuSans-86\"/>\r\n        <path d=\"M 9.421875 54.6875 \r\nL 18.40625 54.6875 \r\nL 18.40625 0 \r\nL 9.421875 0 \r\nz\r\nM 9.421875 75.984375 \r\nL 18.40625 75.984375 \r\nL 18.40625 64.59375 \r\nL 9.421875 64.59375 \r\nz\r\n\" id=\"DejaVuSans-105\"/>\r\n       </defs>\r\n       <use xlink:href=\"#DejaVuSans-65\"/>\r\n       <use x=\"68.408203\" xlink:href=\"#DejaVuSans-115\"/>\r\n       <use x=\"120.507812\" xlink:href=\"#DejaVuSans-116\"/>\r\n       <use x=\"159.716797\" xlink:href=\"#DejaVuSans-111\"/>\r\n       <use x=\"220.898438\" xlink:href=\"#DejaVuSans-110\"/>\r\n       <use x=\"284.277344\" xlink:href=\"#DejaVuSans-32\"/>\r\n       <use x=\"316.064453\" xlink:href=\"#DejaVuSans-86\"/>\r\n       <use x=\"382.222656\" xlink:href=\"#DejaVuSans-105\"/>\r\n       <use x=\"410.005859\" xlink:href=\"#DejaVuSans-108\"/>\r\n       <use x=\"437.789062\" xlink:href=\"#DejaVuSans-108\"/>\r\n       <use x=\"465.572266\" xlink:href=\"#DejaVuSans-97\"/>\r\n       <use x=\"526.851562\" xlink:href=\"#DejaVuSans-32\"/>\r\n       <use x=\"558.638672\" xlink:href=\"#DejaVuSans-70\"/>\r\n       <use x=\"616.158203\" xlink:href=\"#DejaVuSans-67\"/>\r\n      </g>\r\n     </g>\r\n    </g>\r\n    <g id=\"xtick_3\">\r\n     <g id=\"line2d_3\">\r\n      <g>\r\n       <use style=\"stroke:#000000;stroke-width:0.8;\" x=\"320.418506\" xlink:href=\"#m713f1a65a8\" y=\"1094.4\"/>\r\n      </g>\r\n     </g>\r\n     <g id=\"text_3\">\r\n      <!-- Brighton &amp; Hove Albion FC -->\r\n      <g transform=\"translate(253.93335 1108.998438)scale(0.1 -0.1)\">\r\n       <defs>\r\n        <path d=\"M 19.671875 34.8125 \r\nL 19.671875 8.109375 \r\nL 35.5 8.109375 \r\nQ 43.453125 8.109375 47.28125 11.40625 \r\nQ 51.125 14.703125 51.125 21.484375 \r\nQ 51.125 28.328125 47.28125 31.5625 \r\nQ 43.453125 34.8125 35.5 34.8125 \r\nz\r\nM 19.671875 64.796875 \r\nL 19.671875 42.828125 \r\nL 34.28125 42.828125 \r\nQ 41.5 42.828125 45.03125 45.53125 \r\nQ 48.578125 48.25 48.578125 53.8125 \r\nQ 48.578125 59.328125 45.03125 62.0625 \r\nQ 41.5 64.796875 34.28125 64.796875 \r\nz\r\nM 9.8125 72.90625 \r\nL 35.015625 72.90625 \r\nQ 46.296875 72.90625 52.390625 68.21875 \r\nQ 58.5 63.53125 58.5 54.890625 \r\nQ 58.5 48.1875 55.375 44.234375 \r\nQ 52.25 40.28125 46.1875 39.3125 \r\nQ 53.46875 37.75 57.5 32.78125 \r\nQ 61.53125 27.828125 61.53125 20.40625 \r\nQ 61.53125 10.640625 54.890625 5.3125 \r\nQ 48.25 0 35.984375 0 \r\nL 9.8125 0 \r\nz\r\n\" id=\"DejaVuSans-66\"/>\r\n        <path d=\"M 45.40625 27.984375 \r\nQ 45.40625 37.75 41.375 43.109375 \r\nQ 37.359375 48.484375 30.078125 48.484375 \r\nQ 22.859375 48.484375 18.828125 43.109375 \r\nQ 14.796875 37.75 14.796875 27.984375 \r\nQ 14.796875 18.265625 18.828125 12.890625 \r\nQ 22.859375 7.515625 30.078125 7.515625 \r\nQ 37.359375 7.515625 41.375 12.890625 \r\nQ 45.40625 18.265625 45.40625 27.984375 \r\nz\r\nM 54.390625 6.78125 \r\nQ 54.390625 -7.171875 48.1875 -13.984375 \r\nQ 42 -20.796875 29.203125 -20.796875 \r\nQ 24.46875 -20.796875 20.265625 -20.09375 \r\nQ 16.0625 -19.390625 12.109375 -17.921875 \r\nL 12.109375 -9.1875 \r\nQ 16.0625 -11.328125 19.921875 -12.34375 \r\nQ 23.78125 -13.375 27.78125 -13.375 \r\nQ 36.625 -13.375 41.015625 -8.765625 \r\nQ 45.40625 -4.15625 45.40625 5.171875 \r\nL 45.40625 9.625 \r\nQ 42.625 4.78125 38.28125 2.390625 \r\nQ 33.9375 0 27.875 0 \r\nQ 17.828125 0 11.671875 7.65625 \r\nQ 5.515625 15.328125 5.515625 27.984375 \r\nQ 5.515625 40.671875 11.671875 48.328125 \r\nQ 17.828125 56 27.875 56 \r\nQ 33.9375 56 38.28125 53.609375 \r\nQ 42.625 51.21875 45.40625 46.390625 \r\nL 45.40625 54.6875 \r\nL 54.390625 54.6875 \r\nz\r\n\" id=\"DejaVuSans-103\"/>\r\n        <path d=\"M 54.890625 33.015625 \r\nL 54.890625 0 \r\nL 45.90625 0 \r\nL 45.90625 32.71875 \r\nQ 45.90625 40.484375 42.875 44.328125 \r\nQ 39.84375 48.1875 33.796875 48.1875 \r\nQ 26.515625 48.1875 22.3125 43.546875 \r\nQ 18.109375 38.921875 18.109375 30.90625 \r\nL 18.109375 0 \r\nL 9.078125 0 \r\nL 9.078125 75.984375 \r\nL 18.109375 75.984375 \r\nL 18.109375 46.1875 \r\nQ 21.34375 51.125 25.703125 53.5625 \r\nQ 30.078125 56 35.796875 56 \r\nQ 45.21875 56 50.046875 50.171875 \r\nQ 54.890625 44.34375 54.890625 33.015625 \r\nz\r\n\" id=\"DejaVuSans-104\"/>\r\n        <path d=\"M 24.3125 39.203125 \r\nQ 19.875 35.25 17.796875 31.3125 \r\nQ 15.71875 27.390625 15.71875 23.09375 \r\nQ 15.71875 15.96875 20.890625 11.234375 \r\nQ 26.078125 6.5 33.890625 6.5 \r\nQ 38.53125 6.5 42.578125 8.03125 \r\nQ 46.625 9.578125 50.203125 12.703125 \r\nz\r\nM 31.203125 44.671875 \r\nL 56 19.28125 \r\nQ 58.890625 23.640625 60.5 28.59375 \r\nQ 62.109375 33.546875 62.40625 39.109375 \r\nL 71.484375 39.109375 \r\nQ 70.90625 32.671875 68.359375 26.359375 \r\nQ 65.828125 20.0625 61.28125 13.921875 \r\nL 74.90625 0 \r\nL 62.59375 0 \r\nL 55.609375 7.171875 \r\nQ 50.53125 2.828125 44.96875 0.703125 \r\nQ 39.40625 -1.421875 33.015625 -1.421875 \r\nQ 21.234375 -1.421875 13.765625 5.296875 \r\nQ 6.296875 12.015625 6.296875 22.515625 \r\nQ 6.296875 28.765625 9.5625 34.25 \r\nQ 12.84375 39.75 19.390625 44.578125 \r\nQ 17.046875 47.65625 15.8125 50.703125 \r\nQ 14.59375 53.765625 14.59375 56.6875 \r\nQ 14.59375 64.59375 20.015625 69.40625 \r\nQ 25.4375 74.21875 34.421875 74.21875 \r\nQ 38.484375 74.21875 42.5 73.34375 \r\nQ 46.53125 72.46875 50.6875 70.703125 \r\nL 50.6875 61.8125 \r\nQ 46.4375 64.109375 42.578125 65.296875 \r\nQ 38.71875 66.5 35.40625 66.5 \r\nQ 30.28125 66.5 27.078125 63.78125 \r\nQ 23.875 61.078125 23.875 56.78125 \r\nQ 23.875 54.296875 25.3125 51.78125 \r\nQ 26.765625 49.265625 31.203125 44.671875 \r\nz\r\n\" id=\"DejaVuSans-38\"/>\r\n        <path d=\"M 9.8125 72.90625 \r\nL 19.671875 72.90625 \r\nL 19.671875 43.015625 \r\nL 55.515625 43.015625 \r\nL 55.515625 72.90625 \r\nL 65.375 72.90625 \r\nL 65.375 0 \r\nL 55.515625 0 \r\nL 55.515625 34.71875 \r\nL 19.671875 34.71875 \r\nL 19.671875 0 \r\nL 9.8125 0 \r\nz\r\n\" id=\"DejaVuSans-72\"/>\r\n        <path d=\"M 2.984375 54.6875 \r\nL 12.5 54.6875 \r\nL 29.59375 8.796875 \r\nL 46.6875 54.6875 \r\nL 56.203125 54.6875 \r\nL 35.6875 0 \r\nL 23.484375 0 \r\nz\r\n\" id=\"DejaVuSans-118\"/>\r\n        <path d=\"M 48.6875 27.296875 \r\nQ 48.6875 37.203125 44.609375 42.84375 \r\nQ 40.53125 48.484375 33.40625 48.484375 \r\nQ 26.265625 48.484375 22.1875 42.84375 \r\nQ 18.109375 37.203125 18.109375 27.296875 \r\nQ 18.109375 17.390625 22.1875 11.75 \r\nQ 26.265625 6.109375 33.40625 6.109375 \r\nQ 40.53125 6.109375 44.609375 11.75 \r\nQ 48.6875 17.390625 48.6875 27.296875 \r\nz\r\nM 18.109375 46.390625 \r\nQ 20.953125 51.265625 25.265625 53.625 \r\nQ 29.59375 56 35.59375 56 \r\nQ 45.5625 56 51.78125 48.09375 \r\nQ 58.015625 40.1875 58.015625 27.296875 \r\nQ 58.015625 14.40625 51.78125 6.484375 \r\nQ 45.5625 -1.421875 35.59375 -1.421875 \r\nQ 29.59375 -1.421875 25.265625 0.953125 \r\nQ 20.953125 3.328125 18.109375 8.203125 \r\nL 18.109375 0 \r\nL 9.078125 0 \r\nL 9.078125 75.984375 \r\nL 18.109375 75.984375 \r\nz\r\n\" id=\"DejaVuSans-98\"/>\r\n       </defs>\r\n       <use xlink:href=\"#DejaVuSans-66\"/>\r\n       <use x=\"68.603516\" xlink:href=\"#DejaVuSans-114\"/>\r\n       <use x=\"109.716797\" xlink:href=\"#DejaVuSans-105\"/>\r\n       <use x=\"137.5\" xlink:href=\"#DejaVuSans-103\"/>\r\n       <use x=\"200.976562\" xlink:href=\"#DejaVuSans-104\"/>\r\n       <use x=\"264.355469\" xlink:href=\"#DejaVuSans-116\"/>\r\n       <use x=\"303.564453\" xlink:href=\"#DejaVuSans-111\"/>\r\n       <use x=\"364.746094\" xlink:href=\"#DejaVuSans-110\"/>\r\n       <use x=\"428.125\" xlink:href=\"#DejaVuSans-32\"/>\r\n       <use x=\"459.912109\" xlink:href=\"#DejaVuSans-38\"/>\r\n       <use x=\"537.890625\" xlink:href=\"#DejaVuSans-32\"/>\r\n       <use x=\"569.677734\" xlink:href=\"#DejaVuSans-72\"/>\r\n       <use x=\"644.873047\" xlink:href=\"#DejaVuSans-111\"/>\r\n       <use x=\"706.054688\" xlink:href=\"#DejaVuSans-118\"/>\r\n       <use x=\"765.234375\" xlink:href=\"#DejaVuSans-101\"/>\r\n       <use x=\"826.757812\" xlink:href=\"#DejaVuSans-32\"/>\r\n       <use x=\"858.544922\" xlink:href=\"#DejaVuSans-65\"/>\r\n       <use x=\"926.953125\" xlink:href=\"#DejaVuSans-108\"/>\r\n       <use x=\"954.736328\" xlink:href=\"#DejaVuSans-98\"/>\r\n       <use x=\"1018.212891\" xlink:href=\"#DejaVuSans-105\"/>\r\n       <use x=\"1045.996094\" xlink:href=\"#DejaVuSans-111\"/>\r\n       <use x=\"1107.177734\" xlink:href=\"#DejaVuSans-110\"/>\r\n       <use x=\"1170.556641\" xlink:href=\"#DejaVuSans-32\"/>\r\n       <use x=\"1202.34375\" xlink:href=\"#DejaVuSans-70\"/>\r\n       <use x=\"1259.863281\" xlink:href=\"#DejaVuSans-67\"/>\r\n      </g>\r\n     </g>\r\n    </g>\r\n    <g id=\"xtick_4\">\r\n     <g id=\"line2d_4\">\r\n      <g>\r\n       <use style=\"stroke:#000000;stroke-width:0.8;\" x=\"411.002922\" xlink:href=\"#m713f1a65a8\" y=\"1094.4\"/>\r\n      </g>\r\n     </g>\r\n     <g id=\"text_4\">\r\n      <!-- Chelsea FC -->\r\n      <g transform=\"translate(383.175578 1108.998438)scale(0.1 -0.1)\">\r\n       <use xlink:href=\"#DejaVuSans-67\"/>\r\n       <use x=\"69.824219\" xlink:href=\"#DejaVuSans-104\"/>\r\n       <use x=\"133.203125\" xlink:href=\"#DejaVuSans-101\"/>\r\n       <use x=\"194.726562\" xlink:href=\"#DejaVuSans-108\"/>\r\n       <use x=\"222.509766\" xlink:href=\"#DejaVuSans-115\"/>\r\n       <use x=\"274.609375\" xlink:href=\"#DejaVuSans-101\"/>\r\n       <use x=\"336.132812\" xlink:href=\"#DejaVuSans-97\"/>\r\n       <use x=\"397.412109\" xlink:href=\"#DejaVuSans-32\"/>\r\n       <use x=\"429.199219\" xlink:href=\"#DejaVuSans-70\"/>\r\n       <use x=\"486.71875\" xlink:href=\"#DejaVuSans-67\"/>\r\n      </g>\r\n     </g>\r\n    </g>\r\n    <g id=\"xtick_5\">\r\n     <g id=\"line2d_5\">\r\n      <g>\r\n       <use style=\"stroke:#000000;stroke-width:0.8;\" x=\"501.587338\" xlink:href=\"#m713f1a65a8\" y=\"1094.4\"/>\r\n      </g>\r\n     </g>\r\n     <g id=\"text_5\">\r\n      <!-- Crystal Palace FC -->\r\n      <g transform=\"translate(458.384994 1108.998438)scale(0.1 -0.1)\">\r\n       <defs>\r\n        <path d=\"M 32.171875 -5.078125 \r\nQ 28.375 -14.84375 24.75 -17.8125 \r\nQ 21.140625 -20.796875 15.09375 -20.796875 \r\nL 7.90625 -20.796875 \r\nL 7.90625 -13.28125 \r\nL 13.1875 -13.28125 \r\nQ 16.890625 -13.28125 18.9375 -11.515625 \r\nQ 21 -9.765625 23.484375 -3.21875 \r\nL 25.09375 0.875 \r\nL 2.984375 54.6875 \r\nL 12.5 54.6875 \r\nL 29.59375 11.921875 \r\nL 46.6875 54.6875 \r\nL 56.203125 54.6875 \r\nz\r\n\" id=\"DejaVuSans-121\"/>\r\n        <path d=\"M 19.671875 64.796875 \r\nL 19.671875 37.40625 \r\nL 32.078125 37.40625 \r\nQ 38.96875 37.40625 42.71875 40.96875 \r\nQ 46.484375 44.53125 46.484375 51.125 \r\nQ 46.484375 57.671875 42.71875 61.234375 \r\nQ 38.96875 64.796875 32.078125 64.796875 \r\nz\r\nM 9.8125 72.90625 \r\nL 32.078125 72.90625 \r\nQ 44.34375 72.90625 50.609375 67.359375 \r\nQ 56.890625 61.8125 56.890625 51.125 \r\nQ 56.890625 40.328125 50.609375 34.8125 \r\nQ 44.34375 29.296875 32.078125 29.296875 \r\nL 19.671875 29.296875 \r\nL 19.671875 0 \r\nL 9.8125 0 \r\nz\r\n\" id=\"DejaVuSans-80\"/>\r\n        <path d=\"M 48.78125 52.59375 \r\nL 48.78125 44.1875 \r\nQ 44.96875 46.296875 41.140625 47.34375 \r\nQ 37.3125 48.390625 33.40625 48.390625 \r\nQ 24.65625 48.390625 19.8125 42.84375 \r\nQ 14.984375 37.3125 14.984375 27.296875 \r\nQ 14.984375 17.28125 19.8125 11.734375 \r\nQ 24.65625 6.203125 33.40625 6.203125 \r\nQ 37.3125 6.203125 41.140625 7.25 \r\nQ 44.96875 8.296875 48.78125 10.40625 \r\nL 48.78125 2.09375 \r\nQ 45.015625 0.34375 40.984375 -0.53125 \r\nQ 36.96875 -1.421875 32.421875 -1.421875 \r\nQ 20.0625 -1.421875 12.78125 6.34375 \r\nQ 5.515625 14.109375 5.515625 27.296875 \r\nQ 5.515625 40.671875 12.859375 48.328125 \r\nQ 20.21875 56 33.015625 56 \r\nQ 37.15625 56 41.109375 55.140625 \r\nQ 45.0625 54.296875 48.78125 52.59375 \r\nz\r\n\" id=\"DejaVuSans-99\"/>\r\n       </defs>\r\n       <use xlink:href=\"#DejaVuSans-67\"/>\r\n       <use x=\"69.824219\" xlink:href=\"#DejaVuSans-114\"/>\r\n       <use x=\"110.9375\" xlink:href=\"#DejaVuSans-121\"/>\r\n       <use x=\"170.117188\" xlink:href=\"#DejaVuSans-115\"/>\r\n       <use x=\"222.216797\" xlink:href=\"#DejaVuSans-116\"/>\r\n       <use x=\"261.425781\" xlink:href=\"#DejaVuSans-97\"/>\r\n       <use x=\"322.705078\" xlink:href=\"#DejaVuSans-108\"/>\r\n       <use x=\"350.488281\" xlink:href=\"#DejaVuSans-32\"/>\r\n       <use x=\"382.275391\" xlink:href=\"#DejaVuSans-80\"/>\r\n       <use x=\"438.078125\" xlink:href=\"#DejaVuSans-97\"/>\r\n       <use x=\"499.357422\" xlink:href=\"#DejaVuSans-108\"/>\r\n       <use x=\"527.140625\" xlink:href=\"#DejaVuSans-97\"/>\r\n       <use x=\"588.419922\" xlink:href=\"#DejaVuSans-99\"/>\r\n       <use x=\"643.400391\" xlink:href=\"#DejaVuSans-101\"/>\r\n       <use x=\"704.923828\" xlink:href=\"#DejaVuSans-32\"/>\r\n       <use x=\"736.710938\" xlink:href=\"#DejaVuSans-70\"/>\r\n       <use x=\"794.230469\" xlink:href=\"#DejaVuSans-67\"/>\r\n      </g>\r\n     </g>\r\n    </g>\r\n    <g id=\"xtick_6\">\r\n     <g id=\"line2d_6\">\r\n      <g>\r\n       <use style=\"stroke:#000000;stroke-width:0.8;\" x=\"592.171753\" xlink:href=\"#m713f1a65a8\" y=\"1094.4\"/>\r\n      </g>\r\n     </g>\r\n     <g id=\"text_6\">\r\n      <!-- Everton FC -->\r\n      <g transform=\"translate(564.776441 1108.998438)scale(0.1 -0.1)\">\r\n       <defs>\r\n        <path d=\"M 9.8125 72.90625 \r\nL 55.90625 72.90625 \r\nL 55.90625 64.59375 \r\nL 19.671875 64.59375 \r\nL 19.671875 43.015625 \r\nL 54.390625 43.015625 \r\nL 54.390625 34.71875 \r\nL 19.671875 34.71875 \r\nL 19.671875 8.296875 \r\nL 56.78125 8.296875 \r\nL 56.78125 0 \r\nL 9.8125 0 \r\nz\r\n\" id=\"DejaVuSans-69\"/>\r\n       </defs>\r\n       <use xlink:href=\"#DejaVuSans-69\"/>\r\n       <use x=\"63.183594\" xlink:href=\"#DejaVuSans-118\"/>\r\n       <use x=\"122.363281\" xlink:href=\"#DejaVuSans-101\"/>\r\n       <use x=\"183.886719\" xlink:href=\"#DejaVuSans-114\"/>\r\n       <use x=\"225\" xlink:href=\"#DejaVuSans-116\"/>\r\n       <use x=\"264.208984\" xlink:href=\"#DejaVuSans-111\"/>\r\n       <use x=\"325.390625\" xlink:href=\"#DejaVuSans-110\"/>\r\n       <use x=\"388.769531\" xlink:href=\"#DejaVuSans-32\"/>\r\n       <use x=\"420.556641\" xlink:href=\"#DejaVuSans-70\"/>\r\n       <use x=\"478.076172\" xlink:href=\"#DejaVuSans-67\"/>\r\n      </g>\r\n     </g>\r\n    </g>\r\n    <g id=\"xtick_7\">\r\n     <g id=\"line2d_7\">\r\n      <g>\r\n       <use style=\"stroke:#000000;stroke-width:0.8;\" x=\"682.756169\" xlink:href=\"#m713f1a65a8\" y=\"1094.4\"/>\r\n      </g>\r\n     </g>\r\n     <g id=\"text_7\">\r\n      <!-- Leeds United FC -->\r\n      <g transform=\"translate(642.152263 1108.998438)scale(0.1 -0.1)\">\r\n       <defs>\r\n        <path d=\"M 9.8125 72.90625 \r\nL 19.671875 72.90625 \r\nL 19.671875 8.296875 \r\nL 55.171875 8.296875 \r\nL 55.171875 0 \r\nL 9.8125 0 \r\nz\r\n\" id=\"DejaVuSans-76\"/>\r\n        <path d=\"M 45.40625 46.390625 \r\nL 45.40625 75.984375 \r\nL 54.390625 75.984375 \r\nL 54.390625 0 \r\nL 45.40625 0 \r\nL 45.40625 8.203125 \r\nQ 42.578125 3.328125 38.25 0.953125 \r\nQ 33.9375 -1.421875 27.875 -1.421875 \r\nQ 17.96875 -1.421875 11.734375 6.484375 \r\nQ 5.515625 14.40625 5.515625 27.296875 \r\nQ 5.515625 40.1875 11.734375 48.09375 \r\nQ 17.96875 56 27.875 56 \r\nQ 33.9375 56 38.25 53.625 \r\nQ 42.578125 51.265625 45.40625 46.390625 \r\nz\r\nM 14.796875 27.296875 \r\nQ 14.796875 17.390625 18.875 11.75 \r\nQ 22.953125 6.109375 30.078125 6.109375 \r\nQ 37.203125 6.109375 41.296875 11.75 \r\nQ 45.40625 17.390625 45.40625 27.296875 \r\nQ 45.40625 37.203125 41.296875 42.84375 \r\nQ 37.203125 48.484375 30.078125 48.484375 \r\nQ 22.953125 48.484375 18.875 42.84375 \r\nQ 14.796875 37.203125 14.796875 27.296875 \r\nz\r\n\" id=\"DejaVuSans-100\"/>\r\n        <path d=\"M 8.6875 72.90625 \r\nL 18.609375 72.90625 \r\nL 18.609375 28.609375 \r\nQ 18.609375 16.890625 22.84375 11.734375 \r\nQ 27.09375 6.59375 36.625 6.59375 \r\nQ 46.09375 6.59375 50.34375 11.734375 \r\nQ 54.59375 16.890625 54.59375 28.609375 \r\nL 54.59375 72.90625 \r\nL 64.5 72.90625 \r\nL 64.5 27.390625 \r\nQ 64.5 13.140625 57.4375 5.859375 \r\nQ 50.390625 -1.421875 36.625 -1.421875 \r\nQ 22.796875 -1.421875 15.734375 5.859375 \r\nQ 8.6875 13.140625 8.6875 27.390625 \r\nz\r\n\" id=\"DejaVuSans-85\"/>\r\n       </defs>\r\n       <use xlink:href=\"#DejaVuSans-76\"/>\r\n       <use x=\"53.962891\" xlink:href=\"#DejaVuSans-101\"/>\r\n       <use x=\"115.486328\" xlink:href=\"#DejaVuSans-101\"/>\r\n       <use x=\"177.009766\" xlink:href=\"#DejaVuSans-100\"/>\r\n       <use x=\"240.486328\" xlink:href=\"#DejaVuSans-115\"/>\r\n       <use x=\"292.585938\" xlink:href=\"#DejaVuSans-32\"/>\r\n       <use x=\"324.373047\" xlink:href=\"#DejaVuSans-85\"/>\r\n       <use x=\"397.566406\" xlink:href=\"#DejaVuSans-110\"/>\r\n       <use x=\"460.945312\" xlink:href=\"#DejaVuSans-105\"/>\r\n       <use x=\"488.728516\" xlink:href=\"#DejaVuSans-116\"/>\r\n       <use x=\"527.9375\" xlink:href=\"#DejaVuSans-101\"/>\r\n       <use x=\"589.460938\" xlink:href=\"#DejaVuSans-100\"/>\r\n       <use x=\"652.9375\" xlink:href=\"#DejaVuSans-32\"/>\r\n       <use x=\"684.724609\" xlink:href=\"#DejaVuSans-70\"/>\r\n       <use x=\"742.244141\" xlink:href=\"#DejaVuSans-67\"/>\r\n      </g>\r\n     </g>\r\n    </g>\r\n    <g id=\"xtick_8\">\r\n     <g id=\"line2d_8\">\r\n      <g>\r\n       <use style=\"stroke:#000000;stroke-width:0.8;\" x=\"773.340584\" xlink:href=\"#m713f1a65a8\" y=\"1094.4\"/>\r\n      </g>\r\n     </g>\r\n     <g id=\"text_8\">\r\n      <!-- Leicester City FC -->\r\n      <g transform=\"translate(731.308553 1108.998438)scale(0.1 -0.1)\">\r\n       <use xlink:href=\"#DejaVuSans-76\"/>\r\n       <use x=\"53.962891\" xlink:href=\"#DejaVuSans-101\"/>\r\n       <use x=\"115.486328\" xlink:href=\"#DejaVuSans-105\"/>\r\n       <use x=\"143.269531\" xlink:href=\"#DejaVuSans-99\"/>\r\n       <use x=\"198.25\" xlink:href=\"#DejaVuSans-101\"/>\r\n       <use x=\"259.773438\" xlink:href=\"#DejaVuSans-115\"/>\r\n       <use x=\"311.873047\" xlink:href=\"#DejaVuSans-116\"/>\r\n       <use x=\"351.082031\" xlink:href=\"#DejaVuSans-101\"/>\r\n       <use x=\"412.605469\" xlink:href=\"#DejaVuSans-114\"/>\r\n       <use x=\"453.71875\" xlink:href=\"#DejaVuSans-32\"/>\r\n       <use x=\"485.505859\" xlink:href=\"#DejaVuSans-67\"/>\r\n       <use x=\"555.330078\" xlink:href=\"#DejaVuSans-105\"/>\r\n       <use x=\"583.113281\" xlink:href=\"#DejaVuSans-116\"/>\r\n       <use x=\"622.322266\" xlink:href=\"#DejaVuSans-121\"/>\r\n       <use x=\"681.501953\" xlink:href=\"#DejaVuSans-32\"/>\r\n       <use x=\"713.289062\" xlink:href=\"#DejaVuSans-70\"/>\r\n       <use x=\"770.808594\" xlink:href=\"#DejaVuSans-67\"/>\r\n      </g>\r\n     </g>\r\n    </g>\r\n    <g id=\"xtick_9\">\r\n     <g id=\"line2d_9\">\r\n      <g>\r\n       <use style=\"stroke:#000000;stroke-width:0.8;\" x=\"863.925\" xlink:href=\"#m713f1a65a8\" y=\"1094.4\"/>\r\n      </g>\r\n     </g>\r\n     <g id=\"text_9\">\r\n      <!-- Liverpool FC -->\r\n      <g transform=\"translate(833.020313 1108.998438)scale(0.1 -0.1)\">\r\n       <defs>\r\n        <path d=\"M 18.109375 8.203125 \r\nL 18.109375 -20.796875 \r\nL 9.078125 -20.796875 \r\nL 9.078125 54.6875 \r\nL 18.109375 54.6875 \r\nL 18.109375 46.390625 \r\nQ 20.953125 51.265625 25.265625 53.625 \r\nQ 29.59375 56 35.59375 56 \r\nQ 45.5625 56 51.78125 48.09375 \r\nQ 58.015625 40.1875 58.015625 27.296875 \r\nQ 58.015625 14.40625 51.78125 6.484375 \r\nQ 45.5625 -1.421875 35.59375 -1.421875 \r\nQ 29.59375 -1.421875 25.265625 0.953125 \r\nQ 20.953125 3.328125 18.109375 8.203125 \r\nz\r\nM 48.6875 27.296875 \r\nQ 48.6875 37.203125 44.609375 42.84375 \r\nQ 40.53125 48.484375 33.40625 48.484375 \r\nQ 26.265625 48.484375 22.1875 42.84375 \r\nQ 18.109375 37.203125 18.109375 27.296875 \r\nQ 18.109375 17.390625 22.1875 11.75 \r\nQ 26.265625 6.109375 33.40625 6.109375 \r\nQ 40.53125 6.109375 44.609375 11.75 \r\nQ 48.6875 17.390625 48.6875 27.296875 \r\nz\r\n\" id=\"DejaVuSans-112\"/>\r\n       </defs>\r\n       <use xlink:href=\"#DejaVuSans-76\"/>\r\n       <use x=\"55.712891\" xlink:href=\"#DejaVuSans-105\"/>\r\n       <use x=\"83.496094\" xlink:href=\"#DejaVuSans-118\"/>\r\n       <use x=\"142.675781\" xlink:href=\"#DejaVuSans-101\"/>\r\n       <use x=\"204.199219\" xlink:href=\"#DejaVuSans-114\"/>\r\n       <use x=\"245.3125\" xlink:href=\"#DejaVuSans-112\"/>\r\n       <use x=\"308.789062\" xlink:href=\"#DejaVuSans-111\"/>\r\n       <use x=\"369.970703\" xlink:href=\"#DejaVuSans-111\"/>\r\n       <use x=\"431.152344\" xlink:href=\"#DejaVuSans-108\"/>\r\n       <use x=\"458.935547\" xlink:href=\"#DejaVuSans-32\"/>\r\n       <use x=\"490.722656\" xlink:href=\"#DejaVuSans-70\"/>\r\n       <use x=\"548.242188\" xlink:href=\"#DejaVuSans-67\"/>\r\n      </g>\r\n     </g>\r\n    </g>\r\n    <g id=\"xtick_10\">\r\n     <g id=\"line2d_10\">\r\n      <g>\r\n       <use style=\"stroke:#000000;stroke-width:0.8;\" x=\"954.509416\" xlink:href=\"#m713f1a65a8\" y=\"1094.4\"/>\r\n      </g>\r\n     </g>\r\n     <g id=\"text_10\">\r\n      <!-- Manchester City FC -->\r\n      <g transform=\"translate(905.925822 1108.998438)scale(0.1 -0.1)\">\r\n       <defs>\r\n        <path d=\"M 9.8125 72.90625 \r\nL 24.515625 72.90625 \r\nL 43.109375 23.296875 \r\nL 61.8125 72.90625 \r\nL 76.515625 72.90625 \r\nL 76.515625 0 \r\nL 66.890625 0 \r\nL 66.890625 64.015625 \r\nL 48.09375 14.015625 \r\nL 38.1875 14.015625 \r\nL 19.390625 64.015625 \r\nL 19.390625 0 \r\nL 9.8125 0 \r\nz\r\n\" id=\"DejaVuSans-77\"/>\r\n       </defs>\r\n       <use xlink:href=\"#DejaVuSans-77\"/>\r\n       <use x=\"86.279297\" xlink:href=\"#DejaVuSans-97\"/>\r\n       <use x=\"147.558594\" xlink:href=\"#DejaVuSans-110\"/>\r\n       <use x=\"210.9375\" xlink:href=\"#DejaVuSans-99\"/>\r\n       <use x=\"265.917969\" xlink:href=\"#DejaVuSans-104\"/>\r\n       <use x=\"329.296875\" xlink:href=\"#DejaVuSans-101\"/>\r\n       <use x=\"390.820312\" xlink:href=\"#DejaVuSans-115\"/>\r\n       <use x=\"442.919922\" xlink:href=\"#DejaVuSans-116\"/>\r\n       <use x=\"482.128906\" xlink:href=\"#DejaVuSans-101\"/>\r\n       <use x=\"543.652344\" xlink:href=\"#DejaVuSans-114\"/>\r\n       <use x=\"584.765625\" xlink:href=\"#DejaVuSans-32\"/>\r\n       <use x=\"616.552734\" xlink:href=\"#DejaVuSans-67\"/>\r\n       <use x=\"686.376953\" xlink:href=\"#DejaVuSans-105\"/>\r\n       <use x=\"714.160156\" xlink:href=\"#DejaVuSans-116\"/>\r\n       <use x=\"753.369141\" xlink:href=\"#DejaVuSans-121\"/>\r\n       <use x=\"812.548828\" xlink:href=\"#DejaVuSans-32\"/>\r\n       <use x=\"844.335938\" xlink:href=\"#DejaVuSans-70\"/>\r\n       <use x=\"901.855469\" xlink:href=\"#DejaVuSans-67\"/>\r\n      </g>\r\n     </g>\r\n    </g>\r\n    <g id=\"xtick_11\">\r\n     <g id=\"line2d_11\">\r\n      <g>\r\n       <use style=\"stroke:#000000;stroke-width:0.8;\" x=\"1045.093831\" xlink:href=\"#m713f1a65a8\" y=\"1094.4\"/>\r\n      </g>\r\n     </g>\r\n     <g id=\"text_11\">\r\n      <!-- Manchester United FC -->\r\n      <g transform=\"translate(989.882112 1108.998438)scale(0.1 -0.1)\">\r\n       <use xlink:href=\"#DejaVuSans-77\"/>\r\n       <use x=\"86.279297\" xlink:href=\"#DejaVuSans-97\"/>\r\n       <use x=\"147.558594\" xlink:href=\"#DejaVuSans-110\"/>\r\n       <use x=\"210.9375\" xlink:href=\"#DejaVuSans-99\"/>\r\n       <use x=\"265.917969\" xlink:href=\"#DejaVuSans-104\"/>\r\n       <use x=\"329.296875\" xlink:href=\"#DejaVuSans-101\"/>\r\n       <use x=\"390.820312\" xlink:href=\"#DejaVuSans-115\"/>\r\n       <use x=\"442.919922\" xlink:href=\"#DejaVuSans-116\"/>\r\n       <use x=\"482.128906\" xlink:href=\"#DejaVuSans-101\"/>\r\n       <use x=\"543.652344\" xlink:href=\"#DejaVuSans-114\"/>\r\n       <use x=\"584.765625\" xlink:href=\"#DejaVuSans-32\"/>\r\n       <use x=\"616.552734\" xlink:href=\"#DejaVuSans-85\"/>\r\n       <use x=\"689.746094\" xlink:href=\"#DejaVuSans-110\"/>\r\n       <use x=\"753.125\" xlink:href=\"#DejaVuSans-105\"/>\r\n       <use x=\"780.908203\" xlink:href=\"#DejaVuSans-116\"/>\r\n       <use x=\"820.117188\" xlink:href=\"#DejaVuSans-101\"/>\r\n       <use x=\"881.640625\" xlink:href=\"#DejaVuSans-100\"/>\r\n       <use x=\"945.117188\" xlink:href=\"#DejaVuSans-32\"/>\r\n       <use x=\"976.904297\" xlink:href=\"#DejaVuSans-70\"/>\r\n       <use x=\"1034.423828\" xlink:href=\"#DejaVuSans-67\"/>\r\n      </g>\r\n     </g>\r\n    </g>\r\n    <g id=\"xtick_12\">\r\n     <g id=\"line2d_12\">\r\n      <g>\r\n       <use style=\"stroke:#000000;stroke-width:0.8;\" x=\"1135.678247\" xlink:href=\"#m713f1a65a8\" y=\"1094.4\"/>\r\n      </g>\r\n     </g>\r\n     <g id=\"text_12\">\r\n      <!-- Newcastle United FC -->\r\n      <g transform=\"translate(1083.954809 1108.998438)scale(0.1 -0.1)\">\r\n       <defs>\r\n        <path d=\"M 9.8125 72.90625 \r\nL 23.09375 72.90625 \r\nL 55.421875 11.921875 \r\nL 55.421875 72.90625 \r\nL 64.984375 72.90625 \r\nL 64.984375 0 \r\nL 51.703125 0 \r\nL 19.390625 60.984375 \r\nL 19.390625 0 \r\nL 9.8125 0 \r\nz\r\n\" id=\"DejaVuSans-78\"/>\r\n        <path d=\"M 4.203125 54.6875 \r\nL 13.1875 54.6875 \r\nL 24.421875 12.015625 \r\nL 35.59375 54.6875 \r\nL 46.1875 54.6875 \r\nL 57.421875 12.015625 \r\nL 68.609375 54.6875 \r\nL 77.59375 54.6875 \r\nL 63.28125 0 \r\nL 52.6875 0 \r\nL 40.921875 44.828125 \r\nL 29.109375 0 \r\nL 18.5 0 \r\nz\r\n\" id=\"DejaVuSans-119\"/>\r\n       </defs>\r\n       <use xlink:href=\"#DejaVuSans-78\"/>\r\n       <use x=\"74.804688\" xlink:href=\"#DejaVuSans-101\"/>\r\n       <use x=\"136.328125\" xlink:href=\"#DejaVuSans-119\"/>\r\n       <use x=\"218.115234\" xlink:href=\"#DejaVuSans-99\"/>\r\n       <use x=\"273.095703\" xlink:href=\"#DejaVuSans-97\"/>\r\n       <use x=\"334.375\" xlink:href=\"#DejaVuSans-115\"/>\r\n       <use x=\"386.474609\" xlink:href=\"#DejaVuSans-116\"/>\r\n       <use x=\"425.683594\" xlink:href=\"#DejaVuSans-108\"/>\r\n       <use x=\"453.466797\" xlink:href=\"#DejaVuSans-101\"/>\r\n       <use x=\"514.990234\" xlink:href=\"#DejaVuSans-32\"/>\r\n       <use x=\"546.777344\" xlink:href=\"#DejaVuSans-85\"/>\r\n       <use x=\"619.970703\" xlink:href=\"#DejaVuSans-110\"/>\r\n       <use x=\"683.349609\" xlink:href=\"#DejaVuSans-105\"/>\r\n       <use x=\"711.132812\" xlink:href=\"#DejaVuSans-116\"/>\r\n       <use x=\"750.341797\" xlink:href=\"#DejaVuSans-101\"/>\r\n       <use x=\"811.865234\" xlink:href=\"#DejaVuSans-100\"/>\r\n       <use x=\"875.341797\" xlink:href=\"#DejaVuSans-32\"/>\r\n       <use x=\"907.128906\" xlink:href=\"#DejaVuSans-70\"/>\r\n       <use x=\"964.648438\" xlink:href=\"#DejaVuSans-67\"/>\r\n      </g>\r\n     </g>\r\n    </g>\r\n    <g id=\"xtick_13\">\r\n     <g id=\"line2d_13\">\r\n      <g>\r\n       <use style=\"stroke:#000000;stroke-width:0.8;\" x=\"1226.262662\" xlink:href=\"#m713f1a65a8\" y=\"1094.4\"/>\r\n      </g>\r\n     </g>\r\n     <g id=\"text_13\">\r\n      <!-- Southampton FC -->\r\n      <g transform=\"translate(1184.478287 1108.998438)scale(0.1 -0.1)\">\r\n       <defs>\r\n        <path d=\"M 53.515625 70.515625 \r\nL 53.515625 60.890625 \r\nQ 47.90625 63.578125 42.921875 64.890625 \r\nQ 37.9375 66.21875 33.296875 66.21875 \r\nQ 25.25 66.21875 20.875 63.09375 \r\nQ 16.5 59.96875 16.5 54.203125 \r\nQ 16.5 49.359375 19.40625 46.890625 \r\nQ 22.3125 44.4375 30.421875 42.921875 \r\nL 36.375 41.703125 \r\nQ 47.40625 39.59375 52.65625 34.296875 \r\nQ 57.90625 29 57.90625 20.125 \r\nQ 57.90625 9.515625 50.796875 4.046875 \r\nQ 43.703125 -1.421875 29.984375 -1.421875 \r\nQ 24.8125 -1.421875 18.96875 -0.25 \r\nQ 13.140625 0.921875 6.890625 3.21875 \r\nL 6.890625 13.375 \r\nQ 12.890625 10.015625 18.65625 8.296875 \r\nQ 24.421875 6.59375 29.984375 6.59375 \r\nQ 38.421875 6.59375 43.015625 9.90625 \r\nQ 47.609375 13.234375 47.609375 19.390625 \r\nQ 47.609375 24.75 44.3125 27.78125 \r\nQ 41.015625 30.8125 33.5 32.328125 \r\nL 27.484375 33.5 \r\nQ 16.453125 35.6875 11.515625 40.375 \r\nQ 6.59375 45.0625 6.59375 53.421875 \r\nQ 6.59375 63.09375 13.40625 68.65625 \r\nQ 20.21875 74.21875 32.171875 74.21875 \r\nQ 37.3125 74.21875 42.625 73.28125 \r\nQ 47.953125 72.359375 53.515625 70.515625 \r\nz\r\n\" id=\"DejaVuSans-83\"/>\r\n        <path d=\"M 8.5 21.578125 \r\nL 8.5 54.6875 \r\nL 17.484375 54.6875 \r\nL 17.484375 21.921875 \r\nQ 17.484375 14.15625 20.5 10.265625 \r\nQ 23.53125 6.390625 29.59375 6.390625 \r\nQ 36.859375 6.390625 41.078125 11.03125 \r\nQ 45.3125 15.671875 45.3125 23.6875 \r\nL 45.3125 54.6875 \r\nL 54.296875 54.6875 \r\nL 54.296875 0 \r\nL 45.3125 0 \r\nL 45.3125 8.40625 \r\nQ 42.046875 3.421875 37.71875 1 \r\nQ 33.40625 -1.421875 27.6875 -1.421875 \r\nQ 18.265625 -1.421875 13.375 4.4375 \r\nQ 8.5 10.296875 8.5 21.578125 \r\nz\r\nM 31.109375 56 \r\nz\r\n\" id=\"DejaVuSans-117\"/>\r\n        <path d=\"M 52 44.1875 \r\nQ 55.375 50.25 60.0625 53.125 \r\nQ 64.75 56 71.09375 56 \r\nQ 79.640625 56 84.28125 50.015625 \r\nQ 88.921875 44.046875 88.921875 33.015625 \r\nL 88.921875 0 \r\nL 79.890625 0 \r\nL 79.890625 32.71875 \r\nQ 79.890625 40.578125 77.09375 44.375 \r\nQ 74.3125 48.1875 68.609375 48.1875 \r\nQ 61.625 48.1875 57.5625 43.546875 \r\nQ 53.515625 38.921875 53.515625 30.90625 \r\nL 53.515625 0 \r\nL 44.484375 0 \r\nL 44.484375 32.71875 \r\nQ 44.484375 40.625 41.703125 44.40625 \r\nQ 38.921875 48.1875 33.109375 48.1875 \r\nQ 26.21875 48.1875 22.15625 43.53125 \r\nQ 18.109375 38.875 18.109375 30.90625 \r\nL 18.109375 0 \r\nL 9.078125 0 \r\nL 9.078125 54.6875 \r\nL 18.109375 54.6875 \r\nL 18.109375 46.1875 \r\nQ 21.1875 51.21875 25.484375 53.609375 \r\nQ 29.78125 56 35.6875 56 \r\nQ 41.65625 56 45.828125 52.96875 \r\nQ 50 49.953125 52 44.1875 \r\nz\r\n\" id=\"DejaVuSans-109\"/>\r\n       </defs>\r\n       <use xlink:href=\"#DejaVuSans-83\"/>\r\n       <use x=\"63.476562\" xlink:href=\"#DejaVuSans-111\"/>\r\n       <use x=\"124.658203\" xlink:href=\"#DejaVuSans-117\"/>\r\n       <use x=\"188.037109\" xlink:href=\"#DejaVuSans-116\"/>\r\n       <use x=\"227.246094\" xlink:href=\"#DejaVuSans-104\"/>\r\n       <use x=\"290.625\" xlink:href=\"#DejaVuSans-97\"/>\r\n       <use x=\"351.904297\" xlink:href=\"#DejaVuSans-109\"/>\r\n       <use x=\"449.316406\" xlink:href=\"#DejaVuSans-112\"/>\r\n       <use x=\"512.792969\" xlink:href=\"#DejaVuSans-116\"/>\r\n       <use x=\"552.001953\" xlink:href=\"#DejaVuSans-111\"/>\r\n       <use x=\"613.183594\" xlink:href=\"#DejaVuSans-110\"/>\r\n       <use x=\"676.5625\" xlink:href=\"#DejaVuSans-32\"/>\r\n       <use x=\"708.349609\" xlink:href=\"#DejaVuSans-70\"/>\r\n       <use x=\"765.869141\" xlink:href=\"#DejaVuSans-67\"/>\r\n      </g>\r\n     </g>\r\n    </g>\r\n    <g id=\"xtick_14\">\r\n     <g id=\"line2d_14\">\r\n      <g>\r\n       <use style=\"stroke:#000000;stroke-width:0.8;\" x=\"1316.847078\" xlink:href=\"#m713f1a65a8\" y=\"1094.4\"/>\r\n      </g>\r\n     </g>\r\n     <g id=\"text_14\">\r\n      <!-- Tie -->\r\n      <g transform=\"translate(1309.483797 1108.998438)scale(0.1 -0.1)\">\r\n       <defs>\r\n        <path d=\"M -0.296875 72.90625 \r\nL 61.375 72.90625 \r\nL 61.375 64.59375 \r\nL 35.5 64.59375 \r\nL 35.5 0 \r\nL 25.59375 0 \r\nL 25.59375 64.59375 \r\nL -0.296875 64.59375 \r\nz\r\n\" id=\"DejaVuSans-84\"/>\r\n       </defs>\r\n       <use xlink:href=\"#DejaVuSans-84\"/>\r\n       <use x=\"57.958984\" xlink:href=\"#DejaVuSans-105\"/>\r\n       <use x=\"85.742188\" xlink:href=\"#DejaVuSans-101\"/>\r\n      </g>\r\n     </g>\r\n    </g>\r\n    <g id=\"xtick_15\">\r\n     <g id=\"line2d_15\">\r\n      <g>\r\n       <use style=\"stroke:#000000;stroke-width:0.8;\" x=\"1407.431494\" xlink:href=\"#m713f1a65a8\" y=\"1094.4\"/>\r\n      </g>\r\n     </g>\r\n     <g id=\"text_15\">\r\n      <!-- Tottenham Hotspur FC -->\r\n      <g transform=\"translate(1351.571337 1108.998438)scale(0.1 -0.1)\">\r\n       <use xlink:href=\"#DejaVuSans-84\"/>\r\n       <use x=\"44.083984\" xlink:href=\"#DejaVuSans-111\"/>\r\n       <use x=\"105.265625\" xlink:href=\"#DejaVuSans-116\"/>\r\n       <use x=\"144.474609\" xlink:href=\"#DejaVuSans-116\"/>\r\n       <use x=\"183.683594\" xlink:href=\"#DejaVuSans-101\"/>\r\n       <use x=\"245.207031\" xlink:href=\"#DejaVuSans-110\"/>\r\n       <use x=\"308.585938\" xlink:href=\"#DejaVuSans-104\"/>\r\n       <use x=\"371.964844\" xlink:href=\"#DejaVuSans-97\"/>\r\n       <use x=\"433.244141\" xlink:href=\"#DejaVuSans-109\"/>\r\n       <use x=\"530.65625\" xlink:href=\"#DejaVuSans-32\"/>\r\n       <use x=\"562.443359\" xlink:href=\"#DejaVuSans-72\"/>\r\n       <use x=\"637.638672\" xlink:href=\"#DejaVuSans-111\"/>\r\n       <use x=\"698.820312\" xlink:href=\"#DejaVuSans-116\"/>\r\n       <use x=\"738.029297\" xlink:href=\"#DejaVuSans-115\"/>\r\n       <use x=\"790.128906\" xlink:href=\"#DejaVuSans-112\"/>\r\n       <use x=\"853.605469\" xlink:href=\"#DejaVuSans-117\"/>\r\n       <use x=\"916.984375\" xlink:href=\"#DejaVuSans-114\"/>\r\n       <use x=\"958.097656\" xlink:href=\"#DejaVuSans-32\"/>\r\n       <use x=\"989.884766\" xlink:href=\"#DejaVuSans-70\"/>\r\n       <use x=\"1047.404297\" xlink:href=\"#DejaVuSans-67\"/>\r\n      </g>\r\n     </g>\r\n    </g>\r\n    <g id=\"xtick_16\">\r\n     <g id=\"line2d_16\">\r\n      <g>\r\n       <use style=\"stroke:#000000;stroke-width:0.8;\" x=\"1498.015909\" xlink:href=\"#m713f1a65a8\" y=\"1094.4\"/>\r\n      </g>\r\n     </g>\r\n     <g id=\"text_16\">\r\n      <!-- West Ham United FC -->\r\n      <g transform=\"translate(1446.467472 1108.998438)scale(0.1 -0.1)\">\r\n       <defs>\r\n        <path d=\"M 3.328125 72.90625 \r\nL 13.28125 72.90625 \r\nL 28.609375 11.28125 \r\nL 43.890625 72.90625 \r\nL 54.984375 72.90625 \r\nL 70.3125 11.28125 \r\nL 85.59375 72.90625 \r\nL 95.609375 72.90625 \r\nL 77.296875 0 \r\nL 64.890625 0 \r\nL 49.515625 63.28125 \r\nL 33.984375 0 \r\nL 21.578125 0 \r\nz\r\n\" id=\"DejaVuSans-87\"/>\r\n       </defs>\r\n       <use xlink:href=\"#DejaVuSans-87\"/>\r\n       <use x=\"93.001953\" xlink:href=\"#DejaVuSans-101\"/>\r\n       <use x=\"154.525391\" xlink:href=\"#DejaVuSans-115\"/>\r\n       <use x=\"206.625\" xlink:href=\"#DejaVuSans-116\"/>\r\n       <use x=\"245.833984\" xlink:href=\"#DejaVuSans-32\"/>\r\n       <use x=\"277.621094\" xlink:href=\"#DejaVuSans-72\"/>\r\n       <use x=\"352.816406\" xlink:href=\"#DejaVuSans-97\"/>\r\n       <use x=\"414.095703\" xlink:href=\"#DejaVuSans-109\"/>\r\n       <use x=\"511.507812\" xlink:href=\"#DejaVuSans-32\"/>\r\n       <use x=\"543.294922\" xlink:href=\"#DejaVuSans-85\"/>\r\n       <use x=\"616.488281\" xlink:href=\"#DejaVuSans-110\"/>\r\n       <use x=\"679.867188\" xlink:href=\"#DejaVuSans-105\"/>\r\n       <use x=\"707.650391\" xlink:href=\"#DejaVuSans-116\"/>\r\n       <use x=\"746.859375\" xlink:href=\"#DejaVuSans-101\"/>\r\n       <use x=\"808.382812\" xlink:href=\"#DejaVuSans-100\"/>\r\n       <use x=\"871.859375\" xlink:href=\"#DejaVuSans-32\"/>\r\n       <use x=\"903.646484\" xlink:href=\"#DejaVuSans-70\"/>\r\n       <use x=\"961.166016\" xlink:href=\"#DejaVuSans-67\"/>\r\n      </g>\r\n     </g>\r\n    </g>\r\n    <g id=\"xtick_17\">\r\n     <g id=\"line2d_17\">\r\n      <g>\r\n       <use style=\"stroke:#000000;stroke-width:0.8;\" x=\"1588.600325\" xlink:href=\"#m713f1a65a8\" y=\"1094.4\"/>\r\n      </g>\r\n     </g>\r\n     <g id=\"text_17\">\r\n      <!-- Wolverhampton Wanderers FC -->\r\n      <g transform=\"translate(1512.698762 1108.998438)scale(0.1 -0.1)\">\r\n       <use xlink:href=\"#DejaVuSans-87\"/>\r\n       <use x=\"93.001953\" xlink:href=\"#DejaVuSans-111\"/>\r\n       <use x=\"154.183594\" xlink:href=\"#DejaVuSans-108\"/>\r\n       <use x=\"181.966797\" xlink:href=\"#DejaVuSans-118\"/>\r\n       <use x=\"241.146484\" xlink:href=\"#DejaVuSans-101\"/>\r\n       <use x=\"302.669922\" xlink:href=\"#DejaVuSans-114\"/>\r\n       <use x=\"342.033203\" xlink:href=\"#DejaVuSans-104\"/>\r\n       <use x=\"405.412109\" xlink:href=\"#DejaVuSans-97\"/>\r\n       <use x=\"466.691406\" xlink:href=\"#DejaVuSans-109\"/>\r\n       <use x=\"564.103516\" xlink:href=\"#DejaVuSans-112\"/>\r\n       <use x=\"627.580078\" xlink:href=\"#DejaVuSans-116\"/>\r\n       <use x=\"666.789062\" xlink:href=\"#DejaVuSans-111\"/>\r\n       <use x=\"727.970703\" xlink:href=\"#DejaVuSans-110\"/>\r\n       <use x=\"791.349609\" xlink:href=\"#DejaVuSans-32\"/>\r\n       <use x=\"823.136719\" xlink:href=\"#DejaVuSans-87\"/>\r\n       <use x=\"915.638672\" xlink:href=\"#DejaVuSans-97\"/>\r\n       <use x=\"976.917969\" xlink:href=\"#DejaVuSans-110\"/>\r\n       <use x=\"1040.296875\" xlink:href=\"#DejaVuSans-100\"/>\r\n       <use x=\"1103.773438\" xlink:href=\"#DejaVuSans-101\"/>\r\n       <use x=\"1165.296875\" xlink:href=\"#DejaVuSans-114\"/>\r\n       <use x=\"1204.160156\" xlink:href=\"#DejaVuSans-101\"/>\r\n       <use x=\"1265.683594\" xlink:href=\"#DejaVuSans-114\"/>\r\n       <use x=\"1306.796875\" xlink:href=\"#DejaVuSans-115\"/>\r\n       <use x=\"1358.896484\" xlink:href=\"#DejaVuSans-32\"/>\r\n       <use x=\"1390.683594\" xlink:href=\"#DejaVuSans-70\"/>\r\n       <use x=\"1448.203125\" xlink:href=\"#DejaVuSans-67\"/>\r\n      </g>\r\n     </g>\r\n    </g>\r\n   </g>\r\n   <g id=\"matplotlib.axis_2\">\r\n    <g id=\"ytick_1\">\r\n     <g id=\"line2d_18\">\r\n      <defs>\r\n       <path d=\"M 0 0 \r\nL -3.5 0 \r\n\" id=\"m56906d7560\" style=\"stroke:#000000;stroke-width:0.8;\"/>\r\n      </defs>\r\n      <g>\r\n       <use style=\"stroke:#000000;stroke-width:0.8;\" x=\"26.925\" xlink:href=\"#m56906d7560\" y=\"1094.4\"/>\r\n      </g>\r\n     </g>\r\n     <g id=\"text_18\">\r\n      <!-- 0 -->\r\n      <g transform=\"translate(13.5625 1098.199219)scale(0.1 -0.1)\">\r\n       <defs>\r\n        <path d=\"M 31.78125 66.40625 \r\nQ 24.171875 66.40625 20.328125 58.90625 \r\nQ 16.5 51.421875 16.5 36.375 \r\nQ 16.5 21.390625 20.328125 13.890625 \r\nQ 24.171875 6.390625 31.78125 6.390625 \r\nQ 39.453125 6.390625 43.28125 13.890625 \r\nQ 47.125 21.390625 47.125 36.375 \r\nQ 47.125 51.421875 43.28125 58.90625 \r\nQ 39.453125 66.40625 31.78125 66.40625 \r\nz\r\nM 31.78125 74.21875 \r\nQ 44.046875 74.21875 50.515625 64.515625 \r\nQ 56.984375 54.828125 56.984375 36.375 \r\nQ 56.984375 17.96875 50.515625 8.265625 \r\nQ 44.046875 -1.421875 31.78125 -1.421875 \r\nQ 19.53125 -1.421875 13.0625 8.265625 \r\nQ 6.59375 17.96875 6.59375 36.375 \r\nQ 6.59375 54.828125 13.0625 64.515625 \r\nQ 19.53125 74.21875 31.78125 74.21875 \r\nz\r\n\" id=\"DejaVuSans-48\"/>\r\n       </defs>\r\n       <use xlink:href=\"#DejaVuSans-48\"/>\r\n      </g>\r\n     </g>\r\n    </g>\r\n    <g id=\"ytick_2\">\r\n     <g id=\"line2d_19\">\r\n      <g>\r\n       <use style=\"stroke:#000000;stroke-width:0.8;\" x=\"26.925\" xlink:href=\"#m56906d7560\" y=\"972.584874\"/>\r\n      </g>\r\n     </g>\r\n     <g id=\"text_19\">\r\n      <!-- 2 -->\r\n      <g transform=\"translate(13.5625 976.384093)scale(0.1 -0.1)\">\r\n       <defs>\r\n        <path d=\"M 19.1875 8.296875 \r\nL 53.609375 8.296875 \r\nL 53.609375 0 \r\nL 7.328125 0 \r\nL 7.328125 8.296875 \r\nQ 12.9375 14.109375 22.625 23.890625 \r\nQ 32.328125 33.6875 34.8125 36.53125 \r\nQ 39.546875 41.84375 41.421875 45.53125 \r\nQ 43.3125 49.21875 43.3125 52.78125 \r\nQ 43.3125 58.59375 39.234375 62.25 \r\nQ 35.15625 65.921875 28.609375 65.921875 \r\nQ 23.96875 65.921875 18.8125 64.3125 \r\nQ 13.671875 62.703125 7.8125 59.421875 \r\nL 7.8125 69.390625 \r\nQ 13.765625 71.78125 18.9375 73 \r\nQ 24.125 74.21875 28.421875 74.21875 \r\nQ 39.75 74.21875 46.484375 68.546875 \r\nQ 53.21875 62.890625 53.21875 53.421875 \r\nQ 53.21875 48.921875 51.53125 44.890625 \r\nQ 49.859375 40.875 45.40625 35.40625 \r\nQ 44.1875 33.984375 37.640625 27.21875 \r\nQ 31.109375 20.453125 19.1875 8.296875 \r\nz\r\n\" id=\"DejaVuSans-50\"/>\r\n       </defs>\r\n       <use xlink:href=\"#DejaVuSans-50\"/>\r\n      </g>\r\n     </g>\r\n    </g>\r\n    <g id=\"ytick_3\">\r\n     <g id=\"line2d_20\">\r\n      <g>\r\n       <use style=\"stroke:#000000;stroke-width:0.8;\" x=\"26.925\" xlink:href=\"#m56906d7560\" y=\"850.769748\"/>\r\n      </g>\r\n     </g>\r\n     <g id=\"text_20\">\r\n      <!-- 4 -->\r\n      <g transform=\"translate(13.5625 854.568967)scale(0.1 -0.1)\">\r\n       <defs>\r\n        <path d=\"M 37.796875 64.3125 \r\nL 12.890625 25.390625 \r\nL 37.796875 25.390625 \r\nz\r\nM 35.203125 72.90625 \r\nL 47.609375 72.90625 \r\nL 47.609375 25.390625 \r\nL 58.015625 25.390625 \r\nL 58.015625 17.1875 \r\nL 47.609375 17.1875 \r\nL 47.609375 0 \r\nL 37.796875 0 \r\nL 37.796875 17.1875 \r\nL 4.890625 17.1875 \r\nL 4.890625 26.703125 \r\nz\r\n\" id=\"DejaVuSans-52\"/>\r\n       </defs>\r\n       <use xlink:href=\"#DejaVuSans-52\"/>\r\n      </g>\r\n     </g>\r\n    </g>\r\n    <g id=\"ytick_4\">\r\n     <g id=\"line2d_21\">\r\n      <g>\r\n       <use style=\"stroke:#000000;stroke-width:0.8;\" x=\"26.925\" xlink:href=\"#m56906d7560\" y=\"728.954622\"/>\r\n      </g>\r\n     </g>\r\n     <g id=\"text_21\">\r\n      <!-- 6 -->\r\n      <g transform=\"translate(13.5625 732.753841)scale(0.1 -0.1)\">\r\n       <defs>\r\n        <path d=\"M 33.015625 40.375 \r\nQ 26.375 40.375 22.484375 35.828125 \r\nQ 18.609375 31.296875 18.609375 23.390625 \r\nQ 18.609375 15.53125 22.484375 10.953125 \r\nQ 26.375 6.390625 33.015625 6.390625 \r\nQ 39.65625 6.390625 43.53125 10.953125 \r\nQ 47.40625 15.53125 47.40625 23.390625 \r\nQ 47.40625 31.296875 43.53125 35.828125 \r\nQ 39.65625 40.375 33.015625 40.375 \r\nz\r\nM 52.59375 71.296875 \r\nL 52.59375 62.3125 \r\nQ 48.875 64.0625 45.09375 64.984375 \r\nQ 41.3125 65.921875 37.59375 65.921875 \r\nQ 27.828125 65.921875 22.671875 59.328125 \r\nQ 17.53125 52.734375 16.796875 39.40625 \r\nQ 19.671875 43.65625 24.015625 45.921875 \r\nQ 28.375 48.1875 33.59375 48.1875 \r\nQ 44.578125 48.1875 50.953125 41.515625 \r\nQ 57.328125 34.859375 57.328125 23.390625 \r\nQ 57.328125 12.15625 50.6875 5.359375 \r\nQ 44.046875 -1.421875 33.015625 -1.421875 \r\nQ 20.359375 -1.421875 13.671875 8.265625 \r\nQ 6.984375 17.96875 6.984375 36.375 \r\nQ 6.984375 53.65625 15.1875 63.9375 \r\nQ 23.390625 74.21875 37.203125 74.21875 \r\nQ 40.921875 74.21875 44.703125 73.484375 \r\nQ 48.484375 72.75 52.59375 71.296875 \r\nz\r\n\" id=\"DejaVuSans-54\"/>\r\n       </defs>\r\n       <use xlink:href=\"#DejaVuSans-54\"/>\r\n      </g>\r\n     </g>\r\n    </g>\r\n    <g id=\"ytick_5\">\r\n     <g id=\"line2d_22\">\r\n      <g>\r\n       <use style=\"stroke:#000000;stroke-width:0.8;\" x=\"26.925\" xlink:href=\"#m56906d7560\" y=\"607.139496\"/>\r\n      </g>\r\n     </g>\r\n     <g id=\"text_22\">\r\n      <!-- 8 -->\r\n      <g transform=\"translate(13.5625 610.938715)scale(0.1 -0.1)\">\r\n       <defs>\r\n        <path d=\"M 31.78125 34.625 \r\nQ 24.75 34.625 20.71875 30.859375 \r\nQ 16.703125 27.09375 16.703125 20.515625 \r\nQ 16.703125 13.921875 20.71875 10.15625 \r\nQ 24.75 6.390625 31.78125 6.390625 \r\nQ 38.8125 6.390625 42.859375 10.171875 \r\nQ 46.921875 13.96875 46.921875 20.515625 \r\nQ 46.921875 27.09375 42.890625 30.859375 \r\nQ 38.875 34.625 31.78125 34.625 \r\nz\r\nM 21.921875 38.8125 \r\nQ 15.578125 40.375 12.03125 44.71875 \r\nQ 8.5 49.078125 8.5 55.328125 \r\nQ 8.5 64.0625 14.71875 69.140625 \r\nQ 20.953125 74.21875 31.78125 74.21875 \r\nQ 42.671875 74.21875 48.875 69.140625 \r\nQ 55.078125 64.0625 55.078125 55.328125 \r\nQ 55.078125 49.078125 51.53125 44.71875 \r\nQ 48 40.375 41.703125 38.8125 \r\nQ 48.828125 37.15625 52.796875 32.3125 \r\nQ 56.78125 27.484375 56.78125 20.515625 \r\nQ 56.78125 9.90625 50.3125 4.234375 \r\nQ 43.84375 -1.421875 31.78125 -1.421875 \r\nQ 19.734375 -1.421875 13.25 4.234375 \r\nQ 6.78125 9.90625 6.78125 20.515625 \r\nQ 6.78125 27.484375 10.78125 32.3125 \r\nQ 14.796875 37.15625 21.921875 38.8125 \r\nz\r\nM 18.3125 54.390625 \r\nQ 18.3125 48.734375 21.84375 45.5625 \r\nQ 25.390625 42.390625 31.78125 42.390625 \r\nQ 38.140625 42.390625 41.71875 45.5625 \r\nQ 45.3125 48.734375 45.3125 54.390625 \r\nQ 45.3125 60.0625 41.71875 63.234375 \r\nQ 38.140625 66.40625 31.78125 66.40625 \r\nQ 25.390625 66.40625 21.84375 63.234375 \r\nQ 18.3125 60.0625 18.3125 54.390625 \r\nz\r\n\" id=\"DejaVuSans-56\"/>\r\n       </defs>\r\n       <use xlink:href=\"#DejaVuSans-56\"/>\r\n      </g>\r\n     </g>\r\n    </g>\r\n    <g id=\"ytick_6\">\r\n     <g id=\"line2d_23\">\r\n      <g>\r\n       <use style=\"stroke:#000000;stroke-width:0.8;\" x=\"26.925\" xlink:href=\"#m56906d7560\" y=\"485.32437\"/>\r\n      </g>\r\n     </g>\r\n     <g id=\"text_23\">\r\n      <!-- 10 -->\r\n      <g transform=\"translate(7.2 489.123588)scale(0.1 -0.1)\">\r\n       <defs>\r\n        <path d=\"M 12.40625 8.296875 \r\nL 28.515625 8.296875 \r\nL 28.515625 63.921875 \r\nL 10.984375 60.40625 \r\nL 10.984375 69.390625 \r\nL 28.421875 72.90625 \r\nL 38.28125 72.90625 \r\nL 38.28125 8.296875 \r\nL 54.390625 8.296875 \r\nL 54.390625 0 \r\nL 12.40625 0 \r\nz\r\n\" id=\"DejaVuSans-49\"/>\r\n       </defs>\r\n       <use xlink:href=\"#DejaVuSans-49\"/>\r\n       <use x=\"63.623047\" xlink:href=\"#DejaVuSans-48\"/>\r\n      </g>\r\n     </g>\r\n    </g>\r\n    <g id=\"ytick_7\">\r\n     <g id=\"line2d_24\">\r\n      <g>\r\n       <use style=\"stroke:#000000;stroke-width:0.8;\" x=\"26.925\" xlink:href=\"#m56906d7560\" y=\"363.509244\"/>\r\n      </g>\r\n     </g>\r\n     <g id=\"text_24\">\r\n      <!-- 12 -->\r\n      <g transform=\"translate(7.2 367.308462)scale(0.1 -0.1)\">\r\n       <use xlink:href=\"#DejaVuSans-49\"/>\r\n       <use x=\"63.623047\" xlink:href=\"#DejaVuSans-50\"/>\r\n      </g>\r\n     </g>\r\n    </g>\r\n    <g id=\"ytick_8\">\r\n     <g id=\"line2d_25\">\r\n      <g>\r\n       <use style=\"stroke:#000000;stroke-width:0.8;\" x=\"26.925\" xlink:href=\"#m56906d7560\" y=\"241.694118\"/>\r\n      </g>\r\n     </g>\r\n     <g id=\"text_25\">\r\n      <!-- 14 -->\r\n      <g transform=\"translate(7.2 245.493336)scale(0.1 -0.1)\">\r\n       <use xlink:href=\"#DejaVuSans-49\"/>\r\n       <use x=\"63.623047\" xlink:href=\"#DejaVuSans-52\"/>\r\n      </g>\r\n     </g>\r\n    </g>\r\n    <g id=\"ytick_9\">\r\n     <g id=\"line2d_26\">\r\n      <g>\r\n       <use style=\"stroke:#000000;stroke-width:0.8;\" x=\"26.925\" xlink:href=\"#m56906d7560\" y=\"119.878992\"/>\r\n      </g>\r\n     </g>\r\n     <g id=\"text_26\">\r\n      <!-- 16 -->\r\n      <g transform=\"translate(7.2 123.67821)scale(0.1 -0.1)\">\r\n       <use xlink:href=\"#DejaVuSans-49\"/>\r\n       <use x=\"63.623047\" xlink:href=\"#DejaVuSans-54\"/>\r\n      </g>\r\n     </g>\r\n    </g>\r\n   </g>\r\n   <g id=\"patch_20\">\r\n    <path d=\"M 26.925 1094.4 \r\nL 26.925 7.2 \r\n\" style=\"fill:none;stroke:#000000;stroke-linecap:square;stroke-linejoin:miter;stroke-width:0.8;\"/>\r\n   </g>\r\n   <g id=\"patch_21\">\r\n    <path d=\"M 1700.925 1094.4 \r\nL 1700.925 7.2 \r\n\" style=\"fill:none;stroke:#000000;stroke-linecap:square;stroke-linejoin:miter;stroke-width:0.8;\"/>\r\n   </g>\r\n   <g id=\"patch_22\">\r\n    <path d=\"M 26.925 1094.4 \r\nL 1700.925 1094.4 \r\n\" style=\"fill:none;stroke:#000000;stroke-linecap:square;stroke-linejoin:miter;stroke-width:0.8;\"/>\r\n   </g>\r\n   <g id=\"patch_23\">\r\n    <path d=\"M 26.925 7.2 \r\nL 1700.925 7.2 \r\n\" style=\"fill:none;stroke:#000000;stroke-linecap:square;stroke-linejoin:miter;stroke-width:0.8;\"/>\r\n   </g>\r\n  </g>\r\n </g>\r\n <defs>\r\n  <clipPath id=\"p2bf58794b7\">\r\n   <rect height=\"1087.2\" width=\"1674\" x=\"26.925\" y=\"7.2\"/>\r\n  </clipPath>\r\n </defs>\r\n</svg>\r\n",
      "image/png": "[encoded data removed]"
     },
     "metadata": {
      "needs_background": "light"
     }
    }
   ],
   "source": [
    "#data2021['Winner was Preditec?'] = data2021[data2021['Winner'] == data2021['Prediction']]\n",
    "#data2021[data2021['Winner'] == 'Arsenal FC']\n",
    "\n",
    "#df_data2021 = data2021.groupby('Winner').agg({'Winner':'count'})\n",
    "df_data2021 = data2021.groupby(\"Winner\").size().to_frame(name = 'count').reset_index()\n",
    "df_data2021.rename(columns={'Winner':'Team Winner','count':'#Wins'},inplace=True)\n",
    "\n",
    "plt.figure(figsize = (30,20))\n",
    "plt.bar(df_data2021['Team Winner'],df_data2021['#Wins'])\n",
    "#plot.rcParams({'legend.fontsize': 20})\n",
    "\n",
    "#plt.show()\n",
    "plt.savefig('season2021.jpg',dpi=300)\n",
    "#plt.savefig('nome_da_imagem.png', transparent = True)"
   ]
  },
  {
   "cell_type": "code",
   "execution_count": 13,
   "metadata": {},
   "outputs": [
    {
     "output_type": "execute_result",
     "data": {
      "text/plain": [
       "   Unnamed: 0         Day           HomeTeamName               AwayTeamName  \\\n",
       "0           0  2018-08-10   Manchester United FC          Leicester City FC   \n",
       "1           1  2018-08-11    Newcastle United FC       Tottenham Hotspur FC   \n",
       "2           2  2018-08-11              Fulham FC          Crystal Palace FC   \n",
       "3           3  2018-08-11  Huddersfield Town AFC                 Chelsea FC   \n",
       "4           4  2018-08-11             Watford FC  Brighton & Hove Albion FC   \n",
       "\n",
       "                 Winner            Prediction  Winner was Predicted?  \\\n",
       "0                   Tie  Manchester United FC                  False   \n",
       "1  Tottenham Hotspur FC  Tottenham Hotspur FC                   True   \n",
       "2     Crystal Palace FC             Fulham FC                  False   \n",
       "3            Chelsea FC            Chelsea FC                   True   \n",
       "4            Watford FC            Watford FC                   True   \n",
       "\n",
       "   Right Prediction?  \n",
       "0              False  \n",
       "1               True  \n",
       "2              False  \n",
       "3               True  \n",
       "4               True  "
      ],
      "text/html": "<div>\n<style scoped>\n    .dataframe tbody tr th:only-of-type {\n        vertical-align: middle;\n    }\n\n    .dataframe tbody tr th {\n        vertical-align: top;\n    }\n\n    .dataframe thead th {\n        text-align: right;\n    }\n</style>\n<table border=\"1\" class=\"dataframe\">\n  <thead>\n    <tr style=\"text-align: right;\">\n      <th></th>\n      <th>Unnamed: 0</th>\n      <th>Day</th>\n      <th>HomeTeamName</th>\n      <th>AwayTeamName</th>\n      <th>Winner</th>\n      <th>Prediction</th>\n      <th>Winner was Predicted?</th>\n      <th>Right Prediction?</th>\n    </tr>\n  </thead>\n  <tbody>\n    <tr>\n      <th>0</th>\n      <td>0</td>\n      <td>2018-08-10</td>\n      <td>Manchester United FC</td>\n      <td>Leicester City FC</td>\n      <td>Tie</td>\n      <td>Manchester United FC</td>\n      <td>False</td>\n      <td>False</td>\n    </tr>\n    <tr>\n      <th>1</th>\n      <td>1</td>\n      <td>2018-08-11</td>\n      <td>Newcastle United FC</td>\n      <td>Tottenham Hotspur FC</td>\n      <td>Tottenham Hotspur FC</td>\n      <td>Tottenham Hotspur FC</td>\n      <td>True</td>\n      <td>True</td>\n    </tr>\n    <tr>\n      <th>2</th>\n      <td>2</td>\n      <td>2018-08-11</td>\n      <td>Fulham FC</td>\n      <td>Crystal Palace FC</td>\n      <td>Crystal Palace FC</td>\n      <td>Fulham FC</td>\n      <td>False</td>\n      <td>False</td>\n    </tr>\n    <tr>\n      <th>3</th>\n      <td>3</td>\n      <td>2018-08-11</td>\n      <td>Huddersfield Town AFC</td>\n      <td>Chelsea FC</td>\n      <td>Chelsea FC</td>\n      <td>Chelsea FC</td>\n      <td>True</td>\n      <td>True</td>\n    </tr>\n    <tr>\n      <th>4</th>\n      <td>4</td>\n      <td>2018-08-11</td>\n      <td>Watford FC</td>\n      <td>Brighton &amp; Hove Albion FC</td>\n      <td>Watford FC</td>\n      <td>Watford FC</td>\n      <td>True</td>\n      <td>True</td>\n    </tr>\n  </tbody>\n</table>\n</div>"
     },
     "metadata": {},
     "execution_count": 13
    }
   ],
   "source": [
    "data = pd.read_csv('Project3.csv')\n",
    "data.head()"
   ]
  },
  {
   "cell_type": "code",
   "execution_count": 19,
   "metadata": {},
   "outputs": [
    {
     "output_type": "display_data",
     "data": {
      "text/plain": "<Figure size 432x288 with 1 Axes>",
      "image/svg+xml": "<?xml version=\"1.0\" encoding=\"utf-8\" standalone=\"no\"?>\r\n<!DOCTYPE svg PUBLIC \"-//W3C//DTD SVG 1.1//EN\"\r\n  \"http://www.w3.org/Graphics/SVG/1.1/DTD/svg11.dtd\">\r\n<!-- Created with matplotlib (https://matplotlib.org/) -->\r\n<svg height=\"231.84pt\" version=\"1.1\" viewBox=\"0 0 245.518125 231.84\" width=\"245.518125pt\" xmlns=\"http://www.w3.org/2000/svg\" xmlns:xlink=\"http://www.w3.org/1999/xlink\">\r\n <metadata>\r\n  <rdf:RDF xmlns:cc=\"http://creativecommons.org/ns#\" xmlns:dc=\"http://purl.org/dc/elements/1.1/\" xmlns:rdf=\"http://www.w3.org/1999/02/22-rdf-syntax-ns#\">\r\n   <cc:Work>\r\n    <dc:type rdf:resource=\"http://purl.org/dc/dcmitype/StillImage\"/>\r\n    <dc:date>2020-10-29T20:51:27.734538</dc:date>\r\n    <dc:format>image/svg+xml</dc:format>\r\n    <dc:creator>\r\n     <cc:Agent>\r\n      <dc:title>Matplotlib v3.3.2, https://matplotlib.org/</dc:title>\r\n     </cc:Agent>\r\n    </dc:creator>\r\n   </cc:Work>\r\n  </rdf:RDF>\r\n </metadata>\r\n <defs>\r\n  <style type=\"text/css\">*{stroke-linecap:butt;stroke-linejoin:round;}</style>\r\n </defs>\r\n <g id=\"figure_1\">\r\n  <g id=\"patch_1\">\r\n   <path d=\"M 0 231.84 \r\nL 245.518125 231.84 \r\nL 245.518125 0 \r\nL 0 0 \r\nz\r\n\" style=\"fill:none;\"/>\r\n  </g>\r\n  <g id=\"axes_1\">\r\n   <g id=\"patch_2\">\r\n    <path d=\"M 216.574125 115.92 \r\nC 216.574125 103.590283 213.952334 91.400337 208.883124 80.160896 \r\nC 203.813914 68.921456 196.412214 58.887343 187.170301 50.725912 \r\nC 177.928388 42.564481 167.055795 36.460768 155.275642 32.820724 \r\nC 143.49549 29.180679 131.074859 28.08683 118.839827 29.611926 \r\nC 106.604795 31.137022 94.832757 35.246487 84.306654 41.667005 \r\nC 73.78055 48.087524 64.73903 56.67353 57.783431 66.85398 \r\nC 50.827833 77.03443 46.115854 88.578512 43.960882 100.718447 \r\nC 41.80591 112.858382 42.256803 125.31893 45.283571 137.271361 \r\nL 129.598125 115.92 \r\nL 216.574125 115.92 \r\nz\r\n\" style=\"fill:#1f77b4;\"/>\r\n   </g>\r\n   <g id=\"patch_3\">\r\n    <path d=\"M 45.283571 137.271361 \r\nC 50.48749 157.821154 63.028877 175.775948 80.532108 187.734696 \r\nC 98.03534 199.693444 119.320762 204.85017 140.356431 202.228073 \r\nC 161.3921 199.605975 180.760289 189.381775 194.792221 173.492167 \r\nC 208.824154 157.602559 216.574129 137.118445 216.574125 115.919984 \r\nL 129.598125 115.92 \r\nL 45.283571 137.271361 \r\nz\r\n\" style=\"fill:#ff7f0e;\"/>\r\n   </g>\r\n   <g id=\"matplotlib.axis_1\"/>\r\n   <g id=\"matplotlib.axis_2\">\r\n    <g id=\"text_1\">\r\n     <!-- Prediction -->\r\n     <g transform=\"translate(14.798438 140.756719)rotate(-90)scale(0.1 -0.1)\">\r\n      <defs>\r\n       <path d=\"M 19.671875 64.796875 \r\nL 19.671875 37.40625 \r\nL 32.078125 37.40625 \r\nQ 38.96875 37.40625 42.71875 40.96875 \r\nQ 46.484375 44.53125 46.484375 51.125 \r\nQ 46.484375 57.671875 42.71875 61.234375 \r\nQ 38.96875 64.796875 32.078125 64.796875 \r\nz\r\nM 9.8125 72.90625 \r\nL 32.078125 72.90625 \r\nQ 44.34375 72.90625 50.609375 67.359375 \r\nQ 56.890625 61.8125 56.890625 51.125 \r\nQ 56.890625 40.328125 50.609375 34.8125 \r\nQ 44.34375 29.296875 32.078125 29.296875 \r\nL 19.671875 29.296875 \r\nL 19.671875 0 \r\nL 9.8125 0 \r\nz\r\n\" id=\"DejaVuSans-80\"/>\r\n       <path d=\"M 41.109375 46.296875 \r\nQ 39.59375 47.171875 37.8125 47.578125 \r\nQ 36.03125 48 33.890625 48 \r\nQ 26.265625 48 22.1875 43.046875 \r\nQ 18.109375 38.09375 18.109375 28.8125 \r\nL 18.109375 0 \r\nL 9.078125 0 \r\nL 9.078125 54.6875 \r\nL 18.109375 54.6875 \r\nL 18.109375 46.1875 \r\nQ 20.953125 51.171875 25.484375 53.578125 \r\nQ 30.03125 56 36.53125 56 \r\nQ 37.453125 56 38.578125 55.875 \r\nQ 39.703125 55.765625 41.0625 55.515625 \r\nz\r\n\" id=\"DejaVuSans-114\"/>\r\n       <path d=\"M 56.203125 29.59375 \r\nL 56.203125 25.203125 \r\nL 14.890625 25.203125 \r\nQ 15.484375 15.921875 20.484375 11.0625 \r\nQ 25.484375 6.203125 34.421875 6.203125 \r\nQ 39.59375 6.203125 44.453125 7.46875 \r\nQ 49.3125 8.734375 54.109375 11.28125 \r\nL 54.109375 2.78125 \r\nQ 49.265625 0.734375 44.1875 -0.34375 \r\nQ 39.109375 -1.421875 33.890625 -1.421875 \r\nQ 20.796875 -1.421875 13.15625 6.1875 \r\nQ 5.515625 13.8125 5.515625 26.8125 \r\nQ 5.515625 40.234375 12.765625 48.109375 \r\nQ 20.015625 56 32.328125 56 \r\nQ 43.359375 56 49.78125 48.890625 \r\nQ 56.203125 41.796875 56.203125 29.59375 \r\nz\r\nM 47.21875 32.234375 \r\nQ 47.125 39.59375 43.09375 43.984375 \r\nQ 39.0625 48.390625 32.421875 48.390625 \r\nQ 24.90625 48.390625 20.390625 44.140625 \r\nQ 15.875 39.890625 15.1875 32.171875 \r\nz\r\n\" id=\"DejaVuSans-101\"/>\r\n       <path d=\"M 45.40625 46.390625 \r\nL 45.40625 75.984375 \r\nL 54.390625 75.984375 \r\nL 54.390625 0 \r\nL 45.40625 0 \r\nL 45.40625 8.203125 \r\nQ 42.578125 3.328125 38.25 0.953125 \r\nQ 33.9375 -1.421875 27.875 -1.421875 \r\nQ 17.96875 -1.421875 11.734375 6.484375 \r\nQ 5.515625 14.40625 5.515625 27.296875 \r\nQ 5.515625 40.1875 11.734375 48.09375 \r\nQ 17.96875 56 27.875 56 \r\nQ 33.9375 56 38.25 53.625 \r\nQ 42.578125 51.265625 45.40625 46.390625 \r\nz\r\nM 14.796875 27.296875 \r\nQ 14.796875 17.390625 18.875 11.75 \r\nQ 22.953125 6.109375 30.078125 6.109375 \r\nQ 37.203125 6.109375 41.296875 11.75 \r\nQ 45.40625 17.390625 45.40625 27.296875 \r\nQ 45.40625 37.203125 41.296875 42.84375 \r\nQ 37.203125 48.484375 30.078125 48.484375 \r\nQ 22.953125 48.484375 18.875 42.84375 \r\nQ 14.796875 37.203125 14.796875 27.296875 \r\nz\r\n\" id=\"DejaVuSans-100\"/>\r\n       <path d=\"M 9.421875 54.6875 \r\nL 18.40625 54.6875 \r\nL 18.40625 0 \r\nL 9.421875 0 \r\nz\r\nM 9.421875 75.984375 \r\nL 18.40625 75.984375 \r\nL 18.40625 64.59375 \r\nL 9.421875 64.59375 \r\nz\r\n\" id=\"DejaVuSans-105\"/>\r\n       <path d=\"M 48.78125 52.59375 \r\nL 48.78125 44.1875 \r\nQ 44.96875 46.296875 41.140625 47.34375 \r\nQ 37.3125 48.390625 33.40625 48.390625 \r\nQ 24.65625 48.390625 19.8125 42.84375 \r\nQ 14.984375 37.3125 14.984375 27.296875 \r\nQ 14.984375 17.28125 19.8125 11.734375 \r\nQ 24.65625 6.203125 33.40625 6.203125 \r\nQ 37.3125 6.203125 41.140625 7.25 \r\nQ 44.96875 8.296875 48.78125 10.40625 \r\nL 48.78125 2.09375 \r\nQ 45.015625 0.34375 40.984375 -0.53125 \r\nQ 36.96875 -1.421875 32.421875 -1.421875 \r\nQ 20.0625 -1.421875 12.78125 6.34375 \r\nQ 5.515625 14.109375 5.515625 27.296875 \r\nQ 5.515625 40.671875 12.859375 48.328125 \r\nQ 20.21875 56 33.015625 56 \r\nQ 37.15625 56 41.109375 55.140625 \r\nQ 45.0625 54.296875 48.78125 52.59375 \r\nz\r\n\" id=\"DejaVuSans-99\"/>\r\n       <path d=\"M 18.3125 70.21875 \r\nL 18.3125 54.6875 \r\nL 36.8125 54.6875 \r\nL 36.8125 47.703125 \r\nL 18.3125 47.703125 \r\nL 18.3125 18.015625 \r\nQ 18.3125 11.328125 20.140625 9.421875 \r\nQ 21.96875 7.515625 27.59375 7.515625 \r\nL 36.8125 7.515625 \r\nL 36.8125 0 \r\nL 27.59375 0 \r\nQ 17.1875 0 13.234375 3.875 \r\nQ 9.28125 7.765625 9.28125 18.015625 \r\nL 9.28125 47.703125 \r\nL 2.6875 47.703125 \r\nL 2.6875 54.6875 \r\nL 9.28125 54.6875 \r\nL 9.28125 70.21875 \r\nz\r\n\" id=\"DejaVuSans-116\"/>\r\n       <path d=\"M 30.609375 48.390625 \r\nQ 23.390625 48.390625 19.1875 42.75 \r\nQ 14.984375 37.109375 14.984375 27.296875 \r\nQ 14.984375 17.484375 19.15625 11.84375 \r\nQ 23.34375 6.203125 30.609375 6.203125 \r\nQ 37.796875 6.203125 41.984375 11.859375 \r\nQ 46.1875 17.53125 46.1875 27.296875 \r\nQ 46.1875 37.015625 41.984375 42.703125 \r\nQ 37.796875 48.390625 30.609375 48.390625 \r\nz\r\nM 30.609375 56 \r\nQ 42.328125 56 49.015625 48.375 \r\nQ 55.71875 40.765625 55.71875 27.296875 \r\nQ 55.71875 13.875 49.015625 6.21875 \r\nQ 42.328125 -1.421875 30.609375 -1.421875 \r\nQ 18.84375 -1.421875 12.171875 6.21875 \r\nQ 5.515625 13.875 5.515625 27.296875 \r\nQ 5.515625 40.765625 12.171875 48.375 \r\nQ 18.84375 56 30.609375 56 \r\nz\r\n\" id=\"DejaVuSans-111\"/>\r\n       <path d=\"M 54.890625 33.015625 \r\nL 54.890625 0 \r\nL 45.90625 0 \r\nL 45.90625 32.71875 \r\nQ 45.90625 40.484375 42.875 44.328125 \r\nQ 39.84375 48.1875 33.796875 48.1875 \r\nQ 26.515625 48.1875 22.3125 43.546875 \r\nQ 18.109375 38.921875 18.109375 30.90625 \r\nL 18.109375 0 \r\nL 9.078125 0 \r\nL 9.078125 54.6875 \r\nL 18.109375 54.6875 \r\nL 18.109375 46.1875 \r\nQ 21.34375 51.125 25.703125 53.5625 \r\nQ 30.078125 56 35.796875 56 \r\nQ 45.21875 56 50.046875 50.171875 \r\nQ 54.890625 44.34375 54.890625 33.015625 \r\nz\r\n\" id=\"DejaVuSans-110\"/>\r\n      </defs>\r\n      <use xlink:href=\"#DejaVuSans-80\"/>\r\n      <use x=\"58.552734\" xlink:href=\"#DejaVuSans-114\"/>\r\n      <use x=\"97.416016\" xlink:href=\"#DejaVuSans-101\"/>\r\n      <use x=\"158.939453\" xlink:href=\"#DejaVuSans-100\"/>\r\n      <use x=\"222.416016\" xlink:href=\"#DejaVuSans-105\"/>\r\n      <use x=\"250.199219\" xlink:href=\"#DejaVuSans-99\"/>\r\n      <use x=\"305.179688\" xlink:href=\"#DejaVuSans-116\"/>\r\n      <use x=\"344.388672\" xlink:href=\"#DejaVuSans-105\"/>\r\n      <use x=\"372.171875\" xlink:href=\"#DejaVuSans-111\"/>\r\n      <use x=\"433.353516\" xlink:href=\"#DejaVuSans-110\"/>\r\n     </g>\r\n    </g>\r\n   </g>\r\n   <g id=\"text_2\">\r\n    <!-- False -->\r\n    <g transform=\"translate(92.656185 23.740494)scale(0.1 -0.1)\">\r\n     <defs>\r\n      <path d=\"M 9.8125 72.90625 \r\nL 51.703125 72.90625 \r\nL 51.703125 64.59375 \r\nL 19.671875 64.59375 \r\nL 19.671875 43.109375 \r\nL 48.578125 43.109375 \r\nL 48.578125 34.8125 \r\nL 19.671875 34.8125 \r\nL 19.671875 0 \r\nL 9.8125 0 \r\nz\r\n\" id=\"DejaVuSans-70\"/>\r\n      <path d=\"M 34.28125 27.484375 \r\nQ 23.390625 27.484375 19.1875 25 \r\nQ 14.984375 22.515625 14.984375 16.5 \r\nQ 14.984375 11.71875 18.140625 8.90625 \r\nQ 21.296875 6.109375 26.703125 6.109375 \r\nQ 34.1875 6.109375 38.703125 11.40625 \r\nQ 43.21875 16.703125 43.21875 25.484375 \r\nL 43.21875 27.484375 \r\nz\r\nM 52.203125 31.203125 \r\nL 52.203125 0 \r\nL 43.21875 0 \r\nL 43.21875 8.296875 \r\nQ 40.140625 3.328125 35.546875 0.953125 \r\nQ 30.953125 -1.421875 24.3125 -1.421875 \r\nQ 15.921875 -1.421875 10.953125 3.296875 \r\nQ 6 8.015625 6 15.921875 \r\nQ 6 25.140625 12.171875 29.828125 \r\nQ 18.359375 34.515625 30.609375 34.515625 \r\nL 43.21875 34.515625 \r\nL 43.21875 35.40625 \r\nQ 43.21875 41.609375 39.140625 45 \r\nQ 35.0625 48.390625 27.6875 48.390625 \r\nQ 23 48.390625 18.546875 47.265625 \r\nQ 14.109375 46.140625 10.015625 43.890625 \r\nL 10.015625 52.203125 \r\nQ 14.9375 54.109375 19.578125 55.046875 \r\nQ 24.21875 56 28.609375 56 \r\nQ 40.484375 56 46.34375 49.84375 \r\nQ 52.203125 43.703125 52.203125 31.203125 \r\nz\r\n\" id=\"DejaVuSans-97\"/>\r\n      <path d=\"M 9.421875 75.984375 \r\nL 18.40625 75.984375 \r\nL 18.40625 0 \r\nL 9.421875 0 \r\nz\r\n\" id=\"DejaVuSans-108\"/>\r\n      <path d=\"M 44.28125 53.078125 \r\nL 44.28125 44.578125 \r\nQ 40.484375 46.53125 36.375 47.5 \r\nQ 32.28125 48.484375 27.875 48.484375 \r\nQ 21.1875 48.484375 17.84375 46.4375 \r\nQ 14.5 44.390625 14.5 40.28125 \r\nQ 14.5 37.15625 16.890625 35.375 \r\nQ 19.28125 33.59375 26.515625 31.984375 \r\nL 29.59375 31.296875 \r\nQ 39.15625 29.25 43.1875 25.515625 \r\nQ 47.21875 21.78125 47.21875 15.09375 \r\nQ 47.21875 7.46875 41.1875 3.015625 \r\nQ 35.15625 -1.421875 24.609375 -1.421875 \r\nQ 20.21875 -1.421875 15.453125 -0.5625 \r\nQ 10.6875 0.296875 5.421875 2 \r\nL 5.421875 11.28125 \r\nQ 10.40625 8.6875 15.234375 7.390625 \r\nQ 20.0625 6.109375 24.8125 6.109375 \r\nQ 31.15625 6.109375 34.5625 8.28125 \r\nQ 37.984375 10.453125 37.984375 14.40625 \r\nQ 37.984375 18.0625 35.515625 20.015625 \r\nQ 33.0625 21.96875 24.703125 23.78125 \r\nL 21.578125 24.515625 \r\nQ 13.234375 26.265625 9.515625 29.90625 \r\nQ 5.8125 33.546875 5.8125 39.890625 \r\nQ 5.8125 47.609375 11.28125 51.796875 \r\nQ 16.75 56 26.8125 56 \r\nQ 31.78125 56 36.171875 55.265625 \r\nQ 40.578125 54.546875 44.28125 53.078125 \r\nz\r\n\" id=\"DejaVuSans-115\"/>\r\n     </defs>\r\n     <use xlink:href=\"#DejaVuSans-70\"/>\r\n     <use x=\"48.394531\" xlink:href=\"#DejaVuSans-97\"/>\r\n     <use x=\"109.673828\" xlink:href=\"#DejaVuSans-108\"/>\r\n     <use x=\"137.457031\" xlink:href=\"#DejaVuSans-115\"/>\r\n     <use x=\"189.556641\" xlink:href=\"#DejaVuSans-101\"/>\r\n    </g>\r\n   </g>\r\n   <g id=\"text_3\">\r\n    <!-- 53.9% -->\r\n    <g transform=\"translate(107.259552 66.894531)scale(0.1 -0.1)\">\r\n     <defs>\r\n      <path d=\"M 10.796875 72.90625 \r\nL 49.515625 72.90625 \r\nL 49.515625 64.59375 \r\nL 19.828125 64.59375 \r\nL 19.828125 46.734375 \r\nQ 21.96875 47.46875 24.109375 47.828125 \r\nQ 26.265625 48.1875 28.421875 48.1875 \r\nQ 40.625 48.1875 47.75 41.5 \r\nQ 54.890625 34.8125 54.890625 23.390625 \r\nQ 54.890625 11.625 47.5625 5.09375 \r\nQ 40.234375 -1.421875 26.90625 -1.421875 \r\nQ 22.3125 -1.421875 17.546875 -0.640625 \r\nQ 12.796875 0.140625 7.71875 1.703125 \r\nL 7.71875 11.625 \r\nQ 12.109375 9.234375 16.796875 8.0625 \r\nQ 21.484375 6.890625 26.703125 6.890625 \r\nQ 35.15625 6.890625 40.078125 11.328125 \r\nQ 45.015625 15.765625 45.015625 23.390625 \r\nQ 45.015625 31 40.078125 35.4375 \r\nQ 35.15625 39.890625 26.703125 39.890625 \r\nQ 22.75 39.890625 18.8125 39.015625 \r\nQ 14.890625 38.140625 10.796875 36.28125 \r\nz\r\n\" id=\"DejaVuSans-53\"/>\r\n      <path d=\"M 40.578125 39.3125 \r\nQ 47.65625 37.796875 51.625 33 \r\nQ 55.609375 28.21875 55.609375 21.1875 \r\nQ 55.609375 10.40625 48.1875 4.484375 \r\nQ 40.765625 -1.421875 27.09375 -1.421875 \r\nQ 22.515625 -1.421875 17.65625 -0.515625 \r\nQ 12.796875 0.390625 7.625 2.203125 \r\nL 7.625 11.71875 \r\nQ 11.71875 9.328125 16.59375 8.109375 \r\nQ 21.484375 6.890625 26.8125 6.890625 \r\nQ 36.078125 6.890625 40.9375 10.546875 \r\nQ 45.796875 14.203125 45.796875 21.1875 \r\nQ 45.796875 27.640625 41.28125 31.265625 \r\nQ 36.765625 34.90625 28.71875 34.90625 \r\nL 20.21875 34.90625 \r\nL 20.21875 43.015625 \r\nL 29.109375 43.015625 \r\nQ 36.375 43.015625 40.234375 45.921875 \r\nQ 44.09375 48.828125 44.09375 54.296875 \r\nQ 44.09375 59.90625 40.109375 62.90625 \r\nQ 36.140625 65.921875 28.71875 65.921875 \r\nQ 24.65625 65.921875 20.015625 65.03125 \r\nQ 15.375 64.15625 9.8125 62.3125 \r\nL 9.8125 71.09375 \r\nQ 15.4375 72.65625 20.34375 73.4375 \r\nQ 25.25 74.21875 29.59375 74.21875 \r\nQ 40.828125 74.21875 47.359375 69.109375 \r\nQ 53.90625 64.015625 53.90625 55.328125 \r\nQ 53.90625 49.265625 50.4375 45.09375 \r\nQ 46.96875 40.921875 40.578125 39.3125 \r\nz\r\n\" id=\"DejaVuSans-51\"/>\r\n      <path d=\"M 10.6875 12.40625 \r\nL 21 12.40625 \r\nL 21 0 \r\nL 10.6875 0 \r\nz\r\n\" id=\"DejaVuSans-46\"/>\r\n      <path d=\"M 10.984375 1.515625 \r\nL 10.984375 10.5 \r\nQ 14.703125 8.734375 18.5 7.8125 \r\nQ 22.3125 6.890625 25.984375 6.890625 \r\nQ 35.75 6.890625 40.890625 13.453125 \r\nQ 46.046875 20.015625 46.78125 33.40625 \r\nQ 43.953125 29.203125 39.59375 26.953125 \r\nQ 35.25 24.703125 29.984375 24.703125 \r\nQ 19.046875 24.703125 12.671875 31.3125 \r\nQ 6.296875 37.9375 6.296875 49.421875 \r\nQ 6.296875 60.640625 12.9375 67.421875 \r\nQ 19.578125 74.21875 30.609375 74.21875 \r\nQ 43.265625 74.21875 49.921875 64.515625 \r\nQ 56.59375 54.828125 56.59375 36.375 \r\nQ 56.59375 19.140625 48.40625 8.859375 \r\nQ 40.234375 -1.421875 26.421875 -1.421875 \r\nQ 22.703125 -1.421875 18.890625 -0.6875 \r\nQ 15.09375 0.046875 10.984375 1.515625 \r\nz\r\nM 30.609375 32.421875 \r\nQ 37.25 32.421875 41.125 36.953125 \r\nQ 45.015625 41.5 45.015625 49.421875 \r\nQ 45.015625 57.28125 41.125 61.84375 \r\nQ 37.25 66.40625 30.609375 66.40625 \r\nQ 23.96875 66.40625 20.09375 61.84375 \r\nQ 16.21875 57.28125 16.21875 49.421875 \r\nQ 16.21875 41.5 20.09375 36.953125 \r\nQ 23.96875 32.421875 30.609375 32.421875 \r\nz\r\n\" id=\"DejaVuSans-57\"/>\r\n      <path d=\"M 72.703125 32.078125 \r\nQ 68.453125 32.078125 66.03125 28.46875 \r\nQ 63.625 24.859375 63.625 18.40625 \r\nQ 63.625 12.0625 66.03125 8.421875 \r\nQ 68.453125 4.78125 72.703125 4.78125 \r\nQ 76.859375 4.78125 79.265625 8.421875 \r\nQ 81.6875 12.0625 81.6875 18.40625 \r\nQ 81.6875 24.8125 79.265625 28.4375 \r\nQ 76.859375 32.078125 72.703125 32.078125 \r\nz\r\nM 72.703125 38.28125 \r\nQ 80.421875 38.28125 84.953125 32.90625 \r\nQ 89.5 27.546875 89.5 18.40625 \r\nQ 89.5 9.28125 84.9375 3.921875 \r\nQ 80.375 -1.421875 72.703125 -1.421875 \r\nQ 64.890625 -1.421875 60.34375 3.921875 \r\nQ 55.8125 9.28125 55.8125 18.40625 \r\nQ 55.8125 27.59375 60.375 32.9375 \r\nQ 64.9375 38.28125 72.703125 38.28125 \r\nz\r\nM 22.3125 68.015625 \r\nQ 18.109375 68.015625 15.6875 64.375 \r\nQ 13.28125 60.75 13.28125 54.390625 \r\nQ 13.28125 47.953125 15.671875 44.328125 \r\nQ 18.0625 40.71875 22.3125 40.71875 \r\nQ 26.5625 40.71875 28.96875 44.328125 \r\nQ 31.390625 47.953125 31.390625 54.390625 \r\nQ 31.390625 60.6875 28.953125 64.34375 \r\nQ 26.515625 68.015625 22.3125 68.015625 \r\nz\r\nM 66.40625 74.21875 \r\nL 74.21875 74.21875 \r\nL 28.609375 -1.421875 \r\nL 20.796875 -1.421875 \r\nz\r\nM 22.3125 74.21875 \r\nQ 30.03125 74.21875 34.609375 68.875 \r\nQ 39.203125 63.53125 39.203125 54.390625 \r\nQ 39.203125 45.171875 34.640625 39.84375 \r\nQ 30.078125 34.515625 22.3125 34.515625 \r\nQ 14.546875 34.515625 10.03125 39.859375 \r\nQ 5.515625 45.21875 5.515625 54.390625 \r\nQ 5.515625 63.484375 10.046875 68.84375 \r\nQ 14.59375 74.21875 22.3125 74.21875 \r\nz\r\n\" id=\"DejaVuSans-37\"/>\r\n     </defs>\r\n     <use xlink:href=\"#DejaVuSans-53\"/>\r\n     <use x=\"63.623047\" xlink:href=\"#DejaVuSans-51\"/>\r\n     <use x=\"127.246094\" xlink:href=\"#DejaVuSans-46\"/>\r\n     <use x=\"159.033203\" xlink:href=\"#DejaVuSans-57\"/>\r\n     <use x=\"222.65625\" xlink:href=\"#DejaVuSans-37\"/>\r\n    </g>\r\n   </g>\r\n   <g id=\"text_4\">\r\n    <!-- True -->\r\n    <g transform=\"translate(141.432262 213.618255)scale(0.1 -0.1)\">\r\n     <defs>\r\n      <path d=\"M -0.296875 72.90625 \r\nL 61.375 72.90625 \r\nL 61.375 64.59375 \r\nL 35.5 64.59375 \r\nL 35.5 0 \r\nL 25.59375 0 \r\nL 25.59375 64.59375 \r\nL -0.296875 64.59375 \r\nz\r\n\" id=\"DejaVuSans-84\"/>\r\n      <path d=\"M 8.5 21.578125 \r\nL 8.5 54.6875 \r\nL 17.484375 54.6875 \r\nL 17.484375 21.921875 \r\nQ 17.484375 14.15625 20.5 10.265625 \r\nQ 23.53125 6.390625 29.59375 6.390625 \r\nQ 36.859375 6.390625 41.078125 11.03125 \r\nQ 45.3125 15.671875 45.3125 23.6875 \r\nL 45.3125 54.6875 \r\nL 54.296875 54.6875 \r\nL 54.296875 0 \r\nL 45.3125 0 \r\nL 45.3125 8.40625 \r\nQ 42.046875 3.421875 37.71875 1 \r\nQ 33.40625 -1.421875 27.6875 -1.421875 \r\nQ 18.265625 -1.421875 13.375 4.4375 \r\nQ 8.5 10.296875 8.5 21.578125 \r\nz\r\nM 31.109375 56 \r\nz\r\n\" id=\"DejaVuSans-117\"/>\r\n     </defs>\r\n     <use xlink:href=\"#DejaVuSans-84\"/>\r\n     <use x=\"46.333984\" xlink:href=\"#DejaVuSans-114\"/>\r\n     <use x=\"87.447266\" xlink:href=\"#DejaVuSans-117\"/>\r\n     <use x=\"150.826172\" xlink:href=\"#DejaVuSans-101\"/>\r\n    </g>\r\n   </g>\r\n   <g id=\"text_5\">\r\n    <!-- 46.1% -->\r\n    <g transform=\"translate(120.169515 170.464219)scale(0.1 -0.1)\">\r\n     <defs>\r\n      <path d=\"M 37.796875 64.3125 \r\nL 12.890625 25.390625 \r\nL 37.796875 25.390625 \r\nz\r\nM 35.203125 72.90625 \r\nL 47.609375 72.90625 \r\nL 47.609375 25.390625 \r\nL 58.015625 25.390625 \r\nL 58.015625 17.1875 \r\nL 47.609375 17.1875 \r\nL 47.609375 0 \r\nL 37.796875 0 \r\nL 37.796875 17.1875 \r\nL 4.890625 17.1875 \r\nL 4.890625 26.703125 \r\nz\r\n\" id=\"DejaVuSans-52\"/>\r\n      <path d=\"M 33.015625 40.375 \r\nQ 26.375 40.375 22.484375 35.828125 \r\nQ 18.609375 31.296875 18.609375 23.390625 \r\nQ 18.609375 15.53125 22.484375 10.953125 \r\nQ 26.375 6.390625 33.015625 6.390625 \r\nQ 39.65625 6.390625 43.53125 10.953125 \r\nQ 47.40625 15.53125 47.40625 23.390625 \r\nQ 47.40625 31.296875 43.53125 35.828125 \r\nQ 39.65625 40.375 33.015625 40.375 \r\nz\r\nM 52.59375 71.296875 \r\nL 52.59375 62.3125 \r\nQ 48.875 64.0625 45.09375 64.984375 \r\nQ 41.3125 65.921875 37.59375 65.921875 \r\nQ 27.828125 65.921875 22.671875 59.328125 \r\nQ 17.53125 52.734375 16.796875 39.40625 \r\nQ 19.671875 43.65625 24.015625 45.921875 \r\nQ 28.375 48.1875 33.59375 48.1875 \r\nQ 44.578125 48.1875 50.953125 41.515625 \r\nQ 57.328125 34.859375 57.328125 23.390625 \r\nQ 57.328125 12.15625 50.6875 5.359375 \r\nQ 44.046875 -1.421875 33.015625 -1.421875 \r\nQ 20.359375 -1.421875 13.671875 8.265625 \r\nQ 6.984375 17.96875 6.984375 36.375 \r\nQ 6.984375 53.65625 15.1875 63.9375 \r\nQ 23.390625 74.21875 37.203125 74.21875 \r\nQ 40.921875 74.21875 44.703125 73.484375 \r\nQ 48.484375 72.75 52.59375 71.296875 \r\nz\r\n\" id=\"DejaVuSans-54\"/>\r\n      <path d=\"M 12.40625 8.296875 \r\nL 28.515625 8.296875 \r\nL 28.515625 63.921875 \r\nL 10.984375 60.40625 \r\nL 10.984375 69.390625 \r\nL 28.421875 72.90625 \r\nL 38.28125 72.90625 \r\nL 38.28125 8.296875 \r\nL 54.390625 8.296875 \r\nL 54.390625 0 \r\nL 12.40625 0 \r\nz\r\n\" id=\"DejaVuSans-49\"/>\r\n     </defs>\r\n     <use xlink:href=\"#DejaVuSans-52\"/>\r\n     <use x=\"63.623047\" xlink:href=\"#DejaVuSans-54\"/>\r\n     <use x=\"127.246094\" xlink:href=\"#DejaVuSans-46\"/>\r\n     <use x=\"159.033203\" xlink:href=\"#DejaVuSans-49\"/>\r\n     <use x=\"222.65625\" xlink:href=\"#DejaVuSans-37\"/>\r\n    </g>\r\n   </g>\r\n  </g>\r\n </g>\r\n</svg>\r\n",
      "image/png": "[encoded data removed]"
     },
     "metadata": {}
    }
   ],
   "source": [
    "#df = data.groupby('Winner was Predicted?').agg({'Prediction':'count'})\n",
    "df = data.groupby('Winner was Predicted?')[\"Prediction\"].count()\n",
    "df_cols = pd.DataFrame(cols)\n",
    "df.plot.pie(autopct=\"%.1f%%\")\n",
    "plt.savefig('image.jpg')"
   ]
  },
  {
   "cell_type": "code",
   "execution_count": 82,
   "metadata": {},
   "outputs": [
    {
     "output_type": "execute_result",
     "data": {
      "text/plain": [
       "array(['Manchester United FC', 'Newcastle United FC', 'Fulham FC',\n",
       "       'Huddersfield Town AFC', 'Watford FC', 'AFC Bournemouth',\n",
       "       'Wolverhampton Wanderers FC', 'Liverpool FC', 'Southampton FC',\n",
       "       'Arsenal FC', 'Cardiff City FC', 'Tottenham Hotspur FC',\n",
       "       'Everton FC', 'Leicester City FC', 'West Ham United FC',\n",
       "       'Chelsea FC', 'Manchester City FC', 'Burnley FC',\n",
       "       'Brighton & Hove Albion FC', 'Crystal Palace FC', 'Aston Villa FC',\n",
       "       'Norwich City FC', 'Sheffield United FC'], dtype=object)"
      ]
     },
     "metadata": {},
     "execution_count": 82
    }
   ],
   "source": [
    "data['HomeTeamName'].unique()"
   ]
  },
  {
   "cell_type": "code",
   "execution_count": null,
   "metadata": {},
   "outputs": [],
   "source": [
    "\"\"\" \n",
    "Crystal Palace FC vs Wolverhampton Wanderers FC\n",
    "Date: 30/10/2020 - 20h\n",
    "Local: Wolverhampton \n",
    "Estádio: Molineux Stadium\n",
    "\"\"\""
   ]
  },
  {
   "cell_type": "code",
   "execution_count": 9,
   "metadata": {},
   "outputs": [
    {
     "output_type": "execute_result",
     "data": {
      "text/plain": [
       "     Unnamed: 0         Day       HomeTeamName                AwayTeamName  \\\n",
       "74           74  2018-10-06  Crystal Palace FC  Wolverhampton Wanderers FC   \n",
       "437          57  2019-09-22  Crystal Palace FC  Wolverhampton Wanderers FC   \n",
       "\n",
       "                         Winner                  Prediction  \\\n",
       "74   Wolverhampton Wanderers FC           Crystal Palace FC   \n",
       "437                         Tie  Wolverhampton Wanderers FC   \n",
       "\n",
       "     Winner was Predicted?  Right Prediction?  \n",
       "74                   False              False  \n",
       "437                  False              False  "
      ],
      "text/html": "<div>\n<style scoped>\n    .dataframe tbody tr th:only-of-type {\n        vertical-align: middle;\n    }\n\n    .dataframe tbody tr th {\n        vertical-align: top;\n    }\n\n    .dataframe thead th {\n        text-align: right;\n    }\n</style>\n<table border=\"1\" class=\"dataframe\">\n  <thead>\n    <tr style=\"text-align: right;\">\n      <th></th>\n      <th>Unnamed: 0</th>\n      <th>Day</th>\n      <th>HomeTeamName</th>\n      <th>AwayTeamName</th>\n      <th>Winner</th>\n      <th>Prediction</th>\n      <th>Winner was Predicted?</th>\n      <th>Right Prediction?</th>\n    </tr>\n  </thead>\n  <tbody>\n    <tr>\n      <th>74</th>\n      <td>74</td>\n      <td>2018-10-06</td>\n      <td>Crystal Palace FC</td>\n      <td>Wolverhampton Wanderers FC</td>\n      <td>Wolverhampton Wanderers FC</td>\n      <td>Crystal Palace FC</td>\n      <td>False</td>\n      <td>False</td>\n    </tr>\n    <tr>\n      <th>437</th>\n      <td>57</td>\n      <td>2019-09-22</td>\n      <td>Crystal Palace FC</td>\n      <td>Wolverhampton Wanderers FC</td>\n      <td>Tie</td>\n      <td>Wolverhampton Wanderers FC</td>\n      <td>False</td>\n      <td>False</td>\n    </tr>\n  </tbody>\n</table>\n</div>"
     },
     "metadata": {},
     "execution_count": 9
    }
   ],
   "source": [
    "filter_team_home = data['HomeTeamName'] == 'Crystal Palace FC'\n",
    "filter_team_away = data['AwayTeamName'] == 'Wolverhampton Wanderers FC'\n",
    "data[(filter_team_home & filter_team_away)]\n",
    "\n",
    "#Crystal never won Wolves when play at Home\n",
    "#The prediction doesn't works"
   ]
  },
  {
   "cell_type": "code",
   "execution_count": 10,
   "metadata": {},
   "outputs": [
    {
     "output_type": "execute_result",
     "data": {
      "text/plain": [
       "     Unnamed: 0         Day                HomeTeamName       AwayTeamName  \\\n",
       "203         203  2019-01-02  Wolverhampton Wanderers FC  Crystal Palace FC   \n",
       "745         365  2020-07-20  Wolverhampton Wanderers FC  Crystal Palace FC   \n",
       "\n",
       "                Winner                  Prediction  Winner was Predicted?  \\\n",
       "203  Crystal Palace FC  Wolverhampton Wanderers FC                  False   \n",
       "745                Tie  Wolverhampton Wanderers FC                  False   \n",
       "\n",
       "     Right Prediction?  \n",
       "203              False  \n",
       "745              False  "
      ],
      "text/html": "<div>\n<style scoped>\n    .dataframe tbody tr th:only-of-type {\n        vertical-align: middle;\n    }\n\n    .dataframe tbody tr th {\n        vertical-align: top;\n    }\n\n    .dataframe thead th {\n        text-align: right;\n    }\n</style>\n<table border=\"1\" class=\"dataframe\">\n  <thead>\n    <tr style=\"text-align: right;\">\n      <th></th>\n      <th>Unnamed: 0</th>\n      <th>Day</th>\n      <th>HomeTeamName</th>\n      <th>AwayTeamName</th>\n      <th>Winner</th>\n      <th>Prediction</th>\n      <th>Winner was Predicted?</th>\n      <th>Right Prediction?</th>\n    </tr>\n  </thead>\n  <tbody>\n    <tr>\n      <th>203</th>\n      <td>203</td>\n      <td>2019-01-02</td>\n      <td>Wolverhampton Wanderers FC</td>\n      <td>Crystal Palace FC</td>\n      <td>Crystal Palace FC</td>\n      <td>Wolverhampton Wanderers FC</td>\n      <td>False</td>\n      <td>False</td>\n    </tr>\n    <tr>\n      <th>745</th>\n      <td>365</td>\n      <td>2020-07-20</td>\n      <td>Wolverhampton Wanderers FC</td>\n      <td>Crystal Palace FC</td>\n      <td>Tie</td>\n      <td>Wolverhampton Wanderers FC</td>\n      <td>False</td>\n      <td>False</td>\n    </tr>\n  </tbody>\n</table>\n</div>"
     },
     "metadata": {},
     "execution_count": 10
    }
   ],
   "source": [
    "filter_team_home = data['HomeTeamName'] == 'Wolverhampton Wanderers FC'\n",
    "filter_team_away = data['AwayTeamName'] == 'Crystal Palace FC'\n",
    "data[(filter_team_home & filter_team_away)]\n",
    "\n",
    "#Wolves never won Crystal Palace at home\n",
    "#The prediction doesn't works"
   ]
  },
  {
   "cell_type": "code",
   "execution_count": null,
   "metadata": {},
   "outputs": [],
   "source": [
    "\"\"\" \n",
    "Sheffield United FC vs Manchester City FC\n",
    "Date: 31/10/2020 - 12:30h\n",
    "Local: Sheffield United\n",
    "Estádio: Bramall Lane\n",
    "\"\"\""
   ]
  },
  {
   "cell_type": "code",
   "execution_count": 15,
   "metadata": {},
   "outputs": [
    {
     "output_type": "execute_result",
     "data": {
      "text/plain": [
       "     Unnamed: 0         Day         HomeTeamName        AwayTeamName Winner  \\\n",
       "611         231  2020-01-21  Sheffield United FC  Manchester City FC    Tie   \n",
       "\n",
       "             Prediction  Winner was Predicted?  Right Prediction?  \n",
       "611  Manchester City FC                  False              False  "
      ],
      "text/html": "<div>\n<style scoped>\n    .dataframe tbody tr th:only-of-type {\n        vertical-align: middle;\n    }\n\n    .dataframe tbody tr th {\n        vertical-align: top;\n    }\n\n    .dataframe thead th {\n        text-align: right;\n    }\n</style>\n<table border=\"1\" class=\"dataframe\">\n  <thead>\n    <tr style=\"text-align: right;\">\n      <th></th>\n      <th>Unnamed: 0</th>\n      <th>Day</th>\n      <th>HomeTeamName</th>\n      <th>AwayTeamName</th>\n      <th>Winner</th>\n      <th>Prediction</th>\n      <th>Winner was Predicted?</th>\n      <th>Right Prediction?</th>\n    </tr>\n  </thead>\n  <tbody>\n    <tr>\n      <th>611</th>\n      <td>231</td>\n      <td>2020-01-21</td>\n      <td>Sheffield United FC</td>\n      <td>Manchester City FC</td>\n      <td>Tie</td>\n      <td>Manchester City FC</td>\n      <td>False</td>\n      <td>False</td>\n    </tr>\n  </tbody>\n</table>\n</div>"
     },
     "metadata": {},
     "execution_count": 15
    }
   ],
   "source": [
    "filter_team_home = data['HomeTeamName'] == 'Sheffield United FC'\n",
    "filter_team_away = data['AwayTeamName'] == 'Manchester City FC'\n",
    "data[(filter_team_home & filter_team_away)]\n",
    "\n",
    "#The prediction was wrong"
   ]
  },
  {
   "cell_type": "code",
   "execution_count": 16,
   "metadata": {},
   "outputs": [
    {
     "output_type": "execute_result",
     "data": {
      "text/plain": [
       "     Unnamed: 0         Day        HomeTeamName         AwayTeamName Winner  \\\n",
       "578         198  2019-12-29  Manchester City FC  Sheffield United FC    Tie   \n",
       "\n",
       "             Prediction  Winner was Predicted?  Right Prediction?  \n",
       "578  Manchester City FC                  False              False  "
      ],
      "text/html": "<div>\n<style scoped>\n    .dataframe tbody tr th:only-of-type {\n        vertical-align: middle;\n    }\n\n    .dataframe tbody tr th {\n        vertical-align: top;\n    }\n\n    .dataframe thead th {\n        text-align: right;\n    }\n</style>\n<table border=\"1\" class=\"dataframe\">\n  <thead>\n    <tr style=\"text-align: right;\">\n      <th></th>\n      <th>Unnamed: 0</th>\n      <th>Day</th>\n      <th>HomeTeamName</th>\n      <th>AwayTeamName</th>\n      <th>Winner</th>\n      <th>Prediction</th>\n      <th>Winner was Predicted?</th>\n      <th>Right Prediction?</th>\n    </tr>\n  </thead>\n  <tbody>\n    <tr>\n      <th>578</th>\n      <td>198</td>\n      <td>2019-12-29</td>\n      <td>Manchester City FC</td>\n      <td>Sheffield United FC</td>\n      <td>Tie</td>\n      <td>Manchester City FC</td>\n      <td>False</td>\n      <td>False</td>\n    </tr>\n  </tbody>\n</table>\n</div>"
     },
     "metadata": {},
     "execution_count": 16
    }
   ],
   "source": [
    "filter_team_home = data['HomeTeamName'] == 'Manchester City FC'\n",
    "filter_team_away = data['AwayTeamName'] == 'Sheffield United FC'\n",
    "data[(filter_team_home & filter_team_away)]"
   ]
  },
  {
   "cell_type": "code",
   "execution_count": null,
   "metadata": {},
   "outputs": [],
   "source": [
    "#prediction was wrong\n",
    "#in last 2 seasons no one wins"
   ]
  },
  {
   "cell_type": "code",
   "execution_count": null,
   "metadata": {},
   "outputs": [],
   "source": [
    "\"\"\" \n",
    "Burnley FC vs Chelsea FC\n",
    "Date: 31/10/2020 - 15h\n",
    "Local:  \n",
    "Estádio: \n",
    "\"\"\""
   ]
  },
  {
   "cell_type": "code",
   "execution_count": 20,
   "metadata": {},
   "outputs": [
    {
     "output_type": "execute_result",
     "data": {
      "text/plain": [
       "     Unnamed: 0         Day HomeTeamName AwayTeamName      Winner  Prediction  \\\n",
       "96           96  2018-10-28   Burnley FC   Chelsea FC  Chelsea FC  Chelsea FC   \n",
       "475          95  2019-10-26   Burnley FC   Chelsea FC         Tie  Chelsea FC   \n",
       "\n",
       "     Winner was Predicted?  Right Prediction?  \n",
       "96                    True               True  \n",
       "475                  False              False  "
      ],
      "text/html": "<div>\n<style scoped>\n    .dataframe tbody tr th:only-of-type {\n        vertical-align: middle;\n    }\n\n    .dataframe tbody tr th {\n        vertical-align: top;\n    }\n\n    .dataframe thead th {\n        text-align: right;\n    }\n</style>\n<table border=\"1\" class=\"dataframe\">\n  <thead>\n    <tr style=\"text-align: right;\">\n      <th></th>\n      <th>Unnamed: 0</th>\n      <th>Day</th>\n      <th>HomeTeamName</th>\n      <th>AwayTeamName</th>\n      <th>Winner</th>\n      <th>Prediction</th>\n      <th>Winner was Predicted?</th>\n      <th>Right Prediction?</th>\n    </tr>\n  </thead>\n  <tbody>\n    <tr>\n      <th>96</th>\n      <td>96</td>\n      <td>2018-10-28</td>\n      <td>Burnley FC</td>\n      <td>Chelsea FC</td>\n      <td>Chelsea FC</td>\n      <td>Chelsea FC</td>\n      <td>True</td>\n      <td>True</td>\n    </tr>\n    <tr>\n      <th>475</th>\n      <td>95</td>\n      <td>2019-10-26</td>\n      <td>Burnley FC</td>\n      <td>Chelsea FC</td>\n      <td>Tie</td>\n      <td>Chelsea FC</td>\n      <td>False</td>\n      <td>False</td>\n    </tr>\n  </tbody>\n</table>\n</div>"
     },
     "metadata": {},
     "execution_count": 20
    }
   ],
   "source": [
    "filter_team_home = data['HomeTeamName'] == 'Burnley FC'\n",
    "filter_team_away = data['AwayTeamName'] == 'Chelsea FC'\n",
    "data[(filter_team_home & filter_team_away)]\n"
   ]
  },
  {
   "cell_type": "code",
   "execution_count": 21,
   "metadata": {},
   "outputs": [
    {
     "output_type": "execute_result",
     "data": {
      "text/plain": [
       "     Unnamed: 0         Day HomeTeamName AwayTeamName      Winner  Prediction  \\\n",
       "345         345  2019-04-22   Chelsea FC   Burnley FC         Tie  Chelsea FC   \n",
       "592         212  2020-01-11   Chelsea FC   Burnley FC  Chelsea FC  Chelsea FC   \n",
       "\n",
       "     Winner was Predicted?  Right Prediction?  \n",
       "345                  False              False  \n",
       "592                   True               True  "
      ],
      "text/html": "<div>\n<style scoped>\n    .dataframe tbody tr th:only-of-type {\n        vertical-align: middle;\n    }\n\n    .dataframe tbody tr th {\n        vertical-align: top;\n    }\n\n    .dataframe thead th {\n        text-align: right;\n    }\n</style>\n<table border=\"1\" class=\"dataframe\">\n  <thead>\n    <tr style=\"text-align: right;\">\n      <th></th>\n      <th>Unnamed: 0</th>\n      <th>Day</th>\n      <th>HomeTeamName</th>\n      <th>AwayTeamName</th>\n      <th>Winner</th>\n      <th>Prediction</th>\n      <th>Winner was Predicted?</th>\n      <th>Right Prediction?</th>\n    </tr>\n  </thead>\n  <tbody>\n    <tr>\n      <th>345</th>\n      <td>345</td>\n      <td>2019-04-22</td>\n      <td>Chelsea FC</td>\n      <td>Burnley FC</td>\n      <td>Tie</td>\n      <td>Chelsea FC</td>\n      <td>False</td>\n      <td>False</td>\n    </tr>\n    <tr>\n      <th>592</th>\n      <td>212</td>\n      <td>2020-01-11</td>\n      <td>Chelsea FC</td>\n      <td>Burnley FC</td>\n      <td>Chelsea FC</td>\n      <td>Chelsea FC</td>\n      <td>True</td>\n      <td>True</td>\n    </tr>\n  </tbody>\n</table>\n</div>"
     },
     "metadata": {},
     "execution_count": 21
    }
   ],
   "source": [
    "filter_team_home = data['HomeTeamName'] == 'Chelsea FC'\n",
    "filter_team_away = data['AwayTeamName'] == 'Burnley FC'\n",
    "data[(filter_team_home & filter_team_away)]"
   ]
  },
  {
   "cell_type": "code",
   "execution_count": null,
   "metadata": {},
   "outputs": [],
   "source": [
    "\"\"\" \n",
    "Liverpool FC vs West Ham United FC\n",
    "Date: 31/10/2020 - 17:30h\n",
    "Local:  \n",
    "Estádio: \n",
    "\"\"\""
   ]
  },
  {
   "cell_type": "code",
   "execution_count": 22,
   "metadata": {},
   "outputs": [
    {
     "output_type": "execute_result",
     "data": {
      "text/plain": [
       "     Unnamed: 0         Day  HomeTeamName        AwayTeamName        Winner  \\\n",
       "7             7  2018-08-12  Liverpool FC  West Ham United FC  Liverpool FC   \n",
       "649         269  2020-02-24  Liverpool FC  West Ham United FC  Liverpool FC   \n",
       "\n",
       "       Prediction  Winner was Predicted?  Right Prediction?  \n",
       "7    Liverpool FC                   True               True  \n",
       "649  Liverpool FC                   True               True  "
      ],
      "text/html": "<div>\n<style scoped>\n    .dataframe tbody tr th:only-of-type {\n        vertical-align: middle;\n    }\n\n    .dataframe tbody tr th {\n        vertical-align: top;\n    }\n\n    .dataframe thead th {\n        text-align: right;\n    }\n</style>\n<table border=\"1\" class=\"dataframe\">\n  <thead>\n    <tr style=\"text-align: right;\">\n      <th></th>\n      <th>Unnamed: 0</th>\n      <th>Day</th>\n      <th>HomeTeamName</th>\n      <th>AwayTeamName</th>\n      <th>Winner</th>\n      <th>Prediction</th>\n      <th>Winner was Predicted?</th>\n      <th>Right Prediction?</th>\n    </tr>\n  </thead>\n  <tbody>\n    <tr>\n      <th>7</th>\n      <td>7</td>\n      <td>2018-08-12</td>\n      <td>Liverpool FC</td>\n      <td>West Ham United FC</td>\n      <td>Liverpool FC</td>\n      <td>Liverpool FC</td>\n      <td>True</td>\n      <td>True</td>\n    </tr>\n    <tr>\n      <th>649</th>\n      <td>269</td>\n      <td>2020-02-24</td>\n      <td>Liverpool FC</td>\n      <td>West Ham United FC</td>\n      <td>Liverpool FC</td>\n      <td>Liverpool FC</td>\n      <td>True</td>\n      <td>True</td>\n    </tr>\n  </tbody>\n</table>\n</div>"
     },
     "metadata": {},
     "execution_count": 22
    }
   ],
   "source": [
    "filter_team_home = data['HomeTeamName'] == 'Liverpool FC'\n",
    "filter_team_away = data['AwayTeamName'] == 'West Ham United FC'\n",
    "data[(filter_team_home & filter_team_away)]\n"
   ]
  },
  {
   "cell_type": "code",
   "execution_count": 23,
   "metadata": {},
   "outputs": [
    {
     "output_type": "execute_result",
     "data": {
      "text/plain": [
       "     Unnamed: 0         Day        HomeTeamName  AwayTeamName        Winner  \\\n",
       "249         249  2019-02-04  West Ham United FC  Liverpool FC           Tie   \n",
       "619         239  2020-01-29  West Ham United FC  Liverpool FC  Liverpool FC   \n",
       "\n",
       "       Prediction  Winner was Predicted?  Right Prediction?  \n",
       "249  Liverpool FC                  False              False  \n",
       "619  Liverpool FC                   True               True  "
      ],
      "text/html": "<div>\n<style scoped>\n    .dataframe tbody tr th:only-of-type {\n        vertical-align: middle;\n    }\n\n    .dataframe tbody tr th {\n        vertical-align: top;\n    }\n\n    .dataframe thead th {\n        text-align: right;\n    }\n</style>\n<table border=\"1\" class=\"dataframe\">\n  <thead>\n    <tr style=\"text-align: right;\">\n      <th></th>\n      <th>Unnamed: 0</th>\n      <th>Day</th>\n      <th>HomeTeamName</th>\n      <th>AwayTeamName</th>\n      <th>Winner</th>\n      <th>Prediction</th>\n      <th>Winner was Predicted?</th>\n      <th>Right Prediction?</th>\n    </tr>\n  </thead>\n  <tbody>\n    <tr>\n      <th>249</th>\n      <td>249</td>\n      <td>2019-02-04</td>\n      <td>West Ham United FC</td>\n      <td>Liverpool FC</td>\n      <td>Tie</td>\n      <td>Liverpool FC</td>\n      <td>False</td>\n      <td>False</td>\n    </tr>\n    <tr>\n      <th>619</th>\n      <td>239</td>\n      <td>2020-01-29</td>\n      <td>West Ham United FC</td>\n      <td>Liverpool FC</td>\n      <td>Liverpool FC</td>\n      <td>Liverpool FC</td>\n      <td>True</td>\n      <td>True</td>\n    </tr>\n  </tbody>\n</table>\n</div>"
     },
     "metadata": {},
     "execution_count": 23
    }
   ],
   "source": [
    "filter_team_home = data['HomeTeamName'] == 'West Ham United FC'\n",
    "filter_team_away = data['AwayTeamName'] == 'Liverpool FC'\n",
    "data[(filter_team_home & filter_team_away)]"
   ]
  },
  {
   "cell_type": "code",
   "execution_count": null,
   "metadata": {},
   "outputs": [],
   "source": [
    "\"\"\" \n",
    "Aston Villa FC vs Southampton FC\n",
    "Date: 01/11/2020 - 12h\n",
    "Local:  \n",
    "Estádio: \n",
    "\"\"\""
   ]
  },
  {
   "cell_type": "code",
   "execution_count": 24,
   "metadata": {},
   "outputs": [
    {
     "output_type": "execute_result",
     "data": {
      "text/plain": [
       "     Unnamed: 0         Day    HomeTeamName    AwayTeamName          Winner  \\\n",
       "551         171  2019-12-21  Aston Villa FC  Southampton FC  Southampton FC   \n",
       "\n",
       "         Prediction  Winner was Predicted?  Right Prediction?  \n",
       "551  Aston Villa FC                  False              False  "
      ],
      "text/html": "<div>\n<style scoped>\n    .dataframe tbody tr th:only-of-type {\n        vertical-align: middle;\n    }\n\n    .dataframe tbody tr th {\n        vertical-align: top;\n    }\n\n    .dataframe thead th {\n        text-align: right;\n    }\n</style>\n<table border=\"1\" class=\"dataframe\">\n  <thead>\n    <tr style=\"text-align: right;\">\n      <th></th>\n      <th>Unnamed: 0</th>\n      <th>Day</th>\n      <th>HomeTeamName</th>\n      <th>AwayTeamName</th>\n      <th>Winner</th>\n      <th>Prediction</th>\n      <th>Winner was Predicted?</th>\n      <th>Right Prediction?</th>\n    </tr>\n  </thead>\n  <tbody>\n    <tr>\n      <th>551</th>\n      <td>171</td>\n      <td>2019-12-21</td>\n      <td>Aston Villa FC</td>\n      <td>Southampton FC</td>\n      <td>Southampton FC</td>\n      <td>Aston Villa FC</td>\n      <td>False</td>\n      <td>False</td>\n    </tr>\n  </tbody>\n</table>\n</div>"
     },
     "metadata": {},
     "execution_count": 24
    }
   ],
   "source": [
    "filter_team_home = data['HomeTeamName'] == 'Aston Villa FC'\n",
    "filter_team_away = data['AwayTeamName'] == 'Southampton FC'\n",
    "data[(filter_team_home & filter_team_away)]"
   ]
  },
  {
   "cell_type": "code",
   "execution_count": 25,
   "metadata": {},
   "outputs": [
    {
     "output_type": "execute_result",
     "data": {
      "text/plain": [
       "     Unnamed: 0         Day    HomeTeamName    AwayTeamName Winner  \\\n",
       "643         263  2020-02-22  Southampton FC  Aston Villa FC    Tie   \n",
       "\n",
       "         Prediction  Winner was Predicted?  Right Prediction?  \n",
       "643  Southampton FC                  False              False  "
      ],
      "text/html": "<div>\n<style scoped>\n    .dataframe tbody tr th:only-of-type {\n        vertical-align: middle;\n    }\n\n    .dataframe tbody tr th {\n        vertical-align: top;\n    }\n\n    .dataframe thead th {\n        text-align: right;\n    }\n</style>\n<table border=\"1\" class=\"dataframe\">\n  <thead>\n    <tr style=\"text-align: right;\">\n      <th></th>\n      <th>Unnamed: 0</th>\n      <th>Day</th>\n      <th>HomeTeamName</th>\n      <th>AwayTeamName</th>\n      <th>Winner</th>\n      <th>Prediction</th>\n      <th>Winner was Predicted?</th>\n      <th>Right Prediction?</th>\n    </tr>\n  </thead>\n  <tbody>\n    <tr>\n      <th>643</th>\n      <td>263</td>\n      <td>2020-02-22</td>\n      <td>Southampton FC</td>\n      <td>Aston Villa FC</td>\n      <td>Tie</td>\n      <td>Southampton FC</td>\n      <td>False</td>\n      <td>False</td>\n    </tr>\n  </tbody>\n</table>\n</div>"
     },
     "metadata": {},
     "execution_count": 25
    }
   ],
   "source": [
    "filter_team_home = data['HomeTeamName'] == 'Southampton FC'\n",
    "filter_team_away = data['AwayTeamName'] == 'Aston Villa FC'\n",
    "data[(filter_team_home & filter_team_away)]"
   ]
  },
  {
   "cell_type": "code",
   "execution_count": null,
   "metadata": {},
   "outputs": [],
   "source": [
    "\"\"\" \n",
    "Newcastle United FC vs Everton FC\n",
    "Date: 01/11/2020 - 14h\n",
    "Local:  \n",
    "Estádio: \n",
    "\"\"\""
   ]
  },
  {
   "cell_type": "code",
   "execution_count": 26,
   "metadata": {},
   "outputs": [
    {
     "output_type": "execute_result",
     "data": {
      "text/plain": [
       "     Unnamed: 0         Day         HomeTeamName AwayTeamName  \\\n",
       "290         290  2019-03-09  Newcastle United FC   Everton FC   \n",
       "570         190  2019-12-28  Newcastle United FC   Everton FC   \n",
       "\n",
       "                  Winner           Prediction  Winner was Predicted?  \\\n",
       "290  Newcastle United FC  Newcastle United FC                   True   \n",
       "570           Everton FC           Everton FC                   True   \n",
       "\n",
       "     Right Prediction?  \n",
       "290               True  \n",
       "570               True  "
      ],
      "text/html": "<div>\n<style scoped>\n    .dataframe tbody tr th:only-of-type {\n        vertical-align: middle;\n    }\n\n    .dataframe tbody tr th {\n        vertical-align: top;\n    }\n\n    .dataframe thead th {\n        text-align: right;\n    }\n</style>\n<table border=\"1\" class=\"dataframe\">\n  <thead>\n    <tr style=\"text-align: right;\">\n      <th></th>\n      <th>Unnamed: 0</th>\n      <th>Day</th>\n      <th>HomeTeamName</th>\n      <th>AwayTeamName</th>\n      <th>Winner</th>\n      <th>Prediction</th>\n      <th>Winner was Predicted?</th>\n      <th>Right Prediction?</th>\n    </tr>\n  </thead>\n  <tbody>\n    <tr>\n      <th>290</th>\n      <td>290</td>\n      <td>2019-03-09</td>\n      <td>Newcastle United FC</td>\n      <td>Everton FC</td>\n      <td>Newcastle United FC</td>\n      <td>Newcastle United FC</td>\n      <td>True</td>\n      <td>True</td>\n    </tr>\n    <tr>\n      <th>570</th>\n      <td>190</td>\n      <td>2019-12-28</td>\n      <td>Newcastle United FC</td>\n      <td>Everton FC</td>\n      <td>Everton FC</td>\n      <td>Everton FC</td>\n      <td>True</td>\n      <td>True</td>\n    </tr>\n  </tbody>\n</table>\n</div>"
     },
     "metadata": {},
     "execution_count": 26
    }
   ],
   "source": [
    "filter_team_home = data['HomeTeamName'] == 'Newcastle United FC'\n",
    "filter_team_away = data['AwayTeamName'] == 'Everton FC'\n",
    "data[(filter_team_home & filter_team_away)]"
   ]
  },
  {
   "cell_type": "code",
   "execution_count": 27,
   "metadata": {},
   "outputs": [
    {
     "output_type": "execute_result",
     "data": {
      "text/plain": [
       "     Unnamed: 0         Day HomeTeamName         AwayTeamName Winner  \\\n",
       "147         147  2018-12-05   Everton FC  Newcastle United FC    Tie   \n",
       "610         230  2020-01-21   Everton FC  Newcastle United FC    Tie   \n",
       "\n",
       "     Prediction  Winner was Predicted?  Right Prediction?  \n",
       "147  Everton FC                  False              False  \n",
       "610  Everton FC                  False              False  "
      ],
      "text/html": "<div>\n<style scoped>\n    .dataframe tbody tr th:only-of-type {\n        vertical-align: middle;\n    }\n\n    .dataframe tbody tr th {\n        vertical-align: top;\n    }\n\n    .dataframe thead th {\n        text-align: right;\n    }\n</style>\n<table border=\"1\" class=\"dataframe\">\n  <thead>\n    <tr style=\"text-align: right;\">\n      <th></th>\n      <th>Unnamed: 0</th>\n      <th>Day</th>\n      <th>HomeTeamName</th>\n      <th>AwayTeamName</th>\n      <th>Winner</th>\n      <th>Prediction</th>\n      <th>Winner was Predicted?</th>\n      <th>Right Prediction?</th>\n    </tr>\n  </thead>\n  <tbody>\n    <tr>\n      <th>147</th>\n      <td>147</td>\n      <td>2018-12-05</td>\n      <td>Everton FC</td>\n      <td>Newcastle United FC</td>\n      <td>Tie</td>\n      <td>Everton FC</td>\n      <td>False</td>\n      <td>False</td>\n    </tr>\n    <tr>\n      <th>610</th>\n      <td>230</td>\n      <td>2020-01-21</td>\n      <td>Everton FC</td>\n      <td>Newcastle United FC</td>\n      <td>Tie</td>\n      <td>Everton FC</td>\n      <td>False</td>\n      <td>False</td>\n    </tr>\n  </tbody>\n</table>\n</div>"
     },
     "metadata": {},
     "execution_count": 27
    }
   ],
   "source": [
    "filter_team_home = data['HomeTeamName'] == 'Everton FC'\n",
    "filter_team_away = data['AwayTeamName'] == 'Newcastle United FC'\n",
    "data[(filter_team_home & filter_team_away)]"
   ]
  },
  {
   "cell_type": "code",
   "execution_count": 39,
   "metadata": {},
   "outputs": [
    {
     "output_type": "execute_result",
     "data": {
      "text/plain": [
       "       Winner\n",
       "False      57\n",
       "True        1"
      ],
      "text/html": "<div>\n<style scoped>\n    .dataframe tbody tr th:only-of-type {\n        vertical-align: middle;\n    }\n\n    .dataframe tbody tr th {\n        vertical-align: top;\n    }\n\n    .dataframe thead th {\n        text-align: right;\n    }\n</style>\n<table border=\"1\" class=\"dataframe\">\n  <thead>\n    <tr style=\"text-align: right;\">\n      <th></th>\n      <th>Winner</th>\n    </tr>\n  </thead>\n  <tbody>\n    <tr>\n      <th>False</th>\n      <td>57</td>\n    </tr>\n    <tr>\n      <th>True</th>\n      <td>1</td>\n    </tr>\n  </tbody>\n</table>\n</div>"
     },
     "metadata": {},
     "execution_count": 39
    }
   ],
   "source": [
    "data2021.groupby((data2021['HomeTeamName'] == 'Newcastle United FC') & (data2021['Winner'] == 'Newcastle United FC')).agg({'Winner':'count'})"
   ]
  },
  {
   "cell_type": "code",
   "execution_count": 40,
   "metadata": {},
   "outputs": [
    {
     "output_type": "execute_result",
     "data": {
      "text/plain": [
       "       Winner\n",
       "False      56\n",
       "True        2"
      ],
      "text/html": "<div>\n<style scoped>\n    .dataframe tbody tr th:only-of-type {\n        vertical-align: middle;\n    }\n\n    .dataframe tbody tr th {\n        vertical-align: top;\n    }\n\n    .dataframe thead th {\n        text-align: right;\n    }\n</style>\n<table border=\"1\" class=\"dataframe\">\n  <thead>\n    <tr style=\"text-align: right;\">\n      <th></th>\n      <th>Winner</th>\n    </tr>\n  </thead>\n  <tbody>\n    <tr>\n      <th>False</th>\n      <td>56</td>\n    </tr>\n    <tr>\n      <th>True</th>\n      <td>2</td>\n    </tr>\n  </tbody>\n</table>\n</div>"
     },
     "metadata": {},
     "execution_count": 40
    }
   ],
   "source": [
    "data2021.groupby((data2021['AwayTeamName'] == 'Everton FC') & (data2021['Winner'] == 'Everton FC')).agg({'Winner':'count'})"
   ]
  },
  {
   "cell_type": "code",
   "execution_count": null,
   "metadata": {},
   "outputs": [],
   "source": [
    "\"\"\" \n",
    "Manchester United FC vs Arsenal FC\n",
    "Date: 01/11/2020 - 16:30h\n",
    "Local:  \n",
    "Estádio: \n",
    "\"\"\""
   ]
  },
  {
   "cell_type": "code",
   "execution_count": 41,
   "metadata": {},
   "outputs": [
    {
     "output_type": "execute_result",
     "data": {
      "text/plain": [
       "     Unnamed: 0         Day          HomeTeamName AwayTeamName Winner  \\\n",
       "148         148  2018-12-05  Manchester United FC   Arsenal FC    Tie   \n",
       "449          69  2019-09-30  Manchester United FC   Arsenal FC    Tie   \n",
       "\n",
       "               Prediction  Winner was Predicted?  Right Prediction?  \n",
       "148  Manchester United FC                  False              False  \n",
       "449  Manchester United FC                  False              False  "
      ],
      "text/html": "<div>\n<style scoped>\n    .dataframe tbody tr th:only-of-type {\n        vertical-align: middle;\n    }\n\n    .dataframe tbody tr th {\n        vertical-align: top;\n    }\n\n    .dataframe thead th {\n        text-align: right;\n    }\n</style>\n<table border=\"1\" class=\"dataframe\">\n  <thead>\n    <tr style=\"text-align: right;\">\n      <th></th>\n      <th>Unnamed: 0</th>\n      <th>Day</th>\n      <th>HomeTeamName</th>\n      <th>AwayTeamName</th>\n      <th>Winner</th>\n      <th>Prediction</th>\n      <th>Winner was Predicted?</th>\n      <th>Right Prediction?</th>\n    </tr>\n  </thead>\n  <tbody>\n    <tr>\n      <th>148</th>\n      <td>148</td>\n      <td>2018-12-05</td>\n      <td>Manchester United FC</td>\n      <td>Arsenal FC</td>\n      <td>Tie</td>\n      <td>Manchester United FC</td>\n      <td>False</td>\n      <td>False</td>\n    </tr>\n    <tr>\n      <th>449</th>\n      <td>69</td>\n      <td>2019-09-30</td>\n      <td>Manchester United FC</td>\n      <td>Arsenal FC</td>\n      <td>Tie</td>\n      <td>Manchester United FC</td>\n      <td>False</td>\n      <td>False</td>\n    </tr>\n  </tbody>\n</table>\n</div>"
     },
     "metadata": {},
     "execution_count": 41
    }
   ],
   "source": [
    "filter_team_home = data['HomeTeamName'] == 'Manchester United FC'\n",
    "filter_team_away = data['AwayTeamName'] == 'Arsenal FC'\n",
    "data[(filter_team_home & filter_team_away)]"
   ]
  },
  {
   "cell_type": "code",
   "execution_count": 42,
   "metadata": {},
   "outputs": [
    {
     "output_type": "execute_result",
     "data": {
      "text/plain": [
       "     Unnamed: 0         Day HomeTeamName          AwayTeamName      Winner  \\\n",
       "298         298  2019-03-10   Arsenal FC  Manchester United FC         Tie   \n",
       "587         207  2020-01-01   Arsenal FC  Manchester United FC  Arsenal FC   \n",
       "\n",
       "               Prediction  Winner was Predicted?  Right Prediction?  \n",
       "298            Arsenal FC                  False              False  \n",
       "587  Manchester United FC                  False              False  "
      ],
      "text/html": "<div>\n<style scoped>\n    .dataframe tbody tr th:only-of-type {\n        vertical-align: middle;\n    }\n\n    .dataframe tbody tr th {\n        vertical-align: top;\n    }\n\n    .dataframe thead th {\n        text-align: right;\n    }\n</style>\n<table border=\"1\" class=\"dataframe\">\n  <thead>\n    <tr style=\"text-align: right;\">\n      <th></th>\n      <th>Unnamed: 0</th>\n      <th>Day</th>\n      <th>HomeTeamName</th>\n      <th>AwayTeamName</th>\n      <th>Winner</th>\n      <th>Prediction</th>\n      <th>Winner was Predicted?</th>\n      <th>Right Prediction?</th>\n    </tr>\n  </thead>\n  <tbody>\n    <tr>\n      <th>298</th>\n      <td>298</td>\n      <td>2019-03-10</td>\n      <td>Arsenal FC</td>\n      <td>Manchester United FC</td>\n      <td>Tie</td>\n      <td>Arsenal FC</td>\n      <td>False</td>\n      <td>False</td>\n    </tr>\n    <tr>\n      <th>587</th>\n      <td>207</td>\n      <td>2020-01-01</td>\n      <td>Arsenal FC</td>\n      <td>Manchester United FC</td>\n      <td>Arsenal FC</td>\n      <td>Manchester United FC</td>\n      <td>False</td>\n      <td>False</td>\n    </tr>\n  </tbody>\n</table>\n</div>"
     },
     "metadata": {},
     "execution_count": 42
    }
   ],
   "source": [
    "filter_team_home = data['HomeTeamName'] == 'Arsenal FC'\n",
    "filter_team_away = data['AwayTeamName'] == 'Manchester United FC'\n",
    "data[(filter_team_home & filter_team_away)]"
   ]
  },
  {
   "cell_type": "code",
   "execution_count": null,
   "metadata": {},
   "outputs": [],
   "source": [
    "\"\"\" \n",
    "Tottenham Hotspur FC vs Brighton & Hove Albion FC\n",
    "Date: 01/11/2020 - 19:15h\n",
    "Local:  \n",
    "Estádio: \n",
    "\"\"\""
   ]
  },
  {
   "cell_type": "code",
   "execution_count": 43,
   "metadata": {},
   "outputs": [
    {
     "output_type": "execute_result",
     "data": {
      "text/plain": [
       "     Unnamed: 0         Day          HomeTeamName               AwayTeamName  \\\n",
       "347         347  2019-04-23  Tottenham Hotspur FC  Brighton & Hove Albion FC   \n",
       "559         179  2019-12-26  Tottenham Hotspur FC  Brighton & Hove Albion FC   \n",
       "\n",
       "                   Winner            Prediction  Winner was Predicted?  \\\n",
       "347                   Tie  Tottenham Hotspur FC                  False   \n",
       "559  Tottenham Hotspur FC  Tottenham Hotspur FC                   True   \n",
       "\n",
       "     Right Prediction?  \n",
       "347              False  \n",
       "559               True  "
      ],
      "text/html": "<div>\n<style scoped>\n    .dataframe tbody tr th:only-of-type {\n        vertical-align: middle;\n    }\n\n    .dataframe tbody tr th {\n        vertical-align: top;\n    }\n\n    .dataframe thead th {\n        text-align: right;\n    }\n</style>\n<table border=\"1\" class=\"dataframe\">\n  <thead>\n    <tr style=\"text-align: right;\">\n      <th></th>\n      <th>Unnamed: 0</th>\n      <th>Day</th>\n      <th>HomeTeamName</th>\n      <th>AwayTeamName</th>\n      <th>Winner</th>\n      <th>Prediction</th>\n      <th>Winner was Predicted?</th>\n      <th>Right Prediction?</th>\n    </tr>\n  </thead>\n  <tbody>\n    <tr>\n      <th>347</th>\n      <td>347</td>\n      <td>2019-04-23</td>\n      <td>Tottenham Hotspur FC</td>\n      <td>Brighton &amp; Hove Albion FC</td>\n      <td>Tie</td>\n      <td>Tottenham Hotspur FC</td>\n      <td>False</td>\n      <td>False</td>\n    </tr>\n    <tr>\n      <th>559</th>\n      <td>179</td>\n      <td>2019-12-26</td>\n      <td>Tottenham Hotspur FC</td>\n      <td>Brighton &amp; Hove Albion FC</td>\n      <td>Tottenham Hotspur FC</td>\n      <td>Tottenham Hotspur FC</td>\n      <td>True</td>\n      <td>True</td>\n    </tr>\n  </tbody>\n</table>\n</div>"
     },
     "metadata": {},
     "execution_count": 43
    }
   ],
   "source": [
    "filter_team_home = data['HomeTeamName'] == 'Tottenham Hotspur FC'\n",
    "filter_team_away = data['AwayTeamName'] == 'Brighton & Hove Albion FC'\n",
    "data[(filter_team_home & filter_team_away)]"
   ]
  },
  {
   "cell_type": "code",
   "execution_count": 44,
   "metadata": {},
   "outputs": [
    {
     "output_type": "execute_result",
     "data": {
      "text/plain": [
       "     Unnamed: 0         Day               HomeTeamName          AwayTeamName  \\\n",
       "57           57  2018-09-22  Brighton & Hove Albion FC  Tottenham Hotspur FC   \n",
       "450          70  2019-10-05  Brighton & Hove Albion FC  Tottenham Hotspur FC   \n",
       "\n",
       "                        Winner            Prediction  Winner was Predicted?  \\\n",
       "57        Tottenham Hotspur FC  Tottenham Hotspur FC                   True   \n",
       "450  Brighton & Hove Albion FC  Tottenham Hotspur FC                  False   \n",
       "\n",
       "     Right Prediction?  \n",
       "57                True  \n",
       "450              False  "
      ],
      "text/html": "<div>\n<style scoped>\n    .dataframe tbody tr th:only-of-type {\n        vertical-align: middle;\n    }\n\n    .dataframe tbody tr th {\n        vertical-align: top;\n    }\n\n    .dataframe thead th {\n        text-align: right;\n    }\n</style>\n<table border=\"1\" class=\"dataframe\">\n  <thead>\n    <tr style=\"text-align: right;\">\n      <th></th>\n      <th>Unnamed: 0</th>\n      <th>Day</th>\n      <th>HomeTeamName</th>\n      <th>AwayTeamName</th>\n      <th>Winner</th>\n      <th>Prediction</th>\n      <th>Winner was Predicted?</th>\n      <th>Right Prediction?</th>\n    </tr>\n  </thead>\n  <tbody>\n    <tr>\n      <th>57</th>\n      <td>57</td>\n      <td>2018-09-22</td>\n      <td>Brighton &amp; Hove Albion FC</td>\n      <td>Tottenham Hotspur FC</td>\n      <td>Tottenham Hotspur FC</td>\n      <td>Tottenham Hotspur FC</td>\n      <td>True</td>\n      <td>True</td>\n    </tr>\n    <tr>\n      <th>450</th>\n      <td>70</td>\n      <td>2019-10-05</td>\n      <td>Brighton &amp; Hove Albion FC</td>\n      <td>Tottenham Hotspur FC</td>\n      <td>Brighton &amp; Hove Albion FC</td>\n      <td>Tottenham Hotspur FC</td>\n      <td>False</td>\n      <td>False</td>\n    </tr>\n  </tbody>\n</table>\n</div>"
     },
     "metadata": {},
     "execution_count": 44
    }
   ],
   "source": [
    "filter_team_home = data['HomeTeamName'] == 'Brighton & Hove Albion FC'\n",
    "filter_team_away = data['AwayTeamName'] == 'Tottenham Hotspur FC'\n",
    "data[(filter_team_home & filter_team_away)]"
   ]
  },
  {
   "cell_type": "code",
   "execution_count": 46,
   "metadata": {},
   "outputs": [
    {
     "output_type": "execute_result",
     "data": {
      "text/plain": [
       "       Winner\n",
       "False      58"
      ],
      "text/html": "<div>\n<style scoped>\n    .dataframe tbody tr th:only-of-type {\n        vertical-align: middle;\n    }\n\n    .dataframe tbody tr th {\n        vertical-align: top;\n    }\n\n    .dataframe thead th {\n        text-align: right;\n    }\n</style>\n<table border=\"1\" class=\"dataframe\">\n  <thead>\n    <tr style=\"text-align: right;\">\n      <th></th>\n      <th>Winner</th>\n    </tr>\n  </thead>\n  <tbody>\n    <tr>\n      <th>False</th>\n      <td>58</td>\n    </tr>\n  </tbody>\n</table>\n</div>"
     },
     "metadata": {},
     "execution_count": 46
    }
   ],
   "source": [
    "data2021.groupby((data2021['HomeTeamName'] == 'Tottenham Hotspur FC') & (data2021['Winner'] == 'Tottenham Hotspur FC')).agg({'Winner':'count'})"
   ]
  },
  {
   "cell_type": "code",
   "execution_count": 47,
   "metadata": {},
   "outputs": [
    {
     "output_type": "execute_result",
     "data": {
      "text/plain": [
       "       Winner\n",
       "False      58"
      ],
      "text/html": "<div>\n<style scoped>\n    .dataframe tbody tr th:only-of-type {\n        vertical-align: middle;\n    }\n\n    .dataframe tbody tr th {\n        vertical-align: top;\n    }\n\n    .dataframe thead th {\n        text-align: right;\n    }\n</style>\n<table border=\"1\" class=\"dataframe\">\n  <thead>\n    <tr style=\"text-align: right;\">\n      <th></th>\n      <th>Winner</th>\n    </tr>\n  </thead>\n  <tbody>\n    <tr>\n      <th>False</th>\n      <td>58</td>\n    </tr>\n  </tbody>\n</table>\n</div>"
     },
     "metadata": {},
     "execution_count": 47
    }
   ],
   "source": [
    "data2021.groupby((data2021['HomeTeamName'] == 'Brighton & Hove Albion FC') & (data2021['Winner'] == 'Brighton & Hove Albion FC')).agg({'Winner':'count'})"
   ]
  },
  {
   "cell_type": "code",
   "execution_count": null,
   "metadata": {},
   "outputs": [],
   "source": []
  }
 ]
}